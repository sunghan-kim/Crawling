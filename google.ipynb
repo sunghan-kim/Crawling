{
 "cells": [
  {
   "cell_type": "code",
   "execution_count": 15,
   "metadata": {},
   "outputs": [
    {
     "name": "stdout",
     "output_type": "stream",
     "text": [
      "{}\n"
     ]
    }
   ],
   "source": [
    "from selenium import webdriver\n",
    "\n",
    "#driver = webdriver.PhantomJS(\"C:/shkim/util/phantomjs-2.1.1-windows/bin/phantomjs.exe\")\n",
    "driver = webdriver.Chrome(\"C:/shkim/util/chromedriver/chromedriver.exe\")\n",
    "\n",
    "driver.get(\"https://www.google.com/search?q=test\")\n",
    "\n",
    "results = driver.find_elements_by_css_selector('div.g')\n",
    "link = results[0].find_element_by_tag_name(\"a\")\n",
    "\n",
    "href = link.get_attribute(\"href\")\n",
    "\n",
    "import urllib.parse as urlparse\n",
    "\n",
    "print(urlparse.parse_qs(urlparse.urlparse(href).query))"
   ]
  },
  {
   "cell_type": "code",
   "execution_count": null,
   "metadata": {},
   "outputs": [],
   "source": []
  }
 ],
 "metadata": {
  "kernelspec": {
   "display_name": "Python 3",
   "language": "python",
   "name": "python3"
  },
  "language_info": {
   "codemirror_mode": {
    "name": "ipython",
    "version": 3
   },
   "file_extension": ".py",
   "mimetype": "text/x-python",
   "name": "python",
   "nbconvert_exporter": "python",
   "pygments_lexer": "ipython3",
   "version": "3.6.8"
  }
 },
 "nbformat": 4,
 "nbformat_minor": 2
}
