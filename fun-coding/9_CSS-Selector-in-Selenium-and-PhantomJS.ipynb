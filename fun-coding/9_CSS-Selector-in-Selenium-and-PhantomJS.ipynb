{
 "cells": [
  {
   "cell_type": "markdown",
   "metadata": {},
   "source": [
    "# 9. Selenium과 PhantomJS에서 CSS3 Selector 이용하기\n",
    "\n",
    "- docs : [http://saucelabs.com/resources/articles/selenium-tips-css-selectors](http://saucelabs.com/resources/articles/selenium-tips-css-selectors)"
   ]
  },
  {
   "cell_type": "code",
   "execution_count": 2,
   "metadata": {},
   "outputs": [],
   "source": [
    "import warnings\n",
    "warnings.filterwarnings('ignore')"
   ]
  },
  {
   "cell_type": "markdown",
   "metadata": {},
   "source": [
    "<br>\n",
    "\n",
    "## 9.1 `find_element_by_css_selector(\"태그명.클래스명\")`\n",
    "\n",
    "- 클래스로 찾기\n",
    "- 클래스명 앞에 `.`를 붙임"
   ]
  },
  {
   "cell_type": "code",
   "execution_count": 4,
   "metadata": {},
   "outputs": [
    {
     "name": "stdout",
     "output_type": "stream",
     "text": [
      "포커 정복한 AI, 어디까지 진화할까\n"
     ]
    }
   ],
   "source": [
    "from selenium import webdriver\n",
    "\n",
    "phantomjsDriver = \"E:/shkim/pythonRepository/Crawling/phantomjs/phantomjs-2.1.1-windows/bin/phantomjs.exe\"\n",
    "driver = webdriver.PhantomJS(phantomjsDriver)\n",
    "\n",
    "driver.get('http://v.media.daum.net/v/20170202180355822')\n",
    "\n",
    "# 클래스가 tit_view인 h3 태그\n",
    "title = driver.find_element_by_css_selector(\"h3.tit_view\")\n",
    "print(title.text)\n",
    "\n",
    "driver.quit()"
   ]
  },
  {
   "cell_type": "markdown",
   "metadata": {},
   "source": [
    "<br>\n",
    "\n",
    "## 9.2 `find_element_by_css_selector(\"태그명 하위태그명\")`"
   ]
  },
  {
   "cell_type": "code",
   "execution_count": 5,
   "metadata": {},
   "outputs": [
    {
     "name": "stdout",
     "output_type": "stream",
     "text": [
      "포커 정복한 AI, 어디까지 진화할까 | Daum 뉴스\n"
     ]
    }
   ],
   "source": [
    "from selenium import webdriver\n",
    "\n",
    "phantomjsDriver = \"E:/shkim/pythonRepository/Crawling/phantomjs/phantomjs-2.1.1-windows/bin/phantomjs.exe\"\n",
    "driver = webdriver.PhantomJS(phantomjsDriver)\n",
    "\n",
    "driver.get('http://v.media.daum.net/v/20170202180355822')\n",
    "\n",
    "title_data = driver.find_element_by_css_selector('html head title')\n",
    "print(title_data.get_attribute('text'))\n",
    "\n",
    "driver.quit()"
   ]
  },
  {
   "cell_type": "markdown",
   "metadata": {},
   "source": [
    "<br>\n",
    "\n",
    "## 9.3 `find_element_by_css_selector(\"태그명 > 하위태그명\")`"
   ]
  },
  {
   "cell_type": "code",
   "execution_count": 17,
   "metadata": {},
   "outputs": [
    {
     "name": "stdout",
     "output_type": "stream",
     "text": [
      "포커 정복한 AI, 어디까지 진화할까 | Daum 뉴스\n"
     ]
    }
   ],
   "source": [
    "from selenium import webdriver\n",
    "\n",
    "phantomjsDriver = \"E:/shkim/pythonRepository/Crawling/phantomjs/phantomjs-2.1.1-windows/bin/phantomjs.exe\"\n",
    "driver = webdriver.PhantomJS(phantomjsDriver)\n",
    "\n",
    "driver.get('http://v.media.daum.net/v/20170202180355822')\n",
    "\n",
    "try:\n",
    "    title_data = driver.find_element_by_css_selector(\"head > title\")\n",
    "    \n",
    "    # head 태그 안에 있는 title 정보는 get_attribute(\"text\") 메서드로 추출\n",
    "    print(title_data.get_attribute(\"text\"))\n",
    "except:\n",
    "    print(\"ERROR\")\n",
    "\n",
    "driver.quit()"
   ]
  },
  {
   "cell_type": "markdown",
   "metadata": {},
   "source": [
    "<br>\n",
    "\n",
    "## 9.4 `find_element_by_css_selector(\"태그명#아이디값\")`"
   ]
  },
  {
   "cell_type": "code",
   "execution_count": 13,
   "metadata": {},
   "outputs": [
    {
     "name": "stdout",
     "output_type": "stream",
     "text": [
      "(지디넷코리아=김익현 기자)한 때 ‘마이너리티 리포트’란 영화가 인기를 끈 적 있다. 최첨단 치안시스템을 통해 범죄를 미리 예측한 뒤 특수 경찰을 보내 미래의 범죄자들을 체포하는 얘기다.\n",
      "하지만 그 영화를 보면서 “그럴듯하다”고 생각했던 사람은 거의 없었다. ‘무서운 미래’이긴 했지만 ‘있음직한 미래상’은 아니었단 얘기다.\n",
      "최근 인공지능(AI)이 포커 시합에서 최고수 프로 선수를 꺾었단 소식을 접하면서 ‘마이너리티 리포트’가 황당한 얘기만은 아닐 수도 있다는 생각을 하게 됐다.\n",
      "일단 팩트부터 챙겨보자.\n",
      "프로 포커 선수 네 명을 꺾은 화제의 주인공은 리브라투스(Libratus)란 AI 프로그램이다. 미국 카네기멜론대학 연구팀이 개발한 이 프로그램은 지난 달 11일부터 30일까지 20일 동안 계속된 포커 대결에서 승리했다.\n",
      "자세한 얘기는 생략한다. 궁금한 분은 지디넷코리아에 게재된 기사를 확인해보시라.\n",
      "■ 바둑과는 또 다른 포커 정복\n",
      "이번 결과에 대해 카네기멜론대학 뿐 아니라 세계 주요 외신들도 흥분을 감추지 못하고 있다.\n",
      "당연히 궁금증이 제기되지 않을 수 없다. 이미 AI는 퀴즈쇼, 체스에 이어 난공불락의 영역이라 일컬어지던 바둑까지 정복했기 때문이다.\n",
      "세계 최강 이세돌 9단에 이어 중국의 커제 9단까지 알파고에 완패한 마당에 포커 시합에서 진 게 뭐 그리 대단한 일이냐고 생각할 수도 있다.\n",
      "하지만 포커와 바둑은 조금 다르다.\n",
      "물론 바둑 경기에서 고려해야 할 수는 무한 대에 가깝다. 한 수를 둘 때 가능한 수가 250개 정도에 이른다.한 경기에 150수 이상 둔다고 가정하면 '250의 150승’이란 경우의 수가 만들어진다. 이게 유기적으로 연결돼야 한다. 중간에 수 하나만 삐끗해도 시합을 망치게 된다.\n",
      "인공지능 프로그램 리브라투스와 프로 포커 선수들의 시합 장면. (사진=카네기멜론대학)\n",
      "그 동안 ‘바둑은 인간의 영역’이라고 했던 건 인공지능은 직관적으로 문제를 해결하긴 쉽지 않을 것으로 생각했기 때문이다.\n",
      "이처럼 방대하긴 하지만 바둑 경기는 ‘모든 정보’를 갖고 임할 수 있다. 대국을 하는 두 선수는 전체 바둑판을 보면서 추론을 할 수 있다.\n",
      "그런데 포커는 다르다. 바둑과 달리 ‘제한된 정보’만 갖고 경기에 임해야 한다. 일단 상대방의 패를 볼 수가 없다.\n",
      "‘좋은 수’를 갖고 있다고 해서 꼭 이긴다는 보장도 없다. ‘뻥카’로 불리는 고도의 심리전이 중요한 전략적 무기중 하나다.\n",
      "이 차이는 인공지능 개발 과정에서도 중요한 의미를 갖는다. 바둑 대국을 한 알파고는 무수히 많은 상대의 수를 분석해서 내게 맞는 최적의 수를 찾아내면 됐다.\n",
      "하지만 포커 전문 AI는 반대 추론도 할 줄 알아야 한다. 무슨 얘기일까? 상대방이 내 약점을 어떻게 찌르고 들어오는지 추론한 뒤 방어 대책을 세워야 한다는 것이다. 그렇기 때문에 한 단계 더 진전된 능력으로 무장해야만 한다.\n",
      "그러다보니 이번 대결이 시작되기 전 국내 도박사이트들은 4대 1 정도로 인간 포커 기사들이 우세할 것으로 전망했다.\n",
      "리브라투스가 프로 포커 기사와 대결에서 승리한 게 의미 있는 건 이런 부분 때문이다.\n",
      "■ 외신들 \"불완전한 정보로 완벽한 추론\" 흥분\n",
      "이번 승리는 포커 AI가 ’불완전한 정보’를 토대로 상대방의 심리를 추론할 능력까지 갖췄다는 의미다. 주어진 수를 잘 읽는 AI보다 한 단계 더 높은 능력을 보여줬단 얘기다.\n",
      "실제로 이번 대결에서 승리한 카네기멜론대학 측은 “앞으로 비즈니스 협상 뿐 아니라 군사전략, 사이버 보안, 의료분야까지 활용 가능할 것”이라고 호언 장담했다.\n",
      "알파고와 달리 리브라투스 얘긴 아직 공식 논문으로 발표되진 않았다. 그런만큼 ‘어떻게 이겼는지’에 대한 자세한 얘긴 아직 공개되지 않았다.\n",
      "다만 카네기멜론대학 팀은 하루 11시간씩 계속된 포커 경기가 끝날 때마다 분석 작업을 했다고 밝히고 있다. 처음엔 포커를 둘 줄도 몰랐던 리브라투스는 경기가 거듭되면서 상대방의 수 뿐 아니라 ‘나의 약점’을 상대방이 어떻게 파고 드는지까지 분석해냈다고 한다.\n",
      "리브라투스를 공동 개발한 토머스 샌드홀름 교수. (사진=카네기멜론대학)\n",
      "이쯤 되면 살짝 두렵다는 생각까지 든다. 게다가 리브라투스는 포커에만 특화된 프로그램이 아니라고 한다. 다른 영역에도 확장 가능하단 얘기다.\n",
      "루이빌대학 컴퓨터공학과의 로만 얌폴스키 교수는 라디언과 인터뷰에서 “비즈니스나 군사 작전에서 당신을 엿 먹일 수 있는 기계를 갖게 됐다”고 경고했다.\n",
      "무한대에 가깝던 바둑의 수를 읽어내던 AI가 이젠 상대방의 패를 보지도 못한 상태에서 ‘뻥카’까지 성공적으로 치는 수준으로 발전했다.\n",
      "이런 속도라면 어디까지 진화할 수 있을까?\n",
      "■ 알파고보다 더 무서운 포커 AI, 어디까지 진화할까\n",
      "자율주행차에 탑재한 인공지능이 운전자의 심리나 건강 상태를 본 뒤 ‘운전 금지’라면 시동 걸리길 거부할 수도 있지 않을까? ‘마이너리티 리포트’ 같은 범죄 예방 시스템이 등장하지 않을까? 그러다가 결국은 정치와 비즈니스 협상까지 인공지능에 맡겨야 할 시대가 오는 건 아닐까?\n",
      "포커 고수까지 인공지능에게 무릎 꿇었다는 소식을 접하면서 이런 생각들을 해봤다.\n",
      "아직까지 카네기멜론대학은 리브라투스 관련 논문을 공식 발표하진 않았다. 2월 중 학회에서 발표할 예정이라고 하니 논문이 나오길 손꼽아 기다려본다. 카네기멜론대학 측이 논문을 공식 발표하면 이 코너를 통해 상세하게 요약해드리겠단 ‘공약’을 해본다.\n",
      "(덧글)\n",
      "이번 대결 방식이 인간들에게 다소 불리했단 얘기도 있다. 이번 대회 기간 동안 매일 밤 10시까지 경기를 했다고 한다. 하루 11시간의 강행군이 끝나면 리브라투스와 인간 모두 ‘분석 작업’을 했다. 그래서 인간 선수들은 새벽 두 시에나 잠자리에 들 수 있었다고 한다.\n",
      "잠을 잘 필요도, 식사나 화장실을 갈 필요도 없는 인공지능과 달리, 인간들에겐 참 힘든 여정이었겠단 생각을 해봤다.\n",
      "김익현 기자(sini@zdnet.co.kr)\n",
      "======================================================================================================================================================\n",
      "(지디넷코리아=김익현 기자)한 때 ‘마이너리티 리포트’란 영화가 인기를 끈 적 있다. 최첨단 치안시스템을 통해 범죄를 미리 예측한 뒤 특수 경찰을 보내 미래의 범죄자들을 체포하는 얘기다.\n",
      "하지만 그 영화를 보면서 “그럴듯하다”고 생각했던 사람은 거의 없었다. ‘무서운 미래’이긴 했지만 ‘있음직한 미래상’은 아니었단 얘기다.\n",
      "최근 인공지능(AI)이 포커 시합에서 최고수 프로 선수를 꺾었단 소식을 접하면서 ‘마이너리티 리포트’가 황당한 얘기만은 아닐 수도 있다는 생각을 하게 됐다.\n",
      "일단 팩트부터 챙겨보자.\n",
      "프로 포커 선수 네 명을 꺾은 화제의 주인공은 리브라투스(Libratus)란 AI 프로그램이다. 미국 카네기멜론대학 연구팀이 개발한 이 프로그램은 지난 달 11일부터 30일까지 20일 동안 계속된 포커 대결에서 승리했다.\n",
      "자세한 얘기는 생략한다. 궁금한 분은 지디넷코리아에 게재된 기사를 확인해보시라.\n",
      "■ 바둑과는 또 다른 포커 정복\n",
      "이번 결과에 대해 카네기멜론대학 뿐 아니라 세계 주요 외신들도 흥분을 감추지 못하고 있다.\n",
      "당연히 궁금증이 제기되지 않을 수 없다. 이미 AI는 퀴즈쇼, 체스에 이어 난공불락의 영역이라 일컬어지던 바둑까지 정복했기 때문이다.\n",
      "세계 최강 이세돌 9단에 이어 중국의 커제 9단까지 알파고에 완패한 마당에 포커 시합에서 진 게 뭐 그리 대단한 일이냐고 생각할 수도 있다.\n",
      "하지만 포커와 바둑은 조금 다르다.\n",
      "물론 바둑 경기에서 고려해야 할 수는 무한 대에 가깝다. 한 수를 둘 때 가능한 수가 250개 정도에 이른다.한 경기에 150수 이상 둔다고 가정하면 '250의 150승’이란 경우의 수가 만들어진다. 이게 유기적으로 연결돼야 한다. 중간에 수 하나만 삐끗해도 시합을 망치게 된다.\n",
      "\n",
      "그 동안 ‘바둑은 인간의 영역’이라고 했던 건 인공지능은 직관적으로 문제를 해결하긴 쉽지 않을 것으로 생각했기 때문이다.\n",
      "이처럼 방대하긴 하지만 바둑 경기는 ‘모든 정보’를 갖고 임할 수 있다. 대국을 하는 두 선수는 전체 바둑판을 보면서 추론을 할 수 있다.\n",
      "그런데 포커는 다르다. 바둑과 달리 ‘제한된 정보’만 갖고 경기에 임해야 한다. 일단 상대방의 패를 볼 수가 없다.\n",
      "‘좋은 수’를 갖고 있다고 해서 꼭 이긴다는 보장도 없다. ‘뻥카’로 불리는 고도의 심리전이 중요한 전략적 무기중 하나다.\n",
      "이 차이는 인공지능 개발 과정에서도 중요한 의미를 갖는다. 바둑 대국을 한 알파고는 무수히 많은 상대의 수를 분석해서 내게 맞는 최적의 수를 찾아내면 됐다.\n",
      "하지만 포커 전문 AI는 반대 추론도 할 줄 알아야 한다. 무슨 얘기일까? 상대방이 내 약점을 어떻게 찌르고 들어오는지 추론한 뒤 방어 대책을 세워야 한다는 것이다. 그렇기 때문에 한 단계 더 진전된 능력으로 무장해야만 한다.\n",
      "그러다보니 이번 대결이 시작되기 전 국내 도박사이트들은 4대 1 정도로 인간 포커 기사들이 우세할 것으로 전망했다.\n",
      "리브라투스가 프로 포커 기사와 대결에서 승리한 게 의미 있는 건 이런 부분 때문이다.\n",
      "■ 외신들 \"불완전한 정보로 완벽한 추론\" 흥분\n",
      "이번 승리는 포커 AI가 ’불완전한 정보’를 토대로 상대방의 심리를 추론할 능력까지 갖췄다는 의미다. 주어진 수를 잘 읽는 AI보다 한 단계 더 높은 능력을 보여줬단 얘기다.\n",
      "실제로 이번 대결에서 승리한 카네기멜론대학 측은 “앞으로 비즈니스 협상 뿐 아니라 군사전략, 사이버 보안, 의료분야까지 활용 가능할 것”이라고 호언 장담했다.\n",
      "알파고와 달리 리브라투스 얘긴 아직 공식 논문으로 발표되진 않았다. 그런만큼 ‘어떻게 이겼는지’에 대한 자세한 얘긴 아직 공개되지 않았다.\n",
      "다만 카네기멜론대학 팀은 하루 11시간씩 계속된 포커 경기가 끝날 때마다 분석 작업을 했다고 밝히고 있다. 처음엔 포커를 둘 줄도 몰랐던 리브라투스는 경기가 거듭되면서 상대방의 수 뿐 아니라 ‘나의 약점’을 상대방이 어떻게 파고 드는지까지 분석해냈다고 한다.\n",
      "\n",
      "이쯤 되면 살짝 두렵다는 생각까지 든다. 게다가 리브라투스는 포커에만 특화된 프로그램이 아니라고 한다. 다른 영역에도 확장 가능하단 얘기다.\n",
      "루이빌대학 컴퓨터공학과의 로만 얌폴스키 교수는 라디언과 인터뷰에서 “비즈니스나 군사 작전에서 당신을 엿 먹일 수 있는 기계를 갖게 됐다”고 경고했다.\n",
      "무한대에 가깝던 바둑의 수를 읽어내던 AI가 이젠 상대방의 패를 보지도 못한 상태에서 ‘뻥카’까지 성공적으로 치는 수준으로 발전했다.\n",
      "이런 속도라면 어디까지 진화할 수 있을까?\n",
      "■ 알파고보다 더 무서운 포커 AI, 어디까지 진화할까\n",
      "자율주행차에 탑재한 인공지능이 운전자의 심리나 건강 상태를 본 뒤 ‘운전 금지’라면 시동 걸리길 거부할 수도 있지 않을까? ‘마이너리티 리포트’ 같은 범죄 예방 시스템이 등장하지 않을까? 그러다가 결국은 정치와 비즈니스 협상까지 인공지능에 맡겨야 할 시대가 오는 건 아닐까?\n",
      "포커 고수까지 인공지능에게 무릎 꿇었다는 소식을 접하면서 이런 생각들을 해봤다.\n",
      "아직까지 카네기멜론대학은 리브라투스 관련 논문을 공식 발표하진 않았다. 2월 중 학회에서 발표할 예정이라고 하니 논문이 나오길 손꼽아 기다려본다. 카네기멜론대학 측이 논문을 공식 발표하면 이 코너를 통해 상세하게 요약해드리겠단 ‘공약’을 해본다.\n",
      "(덧글)\n",
      "이번 대결 방식이 인간들에게 다소 불리했단 얘기도 있다. 이번 대회 기간 동안 매일 밤 10시까지 경기를 했다고 한다. 하루 11시간의 강행군이 끝나면 리브라투스와 인간 모두 ‘분석 작업’을 했다. 그래서 인간 선수들은 새벽 두 시에나 잠자리에 들 수 있었다고 한다.\n",
      "잠을 잘 필요도, 식사나 화장실을 갈 필요도 없는 인공지능과 달리, 인간들에겐 참 힘든 여정이었겠단 생각을 해봤다.\n",
      "김익현 기자(sini@zdnet.co.kr)\n"
     ]
    }
   ],
   "source": [
    "from selenium import webdriver\n",
    "\n",
    "phantomjsDriver = \"E:/shkim/pythonRepository/Crawling/phantomjs/phantomjs-2.1.1-windows/bin/phantomjs.exe\"\n",
    "driver = webdriver.PhantomJS(phantomjsDriver)\n",
    "\n",
    "driver.get('http://v.media.daum.net/v/20170202180355822')\n",
    "\n",
    "try:\n",
    "    contents = driver.find_element_by_css_selector(\"div#harmonyContainer\")\n",
    "    # body 안에 있는 태그 요소는 .text 로 추출\n",
    "    print(contents.text)\n",
    "    #print(contents.get_attribute(\"text\")) # -> None\n",
    "    \n",
    "    print(\"=\"*150)\n",
    "    \n",
    "    for p in contents.find_elements_by_tag_name(\"p\"):\n",
    "        print(p.text)\n",
    "    \n",
    "except:\n",
    "    print(\"ERROR\")\n",
    "    \n",
    "driver.quit()"
   ]
  },
  {
   "cell_type": "markdown",
   "metadata": {},
   "source": [
    "<br>\n",
    "\n",
    "## 9.5 `find_element_by_css_select(\"태그명[속성명='속성값']\")`\n",
    "\n",
    "- 속성으로 찾기"
   ]
  },
  {
   "cell_type": "code",
   "execution_count": 14,
   "metadata": {},
   "outputs": [
    {
     "name": "stdout",
     "output_type": "stream",
     "text": [
      "홈\n",
      "사회\n",
      "정치\n",
      "경제\n",
      "국제\n",
      "문화\n",
      "IT\n",
      "랭킹\n",
      "연재\n",
      "포토\n",
      "TV\n",
      "1boon\n",
      "갤러리\n",
      "서울\n",
      "서울 27 ℃\n"
     ]
    }
   ],
   "source": [
    "from selenium import webdriver\n",
    "\n",
    "phantomjsDriver = \"E:/shkim/pythonRepository/Crawling/phantomjs/phantomjs-2.1.1-windows/bin/phantomjs.exe\"\n",
    "driver = webdriver.PhantomJS(phantomjsDriver)\n",
    "\n",
    "driver.get('http://v.media.daum.net/v/20170202180355822')\n",
    "\n",
    "try:\n",
    "    # role attribute가 navigation인 div 태그\n",
    "    nav = driver.find_element_by_css_selector(\"div[role='navigation']\")\n",
    "    print(nav.text)\n",
    "except:\n",
    "    print(\"ERROR\")\n",
    "    \n",
    "driver.quit()"
   ]
  },
  {
   "cell_type": "markdown",
   "metadata": {},
   "source": [
    "<br>\n",
    "\n",
    "## 9.6 `get_attribute('text')` vs `text`"
   ]
  },
  {
   "cell_type": "code",
   "execution_count": 21,
   "metadata": {},
   "outputs": [
    {
     "name": "stdout",
     "output_type": "stream",
     "text": [
      "포커 정복한 AI, 어디까지 진화할까 | Daum 뉴스\n",
      "====================================================================================================\n",
      "홈\n",
      "사회\n",
      "정치\n",
      "경제\n",
      "국제\n",
      "문화\n",
      "IT\n",
      "랭킹\n",
      "연재\n",
      "포토\n",
      "TV\n",
      "1boon\n",
      "갤러리\n",
      "서울\n",
      "서울 27 ℃\n"
     ]
    }
   ],
   "source": [
    "from selenium import webdriver\n",
    "\n",
    "phantomjsDriver = \"E:/shkim/pythonRepository/Crawling/phantomjs/phantomjs-2.1.1-windows/bin/phantomjs.exe\"\n",
    "driver = webdriver.PhantomJS(phantomjsDriver)\n",
    "\n",
    "driver.get('http://v.media.daum.net/v/20170202180355822')\n",
    "\n",
    "try:\n",
    "    title_data = driver.find_element_by_css_selector(\"head > title\")\n",
    "    \n",
    "    print(title_data.get_attribute(\"text\"))\n",
    "    \n",
    "    print(\"=\"*100)\n",
    "    \n",
    "    nav = driver.find_element_by_css_selector(\"div[role='navigation']\")\n",
    "    \n",
    "    print(nav.text)\n",
    "    \n",
    "except:\n",
    "    print(\"ERROR\")\n",
    "\n",
    "driver.quit()"
   ]
  }
 ],
 "metadata": {
  "kernelspec": {
   "display_name": "Python 3",
   "language": "python",
   "name": "python3"
  },
  "language_info": {
   "codemirror_mode": {
    "name": "ipython",
    "version": 3
   },
   "file_extension": ".py",
   "mimetype": "text/x-python",
   "name": "python",
   "nbconvert_exporter": "python",
   "pygments_lexer": "ipython3",
   "version": "3.6.9"
  }
 },
 "nbformat": 4,
 "nbformat_minor": 4
}
