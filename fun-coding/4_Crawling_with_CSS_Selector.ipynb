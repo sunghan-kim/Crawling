{
 "cells": [
  {
   "cell_type": "markdown",
   "metadata": {
    "colab_type": "text",
    "id": "0MeEBNgHZ3qJ"
   },
   "source": [
    "# 4. CSS Selector를 사용한 크롤링"
   ]
  },
  {
   "cell_type": "code",
   "execution_count": null,
   "metadata": {
    "colab": {},
    "colab_type": "code",
    "id": "URQ-b9s9Z-O1"
   },
   "outputs": [],
   "source": [
    "import requests\n",
    "from bs4 import BeautifulSoup\n",
    "\n",
    "res = requests.get('http://v.media.daum.net/v/20170615203441266')\n",
    "soup = BeautifulSoup(res.content, 'html.parser')"
   ]
  },
  {
   "cell_type": "markdown",
   "metadata": {
    "colab_type": "text",
    "id": "xnWU8_LOeWtk"
   },
   "source": [
    "<br>\n",
    "\n",
    "## 4.1 태그 검색"
   ]
  },
  {
   "cell_type": "code",
   "execution_count": 3,
   "metadata": {
    "colab": {
     "base_uri": "https://localhost:8080/",
     "height": 35
    },
    "colab_type": "code",
    "id": "1XQTZXPMeZ-2",
    "outputId": "e280f231-1ba6-40cb-c91a-78de6a5822de"
   },
   "outputs": [
    {
     "data": {
      "text/plain": [
       "<title>잔금대출에도 DTI 규제 적용 검토 | Daum 뉴스</title>"
      ]
     },
     "execution_count": 3,
     "metadata": {
      "tags": []
     },
     "output_type": "execute_result"
    }
   ],
   "source": [
    "soup.find('title')"
   ]
  },
  {
   "cell_type": "markdown",
   "metadata": {
    "colab_type": "text",
    "id": "NrbTQWNTetBs"
   },
   "source": [
    "<br>\n",
    "\n",
    "## 4.2 `soup.select('태그명')`\n",
    "\n",
    "- `select` 함수는 리스트 형태로 전체 반환"
   ]
  },
  {
   "cell_type": "code",
   "execution_count": 4,
   "metadata": {
    "colab": {
     "base_uri": "https://localhost:8080/",
     "height": 53
    },
    "colab_type": "code",
    "id": "rKVkG-qQehoz",
    "outputId": "8a712a50-ae62-4670-e545-4ee96095b2ce"
   },
   "outputs": [
    {
     "name": "stdout",
     "output_type": "stream",
     "text": [
      "<title>잔금대출에도 DTI 규제 적용 검토 | Daum 뉴스</title>\n",
      "잔금대출에도 DTI 규제 적용 검토 | Daum 뉴스\n"
     ]
    }
   ],
   "source": [
    "# select 함수는 리스트 형태로 전체 반환\n",
    "title = soup.select('title')[0]\n",
    "\n",
    "print(title)\n",
    "print(title.get_text())"
   ]
  },
  {
   "cell_type": "markdown",
   "metadata": {
    "colab_type": "text",
    "id": "0LPl1Cjge58q"
   },
   "source": [
    "<br>\n",
    "\n",
    "## 4.3 `soup.select('태그명 하위태그명')`\n",
    "\n",
    "- `select` 함수 안에서 띄어쓰기가 있다면 하위 태그를 검색"
   ]
  },
  {
   "cell_type": "code",
   "execution_count": 5,
   "metadata": {
    "colab": {
     "base_uri": "https://localhost:8080/",
     "height": 35
    },
    "colab_type": "code",
    "id": "2wy1FCx0fBVU",
    "outputId": "2b7293e0-31c5-48d2-fa58-9e468d5ed711"
   },
   "outputs": [
    {
     "name": "stdout",
     "output_type": "stream",
     "text": [
      "잔금대출에도 DTI 규제 적용 검토 | Daum 뉴스\n"
     ]
    }
   ],
   "source": [
    "title = soup.select('html head title')[0]\n",
    "\n",
    "print(title.get_text())"
   ]
  },
  {
   "cell_type": "markdown",
   "metadata": {
    "colab_type": "text",
    "id": "ZusphnL-fGAi"
   },
   "source": [
    "<br>\n",
    "\n",
    "- 이 때 바로 직계의 자식이 아니여도 관계 없음"
   ]
  },
  {
   "cell_type": "code",
   "execution_count": 6,
   "metadata": {
    "colab": {
     "base_uri": "https://localhost:8080/",
     "height": 35
    },
    "colab_type": "code",
    "id": "1iV03ZcffKrM",
    "outputId": "91aa30c5-a52f-4098-ce2c-24d8541e7297"
   },
   "outputs": [
    {
     "name": "stdout",
     "output_type": "stream",
     "text": [
      "잔금대출에도 DTI 규제 적용 검토 | Daum 뉴스\n"
     ]
    }
   ],
   "source": [
    "title = soup.select('html title')[0]\n",
    "\n",
    "print(title.get_text())"
   ]
  },
  {
   "cell_type": "markdown",
   "metadata": {
    "colab_type": "text",
    "id": "VL3KTIBQfPHK"
   },
   "source": [
    "<br>\n",
    "\n",
    "- `>`를 사용하는 경우 바로 아래의 자식만 검색"
   ]
  },
  {
   "cell_type": "code",
   "execution_count": 7,
   "metadata": {
    "colab": {
     "base_uri": "https://localhost:8080/",
     "height": 35
    },
    "colab_type": "code",
    "id": "A4iqmPUIfYFL",
    "outputId": "7319fe10-271d-4806-c2b1-0e46ce78ccdf"
   },
   "outputs": [
    {
     "name": "stdout",
     "output_type": "stream",
     "text": [
      "Error\n"
     ]
    }
   ],
   "source": [
    "try:\n",
    "    title = soup.select('html > title')[0]\n",
    "    print(title.get_text())\n",
    "except:\n",
    "    print('Error')"
   ]
  },
  {
   "cell_type": "code",
   "execution_count": 8,
   "metadata": {
    "colab": {
     "base_uri": "https://localhost:8080/",
     "height": 35
    },
    "colab_type": "code",
    "id": "cyn17UYMfhkK",
    "outputId": "44e71055-666a-4ef8-ca05-6fe44b55501f"
   },
   "outputs": [
    {
     "name": "stdout",
     "output_type": "stream",
     "text": [
      "잔금대출에도 DTI 규제 적용 검토 | Daum 뉴스\n"
     ]
    }
   ],
   "source": [
    "# 바로 아래 자식 검색\n",
    "title = soup.select('head > title')[0]\n",
    "\n",
    "print(title.get_text())"
   ]
  },
  {
   "cell_type": "markdown",
   "metadata": {
    "colab_type": "text",
    "id": "dvTt__Onfr6J"
   },
   "source": [
    "<br>\n",
    "\n",
    "## 4.4 `soup.select('.클래스명')`\n",
    "\n",
    "- `.`은 태그의 클래스를 검색"
   ]
  },
  {
   "cell_type": "code",
   "execution_count": 9,
   "metadata": {
    "colab": {
     "base_uri": "https://localhost:8080/",
     "height": 35
    },
    "colab_type": "code",
    "id": "vUjXsdyUf1DX",
    "outputId": "a7232432-2eaa-4beb-af99-817777f68b15"
   },
   "outputs": [
    {
     "name": "stdout",
     "output_type": "stream",
     "text": [
      "<class 'bs4.element.Tag'> 3\n"
     ]
    }
   ],
   "source": [
    "# class가 article_view인 태그 탐색\n",
    "body = soup.select('.article_view')[0]\n",
    "\n",
    "print(type(body), len(body))"
   ]
  },
  {
   "cell_type": "code",
   "execution_count": 10,
   "metadata": {
    "colab": {
     "base_uri": "https://localhost:8080/",
     "height": 379
    },
    "colab_type": "code",
    "id": "7V3OFgVsgLGk",
    "outputId": "bf837925-6f65-44ab-a687-687603897c12"
   },
   "outputs": [
    {
     "data": {
      "text/plain": [
       "<div class=\"article_view\" data-translation-body=\"\" id=\"harmonyContainer\">\n",
       "<section dmcf-sid=\"ndxAvoEFLc\">\n",
       "<p dmcf-pid=\"nzrJ5KB3Cc\" dmcf-ptype=\"general\">내주 부동산 종합대책 발표</p>\n",
       "<p dmcf-pid=\"ncFbmYUgSc\" dmcf-ptype=\"general\">집값 상승 노린 투기 분양 차단</p>\n",
       "<p dmcf-pid=\"naDeB8j0HH\" dmcf-ptype=\"general\">LTVㆍDTI 규제 다시 강화할 듯</p>\n",
       "<p dmcf-pid=\"ngfl6lJwwk\" dmcf-ptype=\"general\">저소득 실수요자 피해 우려도</p>\n",
       "<figure class=\"figure_frm origin_fig\" dmcf-pid=\"nYQ8LWIMpD\" dmcf-ptype=\"figure\">\n",
       "<p class=\"link_figure\"><img class=\"thumb_g_article\" dmcf-mid=\"nkjJSoPdyb\" dmcf-mtype=\"image\" height=\"236\" src=\"https://t1.daumcdn.net/news/201706/15/hankooki/20170615044256378kzbd.jpg\" width=\"330\"/></p>\n",
       "</figure>\n",
       "<p dmcf-pid=\"n8guDAko3Z\" dmcf-ptype=\"general\">금융당국이 급증하는 가계부채 증가세를 막기 위해 아파트 잔금대출에도 소득을 따져 대출한도를 정하는 총부채상환비율(DTI)을 적용하는 방안을 유력하게 검토하고 있다. 지금은 집값을 기준으로 대출한도를 매기는 주택담보인정비율(LTV) 규제만 적용돼 소득이 없어도 집값의 70%를 빌려 잔금을 치르는 게 가능하다. 앞으로 잔금대출에 DTI가 적용되면 소득 없는 사람이 입주 뒤 집값 상승을 노리고 분양시장에 뛰어드는 게 사실상 불가능해진다. </p>\n",
       "<p dmcf-pid=\"nYPaCCRO1q\" dmcf-ptype=\"general\">금융당국 고위관계자는 15일 “잔금대출에도 DTI를 적용하는 방안을 검토 중”이라며 “다만 아직 최종 결론이 난 건 아니다”고 말했다. 정부는 내주 이 같은 내용을 포함한 부동산 종합 대책을 발표할 예정이다. </p>\n",
       "<p dmcf-pid=\"naZLBbSgoZ\" dmcf-ptype=\"general\">정부가 잔금대출 DTI 적용 카드를 꺼내는 건, 집단대출을 잡지 않고선 과열된 주택시장을 진정시키기 어렵다는 판단에서다. 실제 정부는 지난해 잔금대출도 대출 초기부터 원리금을 함께 갚도록 하는 여신심사 가이드라인을 도입했지만 이렇다 할 효과를 거두지 못했다. 오히려 정부 대책에도 불구, 집단대출 증가액은 매달 늘어나는 추세인데 지난달엔 2조원으로 올 들어 최고치를 기록했다. </p>\n",
       "<p dmcf-pid=\"nhAfneUtnA\" dmcf-ptype=\"general\">아파트 분양 집단대출은 중도금과 잔금대출로 구분된다. 계약금 10%를 내면 입주 전까지 집값의 60%를 중도금 대출로 받을 수 있다. 중도금 대출은 건설사 보증으로 이뤄져 소득심사를 안 거친다. 잔금대출은 건설사가 아닌 집을 담보로 이뤄지는 대출이다. LTV 규제만 적용돼 소득이 없어도 집값의 70%까지 대출이 가능하다. 때문에 지금은 잔금대출로 집값의 70%를 대출받아 기존 중도금 대출을 갚고 나머지 20%만 본인 돈으로 충당하면 집을 살 수 있다.</p>\n",
       "<p dmcf-pid=\"nCcfu6DK1b\" dmcf-ptype=\"general\">앞으로 잔금대출에 DTI가 적용되면 소득이 없는 사람은 집값의 70% 대출 받는 게 어려워진다. 입주 뒤 집값 상승을 노리는 투기수요를 확실히 걸러낼 초강력 대책이 될 수 있다. 하지만 부작용도 우려된다. 소득이 낮은 사회초년생 등은 청약통장을 갖고도 분양시장에 진입하는 게 어려워지기 때문이다. </p>\n",
       "<p dmcf-pid=\"nzh7QZekII\" dmcf-ptype=\"general\">이에 따라 잔금대출에 DTI를 적용하는 것 역시 지역 등에 따라 선별적으로 이뤄질 가능성이 높다. 현재 당국은 신규 분양 물량부터 규제를 적용할지 아니면 기존 분양 물량까지 규제 범위를 확대할지를 놓고 시뮬레이션을 하고 있다. </p>\n",
       "<p dmcf-pid=\"nihh22vlmu\" dmcf-ptype=\"general\">아울러 당국은 지난 2년간 완화됐던 LTV와 DTI를 다시 강화할 것으로 보인다. 현재 LTV(은행 기준)는 기존 50~60%에서 70%, DTI는 50~60%에서 60%로 완화돼 있는 상태다. 당국은 일괄적인 조이기보다 지역ㆍ집값 수준별로 기준을 다르게 적용하는 방식을 모색할 것으로 보인다.</p>\n",
       "<p dmcf-pid=\"naJ5HNfuMQ\" dmcf-ptype=\"general\">김동욱 기자 kdw1280@hankookilbo.com</p>\n",
       "</section>\n",
       "</div>"
      ]
     },
     "execution_count": 10,
     "metadata": {
      "tags": []
     },
     "output_type": "execute_result"
    }
   ],
   "source": [
    "body"
   ]
  },
  {
   "cell_type": "code",
   "execution_count": 11,
   "metadata": {
    "colab": {
     "base_uri": "https://localhost:8080/",
     "height": 271
    },
    "colab_type": "code",
    "id": "Acle93WEgQAQ",
    "outputId": "a77af937-c399-4b9f-9926-b2444b1fdb38"
   },
   "outputs": [
    {
     "name": "stdout",
     "output_type": "stream",
     "text": [
      "내주 부동산 종합대책 발표\n",
      "집값 상승 노린 투기 분양 차단\n",
      "LTVㆍDTI 규제 다시 강화할 듯\n",
      "저소득 실수요자 피해 우려도\n",
      "\n",
      "금융당국이 급증하는 가계부채 증가세를 막기 위해 아파트 잔금대출에도 소득을 따져 대출한도를 정하는 총부채상환비율(DTI)을 적용하는 방안을 유력하게 검토하고 있다. 지금은 집값을 기준으로 대출한도를 매기는 주택담보인정비율(LTV) 규제만 적용돼 소득이 없어도 집값의 70%를 빌려 잔금을 치르는 게 가능하다. 앞으로 잔금대출에 DTI가 적용되면 소득 없는 사람이 입주 뒤 집값 상승을 노리고 분양시장에 뛰어드는 게 사실상 불가능해진다. \n",
      "금융당국 고위관계자는 15일 “잔금대출에도 DTI를 적용하는 방안을 검토 중”이라며 “다만 아직 최종 결론이 난 건 아니다”고 말했다. 정부는 내주 이 같은 내용을 포함한 부동산 종합 대책을 발표할 예정이다. \n",
      "정부가 잔금대출 DTI 적용 카드를 꺼내는 건, 집단대출을 잡지 않고선 과열된 주택시장을 진정시키기 어렵다는 판단에서다. 실제 정부는 지난해 잔금대출도 대출 초기부터 원리금을 함께 갚도록 하는 여신심사 가이드라인을 도입했지만 이렇다 할 효과를 거두지 못했다. 오히려 정부 대책에도 불구, 집단대출 증가액은 매달 늘어나는 추세인데 지난달엔 2조원으로 올 들어 최고치를 기록했다. \n",
      "아파트 분양 집단대출은 중도금과 잔금대출로 구분된다. 계약금 10%를 내면 입주 전까지 집값의 60%를 중도금 대출로 받을 수 있다. 중도금 대출은 건설사 보증으로 이뤄져 소득심사를 안 거친다. 잔금대출은 건설사가 아닌 집을 담보로 이뤄지는 대출이다. LTV 규제만 적용돼 소득이 없어도 집값의 70%까지 대출이 가능하다. 때문에 지금은 잔금대출로 집값의 70%를 대출받아 기존 중도금 대출을 갚고 나머지 20%만 본인 돈으로 충당하면 집을 살 수 있다.\n",
      "앞으로 잔금대출에 DTI가 적용되면 소득이 없는 사람은 집값의 70% 대출 받는 게 어려워진다. 입주 뒤 집값 상승을 노리는 투기수요를 확실히 걸러낼 초강력 대책이 될 수 있다. 하지만 부작용도 우려된다. 소득이 낮은 사회초년생 등은 청약통장을 갖고도 분양시장에 진입하는 게 어려워지기 때문이다. \n",
      "이에 따라 잔금대출에 DTI를 적용하는 것 역시 지역 등에 따라 선별적으로 이뤄질 가능성이 높다. 현재 당국은 신규 분양 물량부터 규제를 적용할지 아니면 기존 분양 물량까지 규제 범위를 확대할지를 놓고 시뮬레이션을 하고 있다. \n",
      "아울러 당국은 지난 2년간 완화됐던 LTV와 DTI를 다시 강화할 것으로 보인다. 현재 LTV(은행 기준)는 기존 50~60%에서 70%, DTI는 50~60%에서 60%로 완화돼 있는 상태다. 당국은 일괄적인 조이기보다 지역ㆍ집값 수준별로 기준을 다르게 적용하는 방식을 모색할 것으로 보인다.\n",
      "김동욱 기자 kdw1280@hankookilbo.com\n"
     ]
    }
   ],
   "source": [
    "for p in body.find_all('p'):\n",
    "    print(p.get_text())"
   ]
  },
  {
   "cell_type": "markdown",
   "metadata": {
    "colab_type": "text",
    "id": "kaqjjXhZgVBQ"
   },
   "source": [
    "<br>\n",
    "\n",
    "- `div` 태그 중 class가 `article_view`인 태그 검색"
   ]
  },
  {
   "cell_type": "code",
   "execution_count": 12,
   "metadata": {
    "colab": {
     "base_uri": "https://localhost:8080/",
     "height": 35
    },
    "colab_type": "code",
    "id": "AuLCFIXAgguR",
    "outputId": "c6efc52d-44ae-4f08-bb36-9f9b99494a69"
   },
   "outputs": [
    {
     "name": "stdout",
     "output_type": "stream",
     "text": [
      "<class 'bs4.element.Tag'> 3\n"
     ]
    }
   ],
   "source": [
    "body = soup.select('div.article_view')[0]\n",
    "\n",
    "print(type(body), len(body))"
   ]
  },
  {
   "cell_type": "code",
   "execution_count": 13,
   "metadata": {
    "colab": {
     "base_uri": "https://localhost:8080/",
     "height": 271
    },
    "colab_type": "code",
    "id": "LC1Rq7AMgtNH",
    "outputId": "38f1636d-ccc6-43fd-87d9-790aa8527b64"
   },
   "outputs": [
    {
     "name": "stdout",
     "output_type": "stream",
     "text": [
      "내주 부동산 종합대책 발표\n",
      "집값 상승 노린 투기 분양 차단\n",
      "LTVㆍDTI 규제 다시 강화할 듯\n",
      "저소득 실수요자 피해 우려도\n",
      "\n",
      "금융당국이 급증하는 가계부채 증가세를 막기 위해 아파트 잔금대출에도 소득을 따져 대출한도를 정하는 총부채상환비율(DTI)을 적용하는 방안을 유력하게 검토하고 있다. 지금은 집값을 기준으로 대출한도를 매기는 주택담보인정비율(LTV) 규제만 적용돼 소득이 없어도 집값의 70%를 빌려 잔금을 치르는 게 가능하다. 앞으로 잔금대출에 DTI가 적용되면 소득 없는 사람이 입주 뒤 집값 상승을 노리고 분양시장에 뛰어드는 게 사실상 불가능해진다. \n",
      "금융당국 고위관계자는 15일 “잔금대출에도 DTI를 적용하는 방안을 검토 중”이라며 “다만 아직 최종 결론이 난 건 아니다”고 말했다. 정부는 내주 이 같은 내용을 포함한 부동산 종합 대책을 발표할 예정이다. \n",
      "정부가 잔금대출 DTI 적용 카드를 꺼내는 건, 집단대출을 잡지 않고선 과열된 주택시장을 진정시키기 어렵다는 판단에서다. 실제 정부는 지난해 잔금대출도 대출 초기부터 원리금을 함께 갚도록 하는 여신심사 가이드라인을 도입했지만 이렇다 할 효과를 거두지 못했다. 오히려 정부 대책에도 불구, 집단대출 증가액은 매달 늘어나는 추세인데 지난달엔 2조원으로 올 들어 최고치를 기록했다. \n",
      "아파트 분양 집단대출은 중도금과 잔금대출로 구분된다. 계약금 10%를 내면 입주 전까지 집값의 60%를 중도금 대출로 받을 수 있다. 중도금 대출은 건설사 보증으로 이뤄져 소득심사를 안 거친다. 잔금대출은 건설사가 아닌 집을 담보로 이뤄지는 대출이다. LTV 규제만 적용돼 소득이 없어도 집값의 70%까지 대출이 가능하다. 때문에 지금은 잔금대출로 집값의 70%를 대출받아 기존 중도금 대출을 갚고 나머지 20%만 본인 돈으로 충당하면 집을 살 수 있다.\n",
      "앞으로 잔금대출에 DTI가 적용되면 소득이 없는 사람은 집값의 70% 대출 받는 게 어려워진다. 입주 뒤 집값 상승을 노리는 투기수요를 확실히 걸러낼 초강력 대책이 될 수 있다. 하지만 부작용도 우려된다. 소득이 낮은 사회초년생 등은 청약통장을 갖고도 분양시장에 진입하는 게 어려워지기 때문이다. \n",
      "이에 따라 잔금대출에 DTI를 적용하는 것 역시 지역 등에 따라 선별적으로 이뤄질 가능성이 높다. 현재 당국은 신규 분양 물량부터 규제를 적용할지 아니면 기존 분양 물량까지 규제 범위를 확대할지를 놓고 시뮬레이션을 하고 있다. \n",
      "아울러 당국은 지난 2년간 완화됐던 LTV와 DTI를 다시 강화할 것으로 보인다. 현재 LTV(은행 기준)는 기존 50~60%에서 70%, DTI는 50~60%에서 60%로 완화돼 있는 상태다. 당국은 일괄적인 조이기보다 지역ㆍ집값 수준별로 기준을 다르게 적용하는 방식을 모색할 것으로 보인다.\n",
      "김동욱 기자 kdw1280@hankookilbo.com\n"
     ]
    }
   ],
   "source": [
    "for p in body.find_all('p'):\n",
    "    print(p.get_text())"
   ]
  },
  {
   "cell_type": "markdown",
   "metadata": {
    "colab_type": "text",
    "id": "dptQexNbgzL3"
   },
   "source": [
    "<br>\n",
    "\n",
    "## 4.5 `soup.select(\"#아이디\")`\n",
    "\n",
    "- `#`은 아이디를 검색"
   ]
  },
  {
   "cell_type": "code",
   "execution_count": 14,
   "metadata": {
    "colab": {
     "base_uri": "https://localhost:8080/",
     "height": 379
    },
    "colab_type": "code",
    "id": "m57qejY5g6Up",
    "outputId": "35ff5d71-39f9-4c8f-f177-5a4252eaa497"
   },
   "outputs": [
    {
     "name": "stdout",
     "output_type": "stream",
     "text": [
      "[<div class=\"article_view\" data-translation-body=\"\" id=\"harmonyContainer\">\n",
      "<section dmcf-sid=\"ndxAvoEFLc\">\n",
      "<p dmcf-pid=\"nzrJ5KB3Cc\" dmcf-ptype=\"general\">내주 부동산 종합대책 발표</p>\n",
      "<p dmcf-pid=\"ncFbmYUgSc\" dmcf-ptype=\"general\">집값 상승 노린 투기 분양 차단</p>\n",
      "<p dmcf-pid=\"naDeB8j0HH\" dmcf-ptype=\"general\">LTVㆍDTI 규제 다시 강화할 듯</p>\n",
      "<p dmcf-pid=\"ngfl6lJwwk\" dmcf-ptype=\"general\">저소득 실수요자 피해 우려도</p>\n",
      "<figure class=\"figure_frm origin_fig\" dmcf-pid=\"nYQ8LWIMpD\" dmcf-ptype=\"figure\">\n",
      "<p class=\"link_figure\"><img class=\"thumb_g_article\" dmcf-mid=\"nkjJSoPdyb\" dmcf-mtype=\"image\" height=\"236\" src=\"https://t1.daumcdn.net/news/201706/15/hankooki/20170615044256378kzbd.jpg\" width=\"330\"/></p>\n",
      "</figure>\n",
      "<p dmcf-pid=\"n8guDAko3Z\" dmcf-ptype=\"general\">금융당국이 급증하는 가계부채 증가세를 막기 위해 아파트 잔금대출에도 소득을 따져 대출한도를 정하는 총부채상환비율(DTI)을 적용하는 방안을 유력하게 검토하고 있다. 지금은 집값을 기준으로 대출한도를 매기는 주택담보인정비율(LTV) 규제만 적용돼 소득이 없어도 집값의 70%를 빌려 잔금을 치르는 게 가능하다. 앞으로 잔금대출에 DTI가 적용되면 소득 없는 사람이 입주 뒤 집값 상승을 노리고 분양시장에 뛰어드는 게 사실상 불가능해진다. </p>\n",
      "<p dmcf-pid=\"nYPaCCRO1q\" dmcf-ptype=\"general\">금융당국 고위관계자는 15일 “잔금대출에도 DTI를 적용하는 방안을 검토 중”이라며 “다만 아직 최종 결론이 난 건 아니다”고 말했다. 정부는 내주 이 같은 내용을 포함한 부동산 종합 대책을 발표할 예정이다. </p>\n",
      "<p dmcf-pid=\"naZLBbSgoZ\" dmcf-ptype=\"general\">정부가 잔금대출 DTI 적용 카드를 꺼내는 건, 집단대출을 잡지 않고선 과열된 주택시장을 진정시키기 어렵다는 판단에서다. 실제 정부는 지난해 잔금대출도 대출 초기부터 원리금을 함께 갚도록 하는 여신심사 가이드라인을 도입했지만 이렇다 할 효과를 거두지 못했다. 오히려 정부 대책에도 불구, 집단대출 증가액은 매달 늘어나는 추세인데 지난달엔 2조원으로 올 들어 최고치를 기록했다. </p>\n",
      "<p dmcf-pid=\"nhAfneUtnA\" dmcf-ptype=\"general\">아파트 분양 집단대출은 중도금과 잔금대출로 구분된다. 계약금 10%를 내면 입주 전까지 집값의 60%를 중도금 대출로 받을 수 있다. 중도금 대출은 건설사 보증으로 이뤄져 소득심사를 안 거친다. 잔금대출은 건설사가 아닌 집을 담보로 이뤄지는 대출이다. LTV 규제만 적용돼 소득이 없어도 집값의 70%까지 대출이 가능하다. 때문에 지금은 잔금대출로 집값의 70%를 대출받아 기존 중도금 대출을 갚고 나머지 20%만 본인 돈으로 충당하면 집을 살 수 있다.</p>\n",
      "<p dmcf-pid=\"nCcfu6DK1b\" dmcf-ptype=\"general\">앞으로 잔금대출에 DTI가 적용되면 소득이 없는 사람은 집값의 70% 대출 받는 게 어려워진다. 입주 뒤 집값 상승을 노리는 투기수요를 확실히 걸러낼 초강력 대책이 될 수 있다. 하지만 부작용도 우려된다. 소득이 낮은 사회초년생 등은 청약통장을 갖고도 분양시장에 진입하는 게 어려워지기 때문이다. </p>\n",
      "<p dmcf-pid=\"nzh7QZekII\" dmcf-ptype=\"general\">이에 따라 잔금대출에 DTI를 적용하는 것 역시 지역 등에 따라 선별적으로 이뤄질 가능성이 높다. 현재 당국은 신규 분양 물량부터 규제를 적용할지 아니면 기존 분양 물량까지 규제 범위를 확대할지를 놓고 시뮬레이션을 하고 있다. </p>\n",
      "<p dmcf-pid=\"nihh22vlmu\" dmcf-ptype=\"general\">아울러 당국은 지난 2년간 완화됐던 LTV와 DTI를 다시 강화할 것으로 보인다. 현재 LTV(은행 기준)는 기존 50~60%에서 70%, DTI는 50~60%에서 60%로 완화돼 있는 상태다. 당국은 일괄적인 조이기보다 지역ㆍ집값 수준별로 기준을 다르게 적용하는 방식을 모색할 것으로 보인다.</p>\n",
      "<p dmcf-pid=\"naJ5HNfuMQ\" dmcf-ptype=\"general\">김동욱 기자 kdw1280@hankookilbo.com</p>\n",
      "</section>\n",
      "</div>]\n"
     ]
    }
   ],
   "source": [
    "container = soup.select('#harmonyContainer')\n",
    "\n",
    "print(container)"
   ]
  },
  {
   "cell_type": "markdown",
   "metadata": {
    "colab_type": "text",
    "id": "SDZn67XnhDVH"
   },
   "source": [
    "<br>\n",
    "\n",
    "- `div` 태그 중 `id`가 `mArticle`인 태그의 하위 태그 중 아이디가 `harmonyContainer`인 태그 검색"
   ]
  },
  {
   "cell_type": "code",
   "execution_count": 15,
   "metadata": {
    "colab": {
     "base_uri": "https://localhost:8080/",
     "height": 379
    },
    "colab_type": "code",
    "id": "FUcxMd4thM35",
    "outputId": "092fae6d-5d40-4840-81c6-7de11340d349"
   },
   "outputs": [
    {
     "name": "stdout",
     "output_type": "stream",
     "text": [
      "\n",
      "\n",
      "내주 부동산 종합대책 발표\n",
      "집값 상승 노린 투기 분양 차단\n",
      "LTVㆍDTI 규제 다시 강화할 듯\n",
      "저소득 실수요자 피해 우려도\n",
      "\n",
      "\n",
      "\n",
      "금융당국이 급증하는 가계부채 증가세를 막기 위해 아파트 잔금대출에도 소득을 따져 대출한도를 정하는 총부채상환비율(DTI)을 적용하는 방안을 유력하게 검토하고 있다. 지금은 집값을 기준으로 대출한도를 매기는 주택담보인정비율(LTV) 규제만 적용돼 소득이 없어도 집값의 70%를 빌려 잔금을 치르는 게 가능하다. 앞으로 잔금대출에 DTI가 적용되면 소득 없는 사람이 입주 뒤 집값 상승을 노리고 분양시장에 뛰어드는 게 사실상 불가능해진다. \n",
      "금융당국 고위관계자는 15일 “잔금대출에도 DTI를 적용하는 방안을 검토 중”이라며 “다만 아직 최종 결론이 난 건 아니다”고 말했다. 정부는 내주 이 같은 내용을 포함한 부동산 종합 대책을 발표할 예정이다. \n",
      "정부가 잔금대출 DTI 적용 카드를 꺼내는 건, 집단대출을 잡지 않고선 과열된 주택시장을 진정시키기 어렵다는 판단에서다. 실제 정부는 지난해 잔금대출도 대출 초기부터 원리금을 함께 갚도록 하는 여신심사 가이드라인을 도입했지만 이렇다 할 효과를 거두지 못했다. 오히려 정부 대책에도 불구, 집단대출 증가액은 매달 늘어나는 추세인데 지난달엔 2조원으로 올 들어 최고치를 기록했다. \n",
      "아파트 분양 집단대출은 중도금과 잔금대출로 구분된다. 계약금 10%를 내면 입주 전까지 집값의 60%를 중도금 대출로 받을 수 있다. 중도금 대출은 건설사 보증으로 이뤄져 소득심사를 안 거친다. 잔금대출은 건설사가 아닌 집을 담보로 이뤄지는 대출이다. LTV 규제만 적용돼 소득이 없어도 집값의 70%까지 대출이 가능하다. 때문에 지금은 잔금대출로 집값의 70%를 대출받아 기존 중도금 대출을 갚고 나머지 20%만 본인 돈으로 충당하면 집을 살 수 있다.\n",
      "앞으로 잔금대출에 DTI가 적용되면 소득이 없는 사람은 집값의 70% 대출 받는 게 어려워진다. 입주 뒤 집값 상승을 노리는 투기수요를 확실히 걸러낼 초강력 대책이 될 수 있다. 하지만 부작용도 우려된다. 소득이 낮은 사회초년생 등은 청약통장을 갖고도 분양시장에 진입하는 게 어려워지기 때문이다. \n",
      "이에 따라 잔금대출에 DTI를 적용하는 것 역시 지역 등에 따라 선별적으로 이뤄질 가능성이 높다. 현재 당국은 신규 분양 물량부터 규제를 적용할지 아니면 기존 분양 물량까지 규제 범위를 확대할지를 놓고 시뮬레이션을 하고 있다. \n",
      "아울러 당국은 지난 2년간 완화됐던 LTV와 DTI를 다시 강화할 것으로 보인다. 현재 LTV(은행 기준)는 기존 50~60%에서 70%, DTI는 50~60%에서 60%로 완화돼 있는 상태다. 당국은 일괄적인 조이기보다 지역ㆍ집값 수준별로 기준을 다르게 적용하는 방식을 모색할 것으로 보인다.\n",
      "김동욱 기자 kdw1280@hankookilbo.com\n",
      "\n",
      "\n"
     ]
    }
   ],
   "source": [
    "title = soup.select('div#mArticle div#harmonyContainer')[0]\n",
    "\n",
    "print(title.get_text())"
   ]
  },
  {
   "cell_type": "markdown",
   "metadata": {
    "colab_type": "text",
    "id": "Jd39-OU6hiP2"
   },
   "source": [
    "<br>\n",
    "\n",
    "## 4.6 `soup.select('태그명[속성명]')`\n",
    "\n",
    "- 태그명 다음 `[]` 안에 속성명을 입력하여 검색"
   ]
  },
  {
   "cell_type": "code",
   "execution_count": null,
   "metadata": {
    "colab": {},
    "colab_type": "code",
    "id": "nEUQ0d99hyVo"
   },
   "outputs": [],
   "source": [
    "import re\n",
    "\n",
    "res = requests.get('http://media.daum.net/economic/')\n",
    "\n",
    "soup = BeautifulSoup(res.content, 'html.parser')\n",
    "\n",
    "# a 태그이면서 href 속성을 갖는 경우 탐색\n",
    "# 리스트 타입으로 links 변수에 저장됨\n",
    "links = soup.select('a[href]')"
   ]
  },
  {
   "cell_type": "code",
   "execution_count": 19,
   "metadata": {
    "colab": {
     "base_uri": "https://localhost:8080/",
     "height": 1000
    },
    "colab_type": "code",
    "id": "qJ2t3UYeiC6Q",
    "outputId": "be87f6cb-45bf-4031-faca-0daa7d8dad0c"
   },
   "outputs": [
    {
     "name": "stdout",
     "output_type": "stream",
     "text": [
      "http://search.daum.net/search?w=tot&DA=23W&rtmaxcoll=Z8T&q=서울특별시날씨\n",
      "http://search.daum.net/search?w=tot&DA=23W&rtmaxcoll=Z8T&q=수원시 권선구날씨\n",
      "http://search.daum.net/search?w=tot&DA=23W&rtmaxcoll=Z8T&q=인천광역시날씨\n",
      "http://search.daum.net/search?w=tot&DA=23W&rtmaxcoll=Z8T&q=대구광역시날씨\n",
      "http://search.daum.net/search?w=tot&DA=23W&rtmaxcoll=Z8T&q=대전광역시날씨\n",
      "http://search.daum.net/search?w=tot&DA=23W&rtmaxcoll=Z8T&q=광주광역시날씨\n",
      "http://search.daum.net/search?w=tot&DA=23W&rtmaxcoll=Z8T&q=부산광역시날씨\n",
      "http://search.daum.net/search?w=tot&DA=23W&rtmaxcoll=Z8T&q=울산광역시날씨\n",
      "http://search.daum.net/search?w=tot&DA=23W&rtmaxcoll=Z8T&q=울릉군날씨\n",
      "http://search.daum.net/search?w=tot&DA=23W&rtmaxcoll=Z8T&q=춘천시날씨\n",
      "http://search.daum.net/search?w=tot&DA=23W&rtmaxcoll=Z8T&q=강릉시날씨\n",
      "http://search.daum.net/search?w=tot&DA=23W&rtmaxcoll=Z8T&q=백령면날씨\n",
      "http://search.daum.net/search?w=tot&DA=23W&rtmaxcoll=Z8T&q=청주시 상당구날씨\n",
      "http://search.daum.net/search?w=tot&DA=23W&rtmaxcoll=Z8T&q=전주시 완산구날씨\n",
      "http://search.daum.net/search?w=tot&DA=23W&rtmaxcoll=Z8T&q=목포시날씨\n",
      "http://search.daum.net/search?w=tot&DA=23W&rtmaxcoll=Z8T&q=여수시날씨\n",
      "http://search.daum.net/search?w=tot&DA=23W&rtmaxcoll=Z8T&q=제주특별자치도날씨\n",
      "http://search.daum.net/search?w=tot&DA=23W&rtmaxcoll=Z8T&q=안동시날씨\n",
      "http://search.daum.net/search?w=tot&DA=23W&rtmaxcoll=Z8T&q=창원시 의창구날씨\n",
      "http://v.media.daum.net/v/20200504050115705\n",
      "http://v.media.daum.net/v/20200504050115705\n",
      "http://v.media.daum.net/v/20200504073043852\n",
      "http://v.media.daum.net/v/20200504073043852\n",
      "http://v.media.daum.net/v/20200504143346041\n",
      "http://v.media.daum.net/v/20200504143346041\n",
      "http://v.media.daum.net/v/20200504132626980\n",
      "http://v.media.daum.net/v/20200504132626980\n",
      "http://v.media.daum.net/v/20200504152132958\n",
      "http://v.media.daum.net/v/20200504152132958\n",
      "http://v.media.daum.net/v/20200504120921716\n",
      "http://v.media.daum.net/v/20200504120921716\n",
      "http://v.media.daum.net/v/20200503173305684\n",
      "http://v.media.daum.net/v/20200503173305684\n",
      "http://v.media.daum.net/v/20200504153402384\n",
      "http://v.media.daum.net/v/20200504153402384\n",
      "http://v.media.daum.net/v/20200504152132958\n",
      "http://v.media.daum.net/v/20200504153402384\n",
      "http://v.media.daum.net/v/20200504133845259\n",
      "http://v.media.daum.net/v/20200504140539003\n",
      "http://v.media.daum.net/v/20200504134710489\n",
      "http://v.media.daum.net/v/20200504143718162\n",
      "http://v.media.daum.net/v/20200504135555681\n",
      "http://v.media.daum.net/v/20200504133300121\n",
      "http://v.media.daum.net/v/20200504145020704\n",
      "http://v.media.daum.net/v/20200504143850224\n",
      "http://v.media.daum.net/v/20200504070710612\n",
      "http://v.media.daum.net/v/20200504115229338\n",
      "http://v.media.daum.net/v/20200504160018246\n",
      "http://v.media.daum.net/v/20200504134512432\n",
      "http://v.media.daum.net/v/20200504153402384\n",
      "http://v.media.daum.net/v/20200504145647926\n",
      "http://v.media.daum.net/v/20200504134614458\n",
      "http://v.media.daum.net/v/20200504151717836\n",
      "http://v.media.daum.net/v/20200504140645049\n",
      "http://v.media.daum.net/v/20200504130710642\n",
      "http://v.media.daum.net/v/20200504144630566\n",
      "http://v.media.daum.net/v/20200504141423270\n",
      "http://v.media.daum.net/v/20200504150412308\n",
      "http://v.media.daum.net/v/20200504133350143\n",
      "http://v.media.daum.net/v/20200504152132958\n",
      "http://v.media.daum.net/v/20200504140007813\n",
      "http://v.media.daum.net/v/20200504151746850\n",
      "http://v.media.daum.net/v/20200504144733591\n",
      "http://v.media.daum.net/v/20200504135329619\n",
      "http://v.media.daum.net/v/20200504150535390\n",
      "http://v.media.daum.net/v/20200504124835314\n",
      "http://v.media.daum.net/v/20200504145213780\n",
      "http://v.media.daum.net/v/20200504115604415\n",
      "http://v.media.daum.net/v/20200504133146087\n",
      "http://v.media.daum.net/v/20200504101645368?s=eRIGHT_MANY_TOT=R\n",
      "http://v.media.daum.net/v/20200504105735993?s=eRIGHT_MANY_TOT=R\n",
      "http://v.media.daum.net/v/20200504125302393?s=eRIGHT_MANY_TOT=R\n",
      "http://v.media.daum.net/v/20200504105112751?s=eRIGHT_MANY_TOT=R\n",
      "http://v.media.daum.net/v/20200504140431965?s=eRIGHT_MANY_TOT=R\n",
      "http://v.media.daum.net/v/20200504114429087?s=eRIGHT_MANY_TOT=R\n",
      "http://v.media.daum.net/v/20200504060046078?s=eRIGHT_MANY_TOT=R\n",
      "http://v.media.daum.net/v/20200504091534117?s=eRIGHT_MANY_TOT=R\n",
      "http://v.media.daum.net/v/20200504081601507?s=eRIGHT_MANY_TOT=R\n",
      "http://v.media.daum.net/v/20200504095650526?s=eRIGHT_MANY_TOT=R\n",
      "http://v.media.daum.net/v/20200504094818239?s=eRIGHT_MANY_TOT=R\n",
      "http://v.media.daum.net/v/20200504100100689?s=eRIGHT_MANY_TOT=R\n",
      "http://v.media.daum.net/v/20200504121335779?s=eRIGHT_MANY_TOT=R\n",
      "http://v.media.daum.net/v/20200504145047719?s=eRIGHT_MANY_TOT=R\n",
      "http://v.media.daum.net/v/20200504132311907?s=eRIGHT_MANY_TOT=R\n",
      "http://v.media.daum.net/v/20200504135614694?s=eRIGHT_MANY_TOT=R\n",
      "http://v.media.daum.net/v/20200504145802981?s=eRIGHT_MANY_TOT=R\n",
      "http://v.media.daum.net/v/20200504080204255?s=eRIGHT_MANY_TOT=R\n",
      "http://v.media.daum.net/v/20200503212912752?s=eRIGHT_MANY_TOT=R\n",
      "http://v.media.daum.net/v/20200504075435105?s=eRIGHT_MANY_TOT=R\n",
      "http://v.media.daum.net/v/20200504065409460?s=eRIGHT_MANY_TOT=R\n",
      "http://v.media.daum.net/v/20200504092415428?s=eRIGHT_MANY_TOT=R\n",
      "http://v.media.daum.net/v/20200504150900515?s=eRIGHT_MANY_TOT=R\n",
      "http://v.media.daum.net/v/20200504135454657?s=eRIGHT_MANY_TOT=R\n",
      "http://v.media.daum.net/v/20200504135610691?s=eRIGHT_MANY_TOT=R\n",
      "http://v.media.daum.net/v/20200504141049177?s=eRIGHT_MANY_TOT=R\n",
      "http://v.media.daum.net/v/20200504100556890?s=eRIGHT_MANY_TOT=R\n",
      "http://v.media.daum.net/v/20200504115627422?s=eRIGHT_MANY_TOT=R\n",
      "http://v.media.daum.net/v/20200504093557848?s=eRIGHT_MANY_TOT=R\n",
      "http://v.media.daum.net/v/20200504101003062?s=eRIGHT_MANY_TOT=R\n",
      "http://v.media.daum.net/v/20200504112800451\n",
      "http://v.media.daum.net/v/20200504135425639\n",
      "http://v.media.daum.net/v/20200504095956621\n",
      "http://v.media.daum.net/v/20200504150620434\n",
      "http://v.media.daum.net/v/20200504110315321\n",
      "http://v.media.daum.net/v/20200504124002175\n",
      "http://v.media.daum.net/v/20200504094355102\n",
      "http://v.media.daum.net/v/20200504080001173\n",
      "http://v.media.daum.net/v/20200504152403034\n",
      "http://v.media.daum.net/v/20200504145032715\n",
      "http://v.media.daum.net/v/20200504134717496\n",
      "http://v.media.daum.net/v/20200504130956677\n",
      "http://v.media.daum.net/v/20200504104202370\n",
      "http://v.media.daum.net/v/20200504144851642\n",
      "http://v.media.daum.net/v/20200504145118751\n",
      "http://v.media.daum.net/v/20200504141158208\n",
      "http://v.media.daum.net/v/20200504082928727\n",
      "http://v.media.daum.net/v/20200504110904600\n",
      "http://v.media.daum.net/v/20200504120042523\n",
      "http://v.media.daum.net/v/20200504102739762\n",
      "http://v.media.daum.net/v/20200504110156237\n",
      "http://v.media.daum.net/v/20200504092020267\n",
      "http://v.media.daum.net/v/20200504102201539\n",
      "http://v.media.daum.net/v/20200504095304415\n",
      "http://v.media.daum.net/v/20200504101235181\n",
      "http://v.media.daum.net/v/20200504121917862\n",
      "http://v.media.daum.net/v/20200504142621687\n",
      "http://v.media.daum.net/v/20200504145710949\n",
      "http://v.media.daum.net/v/20200504140903114\n",
      "http://v.media.daum.net/v/20200504150213201\n",
      "http://policy.daum.net/info/info\n",
      "http://cs.daum.net/faq/63.html\n",
      "http://www.kakaocorp.com/\n"
     ]
    }
   ],
   "source": [
    "for link in links:\n",
    "    # print(link)\n",
    "    # <a class=\"link_services link_services2\" href=\"http://sports.media.daum.net/sports\">스포츠</a>\n",
    "\n",
    "    # print (link['href']) \n",
    "    # http://sports.media.daum.net/sports\n",
    "\n",
    "    # http:// 문자열 이후에 숫자 또는 문자[a-zA-Z0-9_]가 한 개 이상 있는 데이터와 매치됨 \n",
    "    if re.search('http://\\w+', link['href']):\n",
    "        print(link['href'])"
   ]
  },
  {
   "cell_type": "markdown",
   "metadata": {
    "colab_type": "text",
    "id": "W1RKuNLfia88"
   },
   "source": [
    "<br>\n",
    "\n",
    "## 4.7 CSS Selector SS Selector 활용 팁\n",
    "\n",
    "네이버 부동산 매매 아파트 이름과 가격만 찾아보기\n",
    "\n",
    "- 크롬 개발자 도구에서 태그 우클릭 > Copy > Copy Selector\n",
    "- Copy Selector 시 일부 태그에 붙는 `:nth-child(#)`은 동일한 태그로 리스트가 있을 경우, 리스트 중 특정한 값만 가리킴\n",
    "- 전체 리스트를 가져오는 경우에는 `:nth-child(#)`는 삭제할 필요가 있음"
   ]
  },
  {
   "cell_type": "code",
   "execution_count": null,
   "metadata": {
    "colab": {},
    "colab_type": "code",
    "id": "2ZRNIyHqjCjA"
   },
   "outputs": [],
   "source": [
    "import re\n",
    "import requests\n",
    "from bs4 import BeautifulSoup\n",
    "\n",
    "res = requests.get('https://land.naver.com/article/divisionInfo.nhn?rletTypeCd=A01&tradeTypeCd=A1&hscpTypeCd=A01%3AA03%3AA04&cortarNo=1168000000&articleOrderCode=&cpId=&minPrc=&maxPrc=&minWrrnt=&maxWrrnt=&minLease=&maxLease=&minSpc=&maxSpc=&subDist=&mviDate=&hsehCnt=&rltrId=&mnex=&siteOrderCode=&cmplYn=')"
   ]
  },
  {
   "cell_type": "code",
   "execution_count": null,
   "metadata": {
    "colab": {},
    "colab_type": "code",
    "id": "g6M0Kb-EjPyc"
   },
   "outputs": [],
   "source": [
    "soup = BeautifulSoup(res.content, 'html.parser')"
   ]
  },
  {
   "cell_type": "code",
   "execution_count": null,
   "metadata": {
    "colab": {},
    "colab_type": "code",
    "id": "-nseIpQRjT2K"
   },
   "outputs": [],
   "source": [
    "# a 태그이면서 href 속성 값이 특정한 값을 갖는 경우 탐색\n",
    "#link_title = soup.select(\"#depth4Tab0Content > div > table > tbody > tr > td.align_l.name > div > a.sale_title\")\n",
    "link_title = soup.select(\"#depth4Tab0Content > div > table > tbody > tr > td.align_l.name > div > a\")\n",
    "#link_price = soup.select(\"#depth4Tab0Content > div > table > tbody > tr > td.num.align_r > div > strong\")\n",
    "link_price = soup.select(\"#depth4Tab0Content > div > table > tbody > tr > td.num.align_r > div > strong\")"
   ]
  },
  {
   "cell_type": "code",
   "execution_count": 24,
   "metadata": {
    "colab": {
     "base_uri": "https://localhost:8080/",
     "height": 647
    },
    "colab_type": "code",
    "id": "kYWuvAeejfQT",
    "outputId": "c5332866-fb51-4dbb-fb39-cf580504aefd"
   },
   "outputs": [
    {
     "name": "stdout",
     "output_type": "stream",
     "text": [
      "개포주공1단지  -  275,000\n",
      "개포주공1단지  -  200,000\n",
      "래미안블레스티지  -  190,000\n",
      "개포주공1단지  -  240,000\n",
      "래미안블레스티지  -  230,000\n",
      "개포주공1단지  -  275,000\n",
      "개포주공1단지  -  210,000\n",
      "개포주공1단지  -  190,000\n",
      "개포주공1단지  -  210,000\n",
      "청담자이  -  330,000\n",
      "개포주공1단지  -  188,000\n",
      "도곡쌍용예가  -  155,000\n",
      "삼성한일  -  130,000\n",
      "청담자이  -  325,000\n",
      "개포주공1단지  -  240,000\n",
      "청담자이  -  180,000\n",
      "청담자이  -  295,000\n",
      "청담래미안로이뷰  -  245,000\n",
      "청담자이  -  173,000\n",
      "청담자이  -  320,000\n",
      "청담래미안로이뷰  -  245,000\n",
      "논현동양파라곤  -  255,000\n",
      "래미안블레스티지  -  330,000\n",
      "래미안블레스티지  -  152,000\n",
      "청담자이  -  320,000\n",
      "래미안블레스티지  -  285,000\n",
      "청담자이  -  173,000\n",
      "청담자이  -  255,000\n",
      "논현아펠바움2차  -  400,000\n",
      "강남데시앙포레  -  130,000\n",
      "마크힐스1,2단지  -  630,000\n",
      "청담자이  -  325,000\n",
      "래미안블레스티지  -  190,000\n",
      "청담아이파크  -  240,000\n",
      "래미안블레스티지  -  370,000\n"
     ]
    }
   ],
   "source": [
    "for num in range(len(link_price)):\n",
    "    print(link_title[num].get_text(), \" - \", link_price[num].get_text())"
   ]
  }
 ],
 "metadata": {
  "colab": {
   "collapsed_sections": [],
   "name": "4_Crawling-with-CSS-Selector.ipynb",
   "provenance": []
  },
  "kernelspec": {
   "display_name": "Python 3",
   "language": "python",
   "name": "python3"
  },
  "language_info": {
   "codemirror_mode": {
    "name": "ipython",
    "version": 3
   },
   "file_extension": ".py",
   "mimetype": "text/x-python",
   "name": "python",
   "nbconvert_exporter": "python",
   "pygments_lexer": "ipython3",
   "version": "3.6.9"
  }
 },
 "nbformat": 4,
 "nbformat_minor": 4
}
