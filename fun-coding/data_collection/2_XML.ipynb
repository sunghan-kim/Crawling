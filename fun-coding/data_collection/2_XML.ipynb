{
 "cells": [
  {
   "cell_type": "markdown",
   "metadata": {},
   "source": [
    "# 2. XML 파일 읽기"
   ]
  },
  {
   "cell_type": "markdown",
   "metadata": {},
   "source": [
    "## 2.1 XML (Extensible Markup Language)\n",
    "\n",
    "- 특정 목적에 따라 데이터를 태그로 감싸서 마크업하는 범용적인 포맷\n",
    "- 마크업 언어는 태그 등을 이용하여 데이터의 구조를 기술하는 언어의 한 가지\n",
    "- 가장 친숙한 마크업 언어 -> HTML\n",
    "- XML은 HTML과 마찬가지로 데이터를 계층 구조로 표현"
   ]
  },
  {
   "cell_type": "markdown",
   "metadata": {},
   "source": [
    "<br>\n",
    "\n",
    "## 2.2 XML 기본 구조\n",
    "\n",
    "```xml\n",
    "<태그 속성=\"속성값\">내용\n",
    "```\n",
    "\n",
    "- 태그와 속성은 특정 목적에 따라 임의로 이름을 정해서 사용\n",
    "- 다른 요소와 그룹으로 묶을 수도 있음"
   ]
  },
  {
   "cell_type": "markdown",
   "metadata": {},
   "source": [
    "<br>\n",
    "\n",
    "## 2.3 XML 포멧 데이터 읽고, 파싱하기\n",
    "\n",
    "- XML 포멧 데이터는 `BeautifulSoup`으로 HTML과 동일하게 읽고, 파싱할 수 있음\n",
    "- 이외에도 XML을 다루기 위해 `ElementTree` 라이브러리를 활용할 수 있다."
   ]
  },
  {
   "cell_type": "markdown",
   "metadata": {},
   "source": [
    "- `html.parser` 파서 이외에 XML 파싱을 위해 `lxml` 파서를 사용할 수 있다.\n",
    "- 파서별 차이점 : [https://www.crummy.com/software/BeautifulSoup/bs4/doc/#differences-between-parsers](https://www.crummy.com/software/BeautifulSoup/bs4/doc/#differences-between-parsers)"
   ]
  },
  {
   "cell_type": "markdown",
   "metadata": {},
   "source": [
    "<br>\n",
    "\n",
    "## 2.4 연습문제: XML 파싱\n",
    "\n",
    "- 다음과 같이 출력 : 도시별 가장 시간대가 빠른 때의 기상 예측\n",
    "\n",
    "```\n",
    "---------\n",
    "서울: 구름조금\n",
    "인천: 구름조금\n",
    "---------\n",
    "```"
   ]
  },
  {
   "cell_type": "code",
   "execution_count": 1,
   "metadata": {},
   "outputs": [
    {
     "name": "stdout",
     "output_type": "stream",
     "text": [
      "서울  :  흐리고 비\n",
      "인천  :  흐리고 비\n",
      "수원  :  흐리고 비\n",
      "파주  :  흐리고 비\n",
      "이천  :  흐리고 비\n",
      "평택  :  흐리고 비\n",
      "백령도  :  흐리고 비\n",
      "과천  :  흐리고 비\n",
      "광명  :  흐리고 비\n",
      "강화  :  흐리고 비\n",
      "김포  :  흐리고 비\n",
      "시흥  :  흐리고 비\n",
      "안산  :  흐리고 비\n",
      "부천  :  흐리고 비\n",
      "의정부  :  흐리고 비\n",
      "고양  :  흐리고 비\n",
      "양주  :  흐리고 비\n",
      "동두천  :  흐리고 비\n",
      "연천  :  흐리고 비\n",
      "포천  :  흐리고 비\n",
      "가평  :  흐리고 비\n",
      "구리  :  흐리고 비\n",
      "남양주  :  흐리고 비\n",
      "양평  :  흐리고 비\n",
      "하남  :  흐리고 비\n",
      "안양  :  흐리고 비\n",
      "오산  :  흐리고 비\n",
      "화성  :  흐리고 비\n",
      "성남  :  흐리고 비\n",
      "의왕  :  흐리고 비\n",
      "군포  :  흐리고 비\n",
      "안성  :  흐리고 비\n",
      "용인  :  흐리고 비\n",
      "광주  :  흐리고 비\n",
      "여주  :  흐리고 비\n"
     ]
    }
   ],
   "source": [
    "from bs4 import BeautifulSoup\n",
    "import requests\n",
    "import datetime\n",
    "import json\n",
    "\n",
    "info_url = 'http://www.kma.go.kr/weather/forecast/mid-term-rss3.jsp?stnId=109'\n",
    "\n",
    "response = requests.get(info_url)\n",
    "soup = BeautifulSoup(response.content, 'lxml')\n",
    "\n",
    "locations = soup.find_all('location')\n",
    "\n",
    "for location in locations:\n",
    "    city = location.find('city').text\n",
    "    wf = location.find('wf').text\n",
    "    print(city, \" : \", wf)"
   ]
  },
  {
   "cell_type": "markdown",
   "metadata": {},
   "source": [
    "<br>\n",
    "\n",
    "## 2.5 과제 1\n",
    "\n",
    "- 전국 날씨 예측 데이터 도시별, 일자(오전, 오후)별 pandas DataFrame 만들고 출력\n",
    "- 사용 데이터 : [http://www.kma.go.kr/weather/forecast/mid-term-rss3.jsp?stnId=108](http://www.kma.go.kr/weather/forecast/mid-term-rss3.jsp?stnId=108)"
   ]
  },
  {
   "cell_type": "code",
   "execution_count": 2,
   "metadata": {},
   "outputs": [],
   "source": [
    "from bs4 import BeautifulSoup\n",
    "import requests\n",
    "import datetime\n",
    "import pandas as pd\n",
    "\n",
    "info_url = \"http://www.weather.go.kr/weather/forecast/mid-term-rss3.jsp?stnId=108\"\n",
    "response = requests.get(info_url)\n",
    "soup = BeautifulSoup(response.content, 'lxml')\n",
    "\n",
    "city_list = []\n",
    "date_list = []\n",
    "time_list = []\n",
    "weather_list = []\n",
    "\n",
    "locations = soup.find_all('location')\n",
    "\n",
    "for location in locations:\n",
    "    city = location.find('city').text\n",
    "    dates = location.find_all('tmef')\n",
    "    weathers = location.find_all('wf')\n",
    "    \n",
    "    for date, weather in zip(dates, weathers):\n",
    "        # city\n",
    "        city_list.append(city)\n",
    "        \n",
    "        # date, time\n",
    "        date_dt = datetime.datetime.strptime(date.text, \"%Y-%m-%d %H:%M\")\n",
    "        date_str = date_dt.strftime(\"%Y-%m-%d\")\n",
    "        time_str = date_dt.strftime(\"%H\")\n",
    "        \n",
    "        date_list.append(date_str)\n",
    "        time_list.append(\"AM\" if time_str == \"00\" else \"PM\")\n",
    "        \n",
    "        # weather\n",
    "        weather_list.append(weather.text)\n",
    "        \n",
    "df = pd.DataFrame({\"City\": city_list, \"Date\": date_list, \"Time\": time_list, \"Weather\": weather_list})        "
   ]
  },
  {
   "cell_type": "code",
   "execution_count": 3,
   "metadata": {},
   "outputs": [
    {
     "data": {
      "text/html": [
       "<div>\n",
       "<style scoped>\n",
       "    .dataframe tbody tr th:only-of-type {\n",
       "        vertical-align: middle;\n",
       "    }\n",
       "\n",
       "    .dataframe tbody tr th {\n",
       "        vertical-align: top;\n",
       "    }\n",
       "\n",
       "    .dataframe thead th {\n",
       "        text-align: right;\n",
       "    }\n",
       "</style>\n",
       "<table border=\"1\" class=\"dataframe\">\n",
       "  <thead>\n",
       "    <tr style=\"text-align: right;\">\n",
       "      <th></th>\n",
       "      <th>City</th>\n",
       "      <th>Date</th>\n",
       "      <th>Time</th>\n",
       "      <th>Weather</th>\n",
       "    </tr>\n",
       "  </thead>\n",
       "  <tbody>\n",
       "    <tr>\n",
       "      <th>0</th>\n",
       "      <td>서울</td>\n",
       "      <td>2020-05-10</td>\n",
       "      <td>AM</td>\n",
       "      <td>흐리고 비</td>\n",
       "    </tr>\n",
       "    <tr>\n",
       "      <th>1</th>\n",
       "      <td>서울</td>\n",
       "      <td>2020-05-10</td>\n",
       "      <td>PM</td>\n",
       "      <td>맑음</td>\n",
       "    </tr>\n",
       "    <tr>\n",
       "      <th>2</th>\n",
       "      <td>서울</td>\n",
       "      <td>2020-05-11</td>\n",
       "      <td>AM</td>\n",
       "      <td>맑음</td>\n",
       "    </tr>\n",
       "    <tr>\n",
       "      <th>3</th>\n",
       "      <td>서울</td>\n",
       "      <td>2020-05-11</td>\n",
       "      <td>PM</td>\n",
       "      <td>맑음</td>\n",
       "    </tr>\n",
       "    <tr>\n",
       "      <th>4</th>\n",
       "      <td>서울</td>\n",
       "      <td>2020-05-12</td>\n",
       "      <td>AM</td>\n",
       "      <td>맑음</td>\n",
       "    </tr>\n",
       "    <tr>\n",
       "      <th>...</th>\n",
       "      <td>...</td>\n",
       "      <td>...</td>\n",
       "      <td>...</td>\n",
       "      <td>...</td>\n",
       "    </tr>\n",
       "    <tr>\n",
       "      <th>528</th>\n",
       "      <td>서귀포</td>\n",
       "      <td>2020-05-14</td>\n",
       "      <td>AM</td>\n",
       "      <td>구름많음</td>\n",
       "    </tr>\n",
       "    <tr>\n",
       "      <th>529</th>\n",
       "      <td>서귀포</td>\n",
       "      <td>2020-05-14</td>\n",
       "      <td>PM</td>\n",
       "      <td>흐리고 비</td>\n",
       "    </tr>\n",
       "    <tr>\n",
       "      <th>530</th>\n",
       "      <td>서귀포</td>\n",
       "      <td>2020-05-15</td>\n",
       "      <td>AM</td>\n",
       "      <td>흐림</td>\n",
       "    </tr>\n",
       "    <tr>\n",
       "      <th>531</th>\n",
       "      <td>서귀포</td>\n",
       "      <td>2020-05-16</td>\n",
       "      <td>AM</td>\n",
       "      <td>흐림</td>\n",
       "    </tr>\n",
       "    <tr>\n",
       "      <th>532</th>\n",
       "      <td>서귀포</td>\n",
       "      <td>2020-05-17</td>\n",
       "      <td>AM</td>\n",
       "      <td>흐림</td>\n",
       "    </tr>\n",
       "  </tbody>\n",
       "</table>\n",
       "<p>533 rows × 4 columns</p>\n",
       "</div>"
      ],
      "text/plain": [
       "    City        Date Time Weather\n",
       "0     서울  2020-05-10   AM   흐리고 비\n",
       "1     서울  2020-05-10   PM      맑음\n",
       "2     서울  2020-05-11   AM      맑음\n",
       "3     서울  2020-05-11   PM      맑음\n",
       "4     서울  2020-05-12   AM      맑음\n",
       "..   ...         ...  ...     ...\n",
       "528  서귀포  2020-05-14   AM    구름많음\n",
       "529  서귀포  2020-05-14   PM   흐리고 비\n",
       "530  서귀포  2020-05-15   AM      흐림\n",
       "531  서귀포  2020-05-16   AM      흐림\n",
       "532  서귀포  2020-05-17   AM      흐림\n",
       "\n",
       "[533 rows x 4 columns]"
      ]
     },
     "execution_count": 3,
     "metadata": {},
     "output_type": "execute_result"
    }
   ],
   "source": [
    "df"
   ]
  },
  {
   "cell_type": "markdown",
   "metadata": {},
   "source": [
    "<br>\n",
    "\n",
    "## 2.6 과제 2\n",
    "\n",
    "- 아파트매매 실거래자료 데이터 읽기\n",
    "- [해당 링크](https://www.data.go.kr/dataset/3050988/openapi.do)에서 아파트매매 실거래 자료 API 권한 신청\n",
    "- 다음 지역/계약월 XML 데이터를 수신받아서 pandas DataFrame으로 만들어서 출력\n",
    "  - 지역 : 서울특별시 양천구\n",
    "  - 계약월 : 2017\n",
    "- pandas DataFrame 컬럼명\n",
    "  - 거래금액\n",
    "  - 년\n",
    "  - 법정동\n",
    "  - 아파트\n",
    "  - 월\n",
    "  - 일\n",
    "  - 전용면적\n",
    "  - 지번\n",
    "  - 지역코드\n",
    "  - 층"
   ]
  },
  {
   "cell_type": "markdown",
   "metadata": {},
   "source": [
    "### 2.6.1 크롤링 방법 1 : `requests` 이용"
   ]
  },
  {
   "cell_type": "code",
   "execution_count": 4,
   "metadata": {},
   "outputs": [
    {
     "name": "stdout",
     "output_type": "stream",
     "text": [
      "<?xml version=\"1.0\" encoding=\"UTF-8\" standalone=\"yes\"?><response><header><resultCode>99</resultCode><resultMsg>SERVICE KEY IS NOT REGISTERED ERROR.</resultMsg></header></response>\n"
     ]
    }
   ],
   "source": [
    "import requests\n",
    "\n",
    "url = 'http://openapi.molit.go.kr:8081/OpenAPI_ToolInstallPackage/service/rest/RTMSOBJSvc/getRTMSDataSvcAptTrade'\n",
    "LAWD_CD = '11110'\n",
    "DEAL_YMD = \"201512\"\n",
    "SERVICE_KEY = \"\"\n",
    "\n",
    "params = {\n",
    "    \"LAWD_CD\": LAWD_CD,\n",
    "    \"DEAL_YMD\": DEAL_YMD,\n",
    "    \"ServiceKey\": SERVICE_KEY\n",
    "}\n",
    "\n",
    "response = requests.get(url, headers=params)\n",
    "print(response.text)"
   ]
  },
  {
   "cell_type": "markdown",
   "metadata": {},
   "source": [
    "<br>\n",
    "\n",
    "### 2.6.2 크롤링 방법 2 : `PublicDataReader` 이용"
   ]
  },
  {
   "cell_type": "code",
   "execution_count": 9,
   "metadata": {},
   "outputs": [
    {
     "name": "stdout",
     "output_type": "stream",
     "text": [
      "Collecting PublicDataReader\n",
      "  Downloading PublicDataReader-0.1.1-py3-none-any.whl (40 kB)\n",
      "\u001b[K     |████████████████████████████████| 40 kB 455 kB/s eta 0:00:01\n",
      "\u001b[?25hInstalling collected packages: PublicDataReader\n",
      "Successfully installed PublicDataReader-0.1.1\n"
     ]
    }
   ],
   "source": [
    "!pip install PublicDataReader"
   ]
  },
  {
   "cell_type": "code",
   "execution_count": 10,
   "metadata": {},
   "outputs": [
    {
     "name": "stdout",
     "output_type": "stream",
     "text": [
      "\n",
      ">>> PublicDataReader Version : 0.1.1\n",
      "\n",
      "- Author : Wooil Jeong\n",
      "- E-mail : wooil@kakao.com\n",
      "- Github : https://github.com/WooilJeong/PublicDataReader\n",
      "- Blog : https://wooiljeong.github.io\n",
      "\n"
     ]
    }
   ],
   "source": [
    "import PublicDataReader as pdr\n",
    "print(pdr.__version__)"
   ]
  },
  {
   "cell_type": "code",
   "execution_count": 11,
   "metadata": {},
   "outputs": [
    {
     "name": "stdout",
     "output_type": "stream",
     "text": [
      ">>> 서비스키 미등록 오류입니다.\n"
     ]
    }
   ],
   "source": [
    "SERVICE_KEY = \"\"\n",
    "\n",
    "AptTrade = pdr.AptTradeReader(SERVICE_KEY)"
   ]
  },
  {
   "cell_type": "code",
   "execution_count": null,
   "metadata": {},
   "outputs": [],
   "source": []
  }
 ],
 "metadata": {
  "kernelspec": {
   "display_name": "Python 3",
   "language": "python",
   "name": "python3"
  },
  "language_info": {
   "codemirror_mode": {
    "name": "ipython",
    "version": 3
   },
   "file_extension": ".py",
   "mimetype": "text/x-python",
   "name": "python",
   "nbconvert_exporter": "python",
   "pygments_lexer": "ipython3",
   "version": "3.6.10"
  }
 },
 "nbformat": 4,
 "nbformat_minor": 4
}
