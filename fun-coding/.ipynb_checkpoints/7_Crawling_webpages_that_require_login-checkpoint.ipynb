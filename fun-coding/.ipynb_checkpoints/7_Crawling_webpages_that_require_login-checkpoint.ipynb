{
 "cells": [
  {
   "cell_type": "markdown",
   "metadata": {
    "colab_type": "text",
    "id": "pO2JNbC73s68"
   },
   "source": [
    "# 7. 로그인이 필요한 웹페이지 크롤링 이해 및 실습\n",
    "\n",
    "- 로그인이 필요한 웹페이지는 쿠키 또는 세션을 사용하는 경우가 일반적이다."
   ]
  },
  {
   "cell_type": "markdown",
   "metadata": {
    "colab_type": "text",
    "id": "vCHWvjit35f7"
   },
   "source": [
    "<br>\n",
    "\n",
    "## 7.1 한빛미디어 홈페이지(http://www.hanbit.co.kr) 마일리지 크롤링\n",
    "\n",
    "- 마일리지를 확인하기 위해 로그인 정보가 필요\n",
    "- 세션으로 관리되고 있음을 코드로 확인\n",
    "- 세션 정보를 획득하고, 이를 사용해서 마일리지 페이지에 접근하여 마일리지 점수 확인"
   ]
  },
  {
   "cell_type": "markdown",
   "metadata": {
    "colab_type": "text",
    "id": "a7ZdA66r4HcI"
   },
   "source": [
    "<br>\n",
    "\n",
    "### 7.1.1 로그인 페이지 분석\n",
    "\n",
    "- https://www.hanbit.co.kr/member/login.html\n",
    "- `form` 태그를 이해할 필요가 있다.\n",
    "- `form` 태그를 통해 ID/PW가 전달되는 것이 일반적이므로 해당 코드 확인\n",
    "- 다음 두 태그가 코드를 이해하는 데 핵심\n",
    "\n",
    "```html\n",
    "<form name=\"frm\"  id=\"frm\"  action=\"#\" method=\"post\">\n",
    "<input type=\"button\" name=\"login_btn\"  id=\"login_btn\" value=\"로그인\" class=\"btn_login\" >\n",
    "```"
   ]
  },
  {
   "cell_type": "markdown",
   "metadata": {
    "colab_type": "text",
    "id": "omzCXiZN4uAX"
   },
   "source": [
    "- javascript를 간결하게 만들기 위한 라이브러리인 jQuery 코드를 확인할 필요가 있음\n",
    "\n",
    "```javascript\n",
    "$(document).ready(function() { \n",
    "    $('#login_btn').click(function(){ login_proc(); });\t\t\t\t\t\t\t\t\t\t\n",
    "});\n",
    "\n",
    "\n",
    "function login_proc(){\t\t\t\t\t\n",
    "    var chk_rule =  \"m_id:isEmpty:아이디를 입력\"\t\t\t\t\n",
    "                        +\"@m_passwd:isEmpty:비밀번호를 입력\"\t\t\t\t\t\t\t\t\t\t\t\t\t\t\t\t\t\t\t\t\t\t\t\t\t\t\t\t\t\t\t\t\t\t\t\n",
    "                        ;\t\t\t\t\t\t\t\t\t\t\t \n",
    "    if(validateForm(chk_rule)){\t\n",
    "        $(\"#frm\").attr(\"action\",\"login_proc.php\");\n",
    "        $(\"#frm\").submit();\t\t\n",
    "        //console.log(\"validate success!!\");\n",
    "    }\n",
    "}\n",
    "```"
   ]
  },
  {
   "cell_type": "markdown",
   "metadata": {
    "colab_type": "text",
    "id": "zXeoGPHl48d-"
   },
   "source": [
    "<br>\n",
    "\n",
    "```javascript\n",
    "$('#login_btn').click(function(){ login_proc(); });\t\n",
    "```\n",
    "\n",
    "- `id`가 `login_btn`인 태그(`input type='button'`)가 click 되었을 때 `login_proc()` 함수를 호출하게 되어 있음"
   ]
  },
  {
   "cell_type": "markdown",
   "metadata": {
    "colab_type": "text",
    "id": "f6A8PXl65TDD"
   },
   "source": [
    "<br>\n",
    "\n",
    "```javascript\n",
    "$(\"#frm\").attr(\"action\",\"login_proc.php\");\n",
    "$(\"#frm\").submit();\n",
    "```\n",
    "\n",
    "- `id`가 `frm`인 태그(form 태그)에 `action` 속성을 `login_proc.php`로 바꿔주고 전송하게 되어 있음\n",
    "- 즉, 버튼을 누르면 `login_proc.php` 웹페이지에 `m_id` 값과 `m_passwd` 값을 넣어 전송해줌"
   ]
  },
  {
   "cell_type": "markdown",
   "metadata": {
    "colab_type": "text",
    "id": "Fe7qAf8M5kcS"
   },
   "source": [
    "<br>\n",
    "\n",
    "- 마일리지는 http://www.hanbit.co.kr/myhanbit/myhanbit.html 페이지에서 CSS Selector로 확인"
   ]
  },
  {
   "cell_type": "markdown",
   "metadata": {
    "colab_type": "text",
    "id": "lQqUTB835zUf"
   },
   "source": [
    "<br>\n",
    "\n",
    "### 7.1.2 로그인 및 마일리지 정보 획득 시나리오\n",
    "\n",
    "- `login.html` -> `login_proc.php` -> `index.html` 로 호출됨\n",
    "- `login_proc.php` Request Method가 POST이고, Form 데이터에서 `m_id`, `m_passwd`를 확인할 수 있음"
   ]
  },
  {
   "cell_type": "markdown",
   "metadata": {
    "colab_type": "text",
    "id": "QxPyzbMf6Ojy"
   },
   "source": [
    "<br>\n",
    "\n",
    "### 7.1.3 마일리지 정보 크롤링"
   ]
  },
  {
   "cell_type": "code",
   "execution_count": 39,
   "metadata": {
    "colab": {
     "base_uri": "https://localhost:8080/",
     "height": 34
    },
    "colab_type": "code",
    "id": "eBQ-vT1h6RjR",
    "outputId": "bccb7aba-4084-4b9f-b8a7-c845718f9646"
   },
   "outputs": [
    {
     "name": "stdout",
     "output_type": "stream",
     "text": [
      "mileage is  5,750\n"
     ]
    }
   ],
   "source": [
    "import requests\n",
    "from bs4 import BeautifulSoup\n",
    "\n",
    "login_url = 'https://www.hanbit.co.kr/member/login_proc.php'\n",
    "\n",
    "user = ''\n",
    "password = ''\n",
    "\n",
    "# requests.session 메서드는 해당 requests를 사용하는 동안 cookie를 header에 유지하도록 하여\n",
    "# 세션이 필요한 HTTP 요청에 사용된다.\n",
    "session = requests.session()\n",
    "\n",
    "params = dict()\n",
    "params['m_id'] = user\n",
    "params['m_passwd'] = password\n",
    "\n",
    "# javascript(jQuery) 코드를 분석해보니, 결국 login_proc.php를 m_id와 m_passwd 값과 함께\n",
    "# POST로 호출하기 때문에 다음과 같이 requests.session.post() 메서드를 활용함\n",
    "# 실제 코드 : <form name=\"frm\" id=\"frm\" action=\"#\" method=\"post\">\n",
    "\n",
    "res = session.post(login_url, data=params)\n",
    "\n",
    "# 응답 코드가 200 즉, OK가 아닌 경우 에러 발생\n",
    "res.raise_for_status()\n",
    "#print(res.status_code)\n",
    "#print(res.text)\n",
    "\n",
    "# 'Set-Cookie'로 PHPSESSID 라는 세션 ID 값이 넘어옴을 알 수 있다.\n",
    "#print(res.headers)\n",
    "\n",
    "# cookie로 세션을 로그인 상태를 관리하는 상태를 확인해보기 위한 코드\n",
    "#print(session.cookies.get_dict())\n",
    "\n",
    "# 여기서부터는 로그인이 된 세션이 유지된다.\n",
    "# session에 header에는 Cookie에 PHPSESSID가 들어간다.\n",
    "mypage_url = 'https://www.hanbit.co.kr/myhanbit/myhanbit.html'\n",
    "res = session.get(mypage_url)\n",
    "\n",
    "# 응답 코드가 200 즉, OK가 아닌 경우 에러를 발생시키는 메서드\n",
    "res.raise_for_status()\n",
    "#print(res.status_code)\n",
    "#print(res.text)\n",
    "\n",
    "soup = BeautifulSoup(res.text, 'html.parser')\n",
    "\n",
    "# Chrome 개발자 도구에서 CSS Selector를 통해 간단히 가져온 CSS Selector 표현식 사용\n",
    "#he_coin = soup.select_one('#container > div > div.sm_mymileage > dl.mileage_section2 > dd > span')\n",
    "he_coin = soup.select_one('#container > div > div.sm_mymileage > dl.mileage_section1 > dd > span')\n",
    "#print(he_coin)\n",
    "\n",
    "# 다음과 같이 class를 .mileage_section1로, 그리고 그 하부 태그 중에 span이 있다는 식으로 표현도 가능함\n",
    "# he_coin = soup.select_one('.mileage_section1 span')\n",
    "\n",
    "print('mileage is ', he_coin.get_text())"
   ]
  }
 ],
 "metadata": {
  "colab": {
   "collapsed_sections": [],
   "name": "7_Crawling-webpages-that-require-login.ipynb",
   "provenance": []
  },
  "kernelspec": {
   "display_name": "Python 3",
   "language": "python",
   "name": "python3"
  },
  "language_info": {
   "codemirror_mode": {
    "name": "ipython",
    "version": 3
   },
   "file_extension": ".py",
   "mimetype": "text/x-python",
   "name": "python",
   "nbconvert_exporter": "python",
   "pygments_lexer": "ipython3",
   "version": "3.6.9"
  }
 },
 "nbformat": 4,
 "nbformat_minor": 4
}
