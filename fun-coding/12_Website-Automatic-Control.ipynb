{
 "cells": [
  {
   "cell_type": "markdown",
   "metadata": {},
   "source": [
    "# 12. 웹사이트 자동 조작하기"
   ]
  },
  {
   "cell_type": "markdown",
   "metadata": {},
   "source": [
    "## 12.1 `element` 제어 관련 주요 이벤트 함수\n",
    "\n",
    "- `element.click()` : element 클릭\n",
    "- `element.double_click()` : element 더블 클릭\n",
    "- `element.send_keys()` : element 키보드 입력 전송\n",
    "- `element.move_to_element()` : element로 마우스 이동"
   ]
  },
  {
   "cell_type": "code",
   "execution_count": 2,
   "metadata": {},
   "outputs": [],
   "source": [
    "import warnings\n",
    "warnings.filterwarnings('ignore')"
   ]
  },
  {
   "cell_type": "code",
   "execution_count": 3,
   "metadata": {},
   "outputs": [
    {
     "name": "stdout",
     "output_type": "stream",
     "text": [
      "Hello there, Doky Kim!\n"
     ]
    }
   ],
   "source": [
    "from selenium import webdriver\n",
    "from selenium.webdriver.remote.webelement import WebElement\n",
    "from selenium.webdriver.common.keys import Keys\n",
    "from selenium.webdriver import ActionChains\n",
    "\n",
    "phantomjsDriver = \"E:/shkim/pythonRepository/Crawling/phantomjs/phantomjs-2.1.1-windows/bin/phantomjs.exe\"\n",
    "driver = webdriver.PhantomJS(phantomjsDriver)\n",
    "\n",
    "driver.get('http://pythonscraping.com/pages/files/form.html')\n",
    "\n",
    "firstnameField = driver.find_element_by_name('firstname')\n",
    "lastnameField = driver.find_element_by_name('lastname')\n",
    "submitButton = driver.find_element_by_id('submit')\n",
    "\n",
    "firstnameField.send_keys(\"Doky\")\n",
    "lastnameField.send_keys(\"Kim\")\n",
    "submitButton.click()\n",
    "\n",
    "print(driver.find_element_by_tag_name('body').text)\n",
    "\n",
    "driver.close()"
   ]
  },
  {
   "cell_type": "markdown",
   "metadata": {},
   "source": [
    "<br>\n",
    "\n",
    "## 12.2 `ActionChains()`\n",
    "\n",
    "- 행동 여러 개를 체인으로 묶어서 저장하고 원하는 만큼 실행\n",
    "- `perform()` 메서드 실행 시 전체 행동을 실행함"
   ]
  },
  {
   "cell_type": "code",
   "execution_count": 4,
   "metadata": {},
   "outputs": [
    {
     "name": "stdout",
     "output_type": "stream",
     "text": [
      "Hello there, Doky Kim!\n"
     ]
    }
   ],
   "source": [
    "from selenium import webdriver\n",
    "from selenium.webdriver.remote.webelement import WebElement\n",
    "from selenium.webdriver.common.keys import Keys\n",
    "from selenium.webdriver import ActionChains\n",
    "\n",
    "phantomjsDriver = \"E:/shkim/pythonRepository/Crawling/phantomjs/phantomjs-2.1.1-windows/bin/phantomjs.exe\"\n",
    "driver = webdriver.PhantomJS(phantomjsDriver)\n",
    "\n",
    "driver.get('http://pythonscraping.com/pages/files/form.html')\n",
    "\n",
    "firstnameField = driver.find_element_by_name('firstname')\n",
    "lastnameField = driver.find_element_by_name('lastname')\n",
    "submitButton = driver.find_element_by_id('submit')\n",
    "\n",
    "actions = ActionChains(driver).click(firstnameField).send_keys(\"Doky\").click(lastnameField).send_keys(\"Kim\").send_keys(Keys.RETURN)\n",
    "actions.perform()\n",
    "\n",
    "print(driver.find_element_by_tag_name('body').text)\n",
    "\n",
    "driver.close()"
   ]
  },
  {
   "cell_type": "markdown",
   "metadata": {},
   "source": [
    "<br>\n",
    "\n",
    "## 12.3 연습 문제\n",
    "\n",
    "- 다음 코드를 기반으로, 코드를 추가하여 해당 다음 뉴스 댓글을 모두 출력하는 프로그램 작성"
   ]
  },
  {
   "cell_type": "code",
   "execution_count": 46,
   "metadata": {},
   "outputs": [
    {
     "name": "stdout",
     "output_type": "stream",
     "text": [
      "https://news.v.daum.net/v/20170922175202762\n",
      "0 -> 3\n",
      "3 -> 13\n",
      "13 -> 23\n",
      "23 -> 33\n",
      "33 -> 43\n",
      "43 -> 53\n",
      "53 -> 63\n",
      "63 -> 73\n",
      "73 -> 83\n",
      "83 -> 93\n",
      "93 -> 103\n",
      "103 -> 113\n",
      "113 -> 121\n",
      "121 -> 121\n"
     ]
    }
   ],
   "source": [
    "from selenium import webdriver\n",
    "from selenium.webdriver.common.by import By\n",
    "from selenium.webdriver.support.ui import WebDriverWait\n",
    "from selenium.webdriver.support import expected_conditions as EC\n",
    "from selenium.common.exceptions import TimeoutException\n",
    "\n",
    "chromedriver = \"E:/shkim/pythonRepository/Crawling/webdriver/chromedriver_win32/chromedriver.exe\"\n",
    "driver = webdriver.Chrome(chromedriver)\n",
    "\n",
    "driver.get(\"http://v.media.daum.net/v/20170922175202762\")\n",
    "print(driver.current_url)\n",
    "\n",
    "comment_list = []\n",
    "author_list = []\n",
    "\n",
    "try:\n",
    "    # 댓글 영역 div 태그 로딩 대기\n",
    "    element = WebDriverWait(driver, 10).until(\n",
    "        EC.presence_of_element_located((By.ID, \"alex-area\"))\n",
    "    )\n",
    "    \n",
    "    more_button = driver.find_element_by_css_selector(\"div.alex_more\") # 댓글 더보기 버튼\n",
    "    cmt_list_cnt = 0 # 클릭 전 댓글 개수 저장 변수\n",
    "    \n",
    "    loop = True\n",
    "    while loop:\n",
    "        try:\n",
    "            # 댓글 p 태그 로딩 대기\n",
    "            element = WebDriverWait(driver, 2).until(\n",
    "                EC.presence_of_element_located((By.CSS_SELECTOR, \"ul p.desc_txt\"))\n",
    "            )\n",
    "            \n",
    "            # 더보기 버튼 클릭\n",
    "            webdriver.ActionChains(driver).move_to_element(more_button).click(more_button).perform()\n",
    "            \n",
    "            # 클릭 후 댓글 개수\n",
    "            temp_cnt = len(driver.find_elements_by_css_selector(\"ul p.desc_txt\"))\n",
    "            \n",
    "            print(cmt_list_cnt, \"->\", temp_cnt)\n",
    "            \n",
    "            if temp_cnt == cmt_list_cnt: # 클릭 후 댓글 개수 == 클릭 전 댓글 개수 -> 모든 댓글 로딩 완료\n",
    "                loop = False\n",
    "            elif temp_cnt > cmt_list_cnt: # 클릭 후 댓글 개수 > 클릭 전 댓글 개수 -> 추가 로딩 필요\n",
    "                cmt_list_cnt = temp_cnt\n",
    "            \n",
    "        except:\n",
    "            print(\"Comments Loading Error\")\n",
    "            loop = False\n",
    "            \n",
    "    cmt_list = driver.find_elements_by_css_selector(\"ul p.desc_txt\") # 댓글\n",
    "    atr_list = driver.find_elements_by_css_selector(\"ul a.link_nick\") # 댓글 작성자\n",
    "    \n",
    "    for cmt, atr in zip(cmt_list, atr_list):\n",
    "        comment_list.append(cmt.text.strip())\n",
    "        author_list.append(atr.text.strip())\n",
    "        \n",
    "finally:\n",
    "    driver.quit()"
   ]
  },
  {
   "cell_type": "code",
   "execution_count": 49,
   "metadata": {},
   "outputs": [
    {
     "data": {
      "text/html": [
       "<div>\n",
       "<style scoped>\n",
       "    .dataframe tbody tr th:only-of-type {\n",
       "        vertical-align: middle;\n",
       "    }\n",
       "\n",
       "    .dataframe tbody tr th {\n",
       "        vertical-align: top;\n",
       "    }\n",
       "\n",
       "    .dataframe thead th {\n",
       "        text-align: right;\n",
       "    }\n",
       "</style>\n",
       "<table border=\"1\" class=\"dataframe\">\n",
       "  <thead>\n",
       "    <tr style=\"text-align: right;\">\n",
       "      <th></th>\n",
       "      <th>Author</th>\n",
       "      <th>Comment</th>\n",
       "    </tr>\n",
       "  </thead>\n",
       "  <tbody>\n",
       "    <tr>\n",
       "      <th>0</th>\n",
       "      <td>야호</td>\n",
       "      <td>언제나 언론은 삼성편들면서\\n아이폰을 깎아내리지만\\n얼마후 외신발 기사는\\n항상 아...</td>\n",
       "    </tr>\n",
       "    <tr>\n",
       "      <th>1</th>\n",
       "      <td>Cond</td>\n",
       "      <td>호주에서 아이폰8 첫 구매자는 올해 20세인 대학생 메이전 코로우치 씨였다. 그는 ...</td>\n",
       "    </tr>\n",
       "    <tr>\n",
       "      <th>2</th>\n",
       "      <td>blackofwhite</td>\n",
       "      <td>아이폰은 아니지만 아이폰이 있었기에 인터넷도하고 좋은 스마트폰 잘 쓰고있음.</td>\n",
       "    </tr>\n",
       "    <tr>\n",
       "      <th>3</th>\n",
       "      <td>BKY</td>\n",
       "      <td>8년째 기우제 지내는 기레기들\\n\\n나중에 진짜로 아이폰 인기 시들해지면 아주 광분...</td>\n",
       "    </tr>\n",
       "    <tr>\n",
       "      <th>4</th>\n",
       "      <td>카페지기</td>\n",
       "      <td>삼상꺼는 안산다\\n\\n국민연금 건드린 새끼들꺼\\n\\n사는놈들이 더 나빠</td>\n",
       "    </tr>\n",
       "  </tbody>\n",
       "</table>\n",
       "</div>"
      ],
      "text/plain": [
       "         Author                                            Comment\n",
       "0            야호  언제나 언론은 삼성편들면서\\n아이폰을 깎아내리지만\\n얼마후 외신발 기사는\\n항상 아...\n",
       "1          Cond  호주에서 아이폰8 첫 구매자는 올해 20세인 대학생 메이전 코로우치 씨였다. 그는 ...\n",
       "2  blackofwhite         아이폰은 아니지만 아이폰이 있었기에 인터넷도하고 좋은 스마트폰 잘 쓰고있음.\n",
       "3           BKY  8년째 기우제 지내는 기레기들\\n\\n나중에 진짜로 아이폰 인기 시들해지면 아주 광분...\n",
       "4          카페지기            삼상꺼는 안산다\\n\\n국민연금 건드린 새끼들꺼\\n\\n사는놈들이 더 나빠"
      ]
     },
     "execution_count": 49,
     "metadata": {},
     "output_type": "execute_result"
    }
   ],
   "source": [
    "import pandas as pd\n",
    "\n",
    "df = pd.DataFrame({\"Author\": author_list, \"Comment\": comment_list})\n",
    "df.head()"
   ]
  },
  {
   "cell_type": "code",
   "execution_count": 50,
   "metadata": {},
   "outputs": [
    {
     "data": {
      "text/html": [
       "<div>\n",
       "<style scoped>\n",
       "    .dataframe tbody tr th:only-of-type {\n",
       "        vertical-align: middle;\n",
       "    }\n",
       "\n",
       "    .dataframe tbody tr th {\n",
       "        vertical-align: top;\n",
       "    }\n",
       "\n",
       "    .dataframe thead th {\n",
       "        text-align: right;\n",
       "    }\n",
       "</style>\n",
       "<table border=\"1\" class=\"dataframe\">\n",
       "  <thead>\n",
       "    <tr style=\"text-align: right;\">\n",
       "      <th></th>\n",
       "      <th>Author</th>\n",
       "      <th>Comment</th>\n",
       "    </tr>\n",
       "  </thead>\n",
       "  <tbody>\n",
       "    <tr>\n",
       "      <th>116</th>\n",
       "      <td>오뎃</td>\n",
       "      <td>딱봐 100명 넘어보인데\\n그립질</td>\n",
       "    </tr>\n",
       "    <tr>\n",
       "      <th>117</th>\n",
       "      <td>카일</td>\n",
       "      <td>조만간 샤오미한테 추월 ㅋㅋ</td>\n",
       "    </tr>\n",
       "    <tr>\n",
       "      <th>118</th>\n",
       "      <td>주바람</td>\n",
       "      <td>4에서끝난듯해처음부터애플쓰기시작해서\\n지금6s인대.......갈수록디자인구려짐 성능...</td>\n",
       "    </tr>\n",
       "    <tr>\n",
       "      <th>119</th>\n",
       "      <td>레오</td>\n",
       "      <td>아이폰을 8년 써보았다.  테더링 잘 않되고 스마트tv와 미러링도 않된다. 노트8이...</td>\n",
       "    </tr>\n",
       "    <tr>\n",
       "      <th>120</th>\n",
       "      <td>yoyogaga</td>\n",
       "      <td>올해는 삼성이 대박이다...\\n\\n주식많이 사라..\\n\\n지난주 알제리간다고 터키 ...</td>\n",
       "    </tr>\n",
       "  </tbody>\n",
       "</table>\n",
       "</div>"
      ],
      "text/plain": [
       "       Author                                            Comment\n",
       "116        오뎃                                 딱봐 100명 넘어보인데\\n그립질\n",
       "117        카일                                    조만간 샤오미한테 추월 ㅋㅋ\n",
       "118       주바람  4에서끝난듯해처음부터애플쓰기시작해서\\n지금6s인대.......갈수록디자인구려짐 성능...\n",
       "119        레오  아이폰을 8년 써보았다.  테더링 잘 않되고 스마트tv와 미러링도 않된다. 노트8이...\n",
       "120  yoyogaga  올해는 삼성이 대박이다...\\n\\n주식많이 사라..\\n\\n지난주 알제리간다고 터키 ..."
      ]
     },
     "execution_count": 50,
     "metadata": {},
     "output_type": "execute_result"
    }
   ],
   "source": [
    "df.tail()"
   ]
  }
 ],
 "metadata": {
  "kernelspec": {
   "display_name": "Python 3",
   "language": "python",
   "name": "python3"
  },
  "language_info": {
   "codemirror_mode": {
    "name": "ipython",
    "version": 3
   },
   "file_extension": ".py",
   "mimetype": "text/x-python",
   "name": "python",
   "nbconvert_exporter": "python",
   "pygments_lexer": "ipython3",
   "version": "3.6.9"
  }
 },
 "nbformat": 4,
 "nbformat_minor": 4
}
