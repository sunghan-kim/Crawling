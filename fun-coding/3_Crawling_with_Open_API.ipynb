{
 "cells": [
  {
   "cell_type": "markdown",
   "metadata": {
    "colab_type": "text",
    "id": "zupX1NviNs--"
   },
   "source": [
    "# 3. Open API(Rest API)를 활용한 크롤링"
   ]
  },
  {
   "cell_type": "markdown",
   "metadata": {
    "colab_type": "text",
    "id": "yaG571L0Ph-B"
   },
   "source": [
    "## 3.3 네이버 검색 Open API를 이용한 크롤링 실습\n",
    "\n",
    "- 네이버 Developers 사이트에서 Application 에서 Client ID와 Client Secret 획득\n",
    "- 크롬 확장 프로그램 postman 실행\n",
    "- 주소창에 Rest API 주소 입력\n",
    "- 헤더에 다음 정보 입력\n",
    "  - `X-Naver-Client-Id` : 위에서 획득한 Client ID\n",
    "  - `X-Naver-Client-Secret` : 위에서 획득한 Client Secret\n",
    "- Send 버튼 클릭 시 요청에 대한 응답 내용이 Body 부분에 Json 형태로 출력됨"
   ]
  },
  {
   "cell_type": "markdown",
   "metadata": {
    "colab_type": "text",
    "id": "wZ_kqgezPnKe"
   },
   "source": [
    "<br>\n",
    "\n",
    "## 3.4 `urllib` 라이브러리를 활용한 크롤링"
   ]
  },
  {
   "cell_type": "code",
   "execution_count": null,
   "metadata": {
    "colab": {},
    "colab_type": "code",
    "id": "MNwatDclQYQW"
   },
   "outputs": [],
   "source": [
    "import urllib.request\n",
    "import json\n",
    "\n",
    "client_key = 'qzceB4vKYciM5gSicPeY'\n",
    "client_secret = 'K68V2HYjnt'"
   ]
  },
  {
   "cell_type": "code",
   "execution_count": 17,
   "metadata": {
    "colab": {
     "base_uri": "https://localhost:8080/",
     "height": 35
    },
    "colab_type": "code",
    "id": "aIDGIOSwQ7v5",
    "outputId": "d92d54a4-a258-4c95-b72c-6701697980a2"
   },
   "outputs": [
    {
     "name": "stdout",
     "output_type": "stream",
     "text": [
      "%EC%8A%A4%EB%A7%88%ED%8A%B8%ED%8F%B0\n"
     ]
    }
   ],
   "source": [
    "# 한글 등 non-ASCII text를 URL에 넣을 수 있도록 \"%\" followed by hexadecimal digits로 변경\n",
    "# URL은 ASCII 인코딩셋만 지원하기 때문\n",
    "encText = urllib.parse.quote_plus(\"스마트폰\")\n",
    "print(encText)"
   ]
  },
  {
   "cell_type": "code",
   "execution_count": null,
   "metadata": {
    "colab": {},
    "colab_type": "code",
    "id": "VFm1bVG7RC7i"
   },
   "outputs": [],
   "source": [
    "naver_url = 'https://openapi.naver.com/v1/search/news.json?query=' + encText"
   ]
  },
  {
   "cell_type": "code",
   "execution_count": null,
   "metadata": {
    "colab": {},
    "colab_type": "code",
    "id": "8tCT4Q0dRGhR"
   },
   "outputs": [],
   "source": [
    "# urllib.request.Request()는 HTTP Header 변경 시에 사용함\n",
    "# 네이버에서도 다음 HTTP Header 키를 변경해야 하기 때문에 사용\n",
    "# HTTP Header 변경이 필요없다면, 바로 urllib.request.urlopen() 함수만 사용해도 된다.\n",
    "request = urllib.request.Request(naver_url)\n",
    "request.add_header(\"X-Naver-Client-Id\",client_key)\n",
    "request.add_header(\"X-Naver-Client-Secret\",client_secret)\n",
    "\n",
    "# urllib.request.urlopen 메서드로 크롤링할 웹페이지를 가져옴\n",
    "response = urllib.request.urlopen(request)"
   ]
  },
  {
   "cell_type": "code",
   "execution_count": 20,
   "metadata": {
    "colab": {
     "base_uri": "https://localhost:8080/",
     "height": 35
    },
    "colab_type": "code",
    "id": "GlV__zUXRi7p",
    "outputId": "e0ce3d58-eebf-466a-a022-24986f743fae"
   },
   "outputs": [
    {
     "name": "stdout",
     "output_type": "stream",
     "text": [
      "200\n"
     ]
    }
   ],
   "source": [
    "# getcode() 메서드로 HTTP 응답 상태 코드를 가져올 수 있음\n",
    "rescode = response.getcode()\n",
    "print(rescode)"
   ]
  },
  {
   "cell_type": "code",
   "execution_count": 21,
   "metadata": {
    "colab": {
     "base_uri": "https://localhost:8080/",
     "height": 73
    },
    "colab_type": "code",
    "id": "0qauhCSzRqV4",
    "outputId": "6ca3cc0c-bf73-4307-c7b5-77aba6784447"
   },
   "outputs": [
    {
     "name": "stdout",
     "output_type": "stream",
     "text": [
      "환경부 장관, 어린이날 맞아 초등생 위한 환경도서 추천\n",
      "5월 4일부터 게시해 많은 어린이들이 읽을 수 있도록 할 계획이라고 전했다. 또한, 책 속의 정보무늬를 <b>스마트폰</b>의 카메라로 비추면, 음성책으로도 들을 수 있어 학교 및 가정에서 도서를 더욱 다양하게 활용할 수 있도록 했다.\n"
     ]
    }
   ],
   "source": [
    "# HTTP 요청 응답이 정상적일 경우, 해당 HTML 데이터를 수신했기 때문에 필요한 데이터 추출이 가능함\n",
    "# HTTP 요청에 대한 정상 응답일 경우, HTTP 응답 상태 코드 값이 200이 된다.\n",
    "if (rescode == 200):\n",
    "    # response.read() 메서드로 수신된 HTML 데이터를 가져올 수 있음\n",
    "    response_body = response.read()\n",
    "\n",
    "    # 네이버 Open API를 통해서 수신된 데이터가 JSON 포맷이다.\n",
    "    # 그러므로 JSON 포맷 데이터를 파싱해서 딕셔너리 데이터로 만들어주는 json 라이브러리를 사용\n",
    "    # json.loads() 메서드로 사용해서 data에 수신된 데이터를 딕셔너리 데이터로 분석해서 자동으로 만들어 줌\n",
    "    data = json.loads(response_body)\n",
    "\n",
    "    print(data['items'][0]['title'])\n",
    "    print(data['items'][0]['description'])\n",
    "else:\n",
    "    print(\"Error Code: \" + rescode)"
   ]
  },
  {
   "cell_type": "markdown",
   "metadata": {
    "colab_type": "text",
    "id": "-p-C9NVrR3C3"
   },
   "source": [
    "<br>\n",
    "\n",
    "## 3.5 `requests` 라이브러리를 활요한 크롤링\n",
    "\n",
    "- 간결하게 작성할 수 있다. (사용 권장)\n",
    "- `requests` 라이브러리를 사용해서 Open API(Rest API)를 통해 데이터를 바로 가져올 수 있다."
   ]
  },
  {
   "cell_type": "code",
   "execution_count": null,
   "metadata": {
    "colab": {},
    "colab_type": "code",
    "id": "tg5FoGZmSyi8"
   },
   "outputs": [],
   "source": [
    "import requests\n",
    "\n",
    "client_key = 'qzceB4vKYciM5gSicPeY'\n",
    "client_secret = 'K68V2HYjnt'"
   ]
  },
  {
   "cell_type": "code",
   "execution_count": null,
   "metadata": {
    "colab": {},
    "colab_type": "code",
    "id": "5icXAwalS3QH"
   },
   "outputs": [],
   "source": [
    "# 별도 quote_plus() 메서드 등 처리할 필요 없음\n",
    "# requests 객체가 알아서 해준다.\n",
    "naver_url = 'https://openapi.naver.com/v1/search/news.json?query=스마트폰'"
   ]
  },
  {
   "cell_type": "code",
   "execution_count": null,
   "metadata": {
    "colab": {},
    "colab_type": "code",
    "id": "_-bnXda4UiYc"
   },
   "outputs": [],
   "source": [
    "header_params = {\n",
    "    \"X-Naver-Client-Id\": client_key,\n",
    "    \"X-Naver-Client-Secret\": client_secret\n",
    "}\n",
    "\n",
    "# headers=header_params 는 header 변경 시에만 필요\n",
    "# 그렇지 않으면 requests.get(url)만 해도 됨\n",
    "response = requests.get(naver_url, headers=header_params)"
   ]
  },
  {
   "cell_type": "code",
   "execution_count": 28,
   "metadata": {
    "colab": {
     "base_uri": "https://localhost:8080/",
     "height": 55
    },
    "colab_type": "code",
    "id": "0wj7o5N5V5Lo",
    "outputId": "a0d3d217-60f3-489d-bf1b-c3e18871aa15"
   },
   "outputs": [
    {
     "name": "stdout",
     "output_type": "stream",
     "text": [
      "{'lastBuildDate': 'Mon, 04 May 2020 15:21:36 +0900', 'total': 2399937, 'start': 1, 'display': 10, 'items': [{'title': '서울디지털대, 9년 연속 ‘Korea Top Awards’ 사이버대학 부문 대상 수상', 'originallink': 'http://www.edaily.co.kr/news/newspath.asp?newsid=02984806625765640', 'link': 'https://news.naver.com/main/read.nhn?mode=LSD&mid=sec&sid1=102&oid=018&aid=0004632907', 'description': '서울디지털대는 2001년에 개교한 고등교육법에 의한 사이버대학으로, 전 교과목 100% <b>스마트폰</b> 수업 및 온라인 시험 등 쉽고 편한 <b>스마트폰</b> 기반의 학습시스템을 갖추고 있다. 국내 최대 졸업생 규모(3만6000여 명)의... ', 'pubDate': 'Mon, 04 May 2020 15:20:00 +0900'}, {'title': '어린이날 특집, 뮤지컬 를 안방에서!', 'originallink': 'http://thetravelnews.co.kr/05/310042/', 'link': 'http://thetravelnews.co.kr/05/310042/', 'description': 'TBS TV는\\xa0IPTV(KT 214번, SK 167번, LG 245번),\\xa0케이블\\xa0TV(TBS\\xa0홈페이지 혹은 각 지역 케이블방송 문의)\\xa0유튜브 채널\\xa0‘TBS\\xa0시민의방송’과\\xa0TBS\\xa0앱(<b>스마트폰</b>)을 통해 시청할 수 있다.', 'pubDate': 'Mon, 04 May 2020 15:19:00 +0900'}, {'title': '환경부 장관, 어린이날 맞아 초등생 위한 환경도서 추천', 'originallink': 'http://www.tourtimes.net/188737', 'link': 'http://www.tourtimes.net/188737', 'description': '5월 4일부터 게시해 많은 어린이들이 읽을 수 있도록 할 계획이라고 전했다. 또한, 책 속의 정보무늬를 <b>스마트폰</b>의 카메라로 비추면, 음성책으로도 들을 수 있어 학교 및 가정에서 도서를 더욱 다양하게 활용할 수 있도록 했다.', 'pubDate': 'Mon, 04 May 2020 15:17:00 +0900'}, {'title': '“스쿨존을 피해라”… ‘민식이법’ <b>스마트폰</b> 게임 출시', 'originallink': 'http://www.segye.com/content/html/2020/05/04/20200504510963.html?OutUrl=naver', 'link': 'https://news.naver.com/main/read.nhn?mode=LSD&mid=sec&sid1=102&oid=022&aid=0003462032', 'description': '“게임으로 악법 풍자 대단한 명작” / “스쿨존에서 항상 조심 취지엔 공감” 지난 2일 출시된 ‘스쿨존을 뚫어라-민식이법은 무서워’ <b>스마트폰</b> 게임 갈무리. 도로교통법 개정안인 ‘민식이법’과 관련된 <b>스마트폰</b>... ', 'pubDate': 'Mon, 04 May 2020 15:16:00 +0900'}, {'title': \"경도근시 어린이 '근시교정 렌즈' 끼고 자면 일석이조\", 'originallink': 'https://www.sedaily.com/NewsView/1Z2MCW80QT', 'link': 'https://news.naver.com/main/read.nhn?mode=LSD&mid=sec&sid1=103&oid=011&aid=0003732635', 'description': '코로나19로 바깥 활동이 줄고 온라인 수업, <b>스마트폰</b>·컴퓨터로 동영상을 보거나 게임을 하는 어린이가 많다. 이처럼 가까운 곳만 주시하는 ‘근거리 작업’을 지속하다 보면 거리에 따라 눈 속 수정체의 두께가... ', 'pubDate': 'Mon, 04 May 2020 15:13:00 +0900'}, {'title': '4월 반도체 수출액 급감…&quot;위기는 아직 오지 않았다&quot;', 'originallink': 'http://www.topdaily.kr/news/articleView.html?idxno=66679', 'link': 'http://www.topdaily.kr/news/articleView.html?idxno=66679', 'description': '산업부는 반도체 수출 금액 감소 원인으로 역기저효과와 <b>스마트폰</b>향 수요 감소, 글로벌 경기 둔화에... 산업부에 따르면 <b>스마트폰</b> 수출은 수요 급랭에 따라 전년 동기 대비 43.6%가 감소했다. 3월에서 23%나 줄었다.... ', 'pubDate': 'Mon, 04 May 2020 15:13:00 +0900'}, {'title': \"5G 가입자 588만...SKT 점유율 45% '1위'\", 'originallink': 'http://www.finomy.com/news/articleView.html?idxno=77741', 'link': 'http://www.finomy.com/news/articleView.html?idxno=77741', 'description': '5G <b>스마트폰</b>을 잇달아 출시해 가입자 증가폭이 확대될 것으로 기대된다. 또 5G 가입자가 크게... 주춤했다&quot;며 &quot;5월부터는 중저가 5G <b>스마트폰</b>이 잇달해 출시해 가입자 증가 수치가 개선될 것&quot;이라고 말했다.', 'pubDate': 'Mon, 04 May 2020 15:12:00 +0900'}, {'title': '코로나 충격…1분기 <b>스마트폰</b> 출하량 13% 감소', 'originallink': 'http://news.mt.co.kr/mtview.php?no=2020050414582835156', 'link': 'https://news.naver.com/main/read.nhn?mode=LSD&mid=sec&sid1=105&oid=008&aid=0004403637', 'description': '글로벌 <b>스마트폰</b> 시장이 코로나19 여파로 큰 폭의 역성장을 기록했다. 1분기에만 <b>스마트폰</b> 출하량이 13% 감소했다. 점유율 1, 2위인 삼성전자와 화웨이도 두 자릿수 감소를 보였다. 2분기에도 이같은 추세가 이어질... ', 'pubDate': 'Mon, 04 May 2020 15:12:00 +0900'}, {'title': '[이슈] 하트독, &quot;코로나19 확산 완화세에 반려견 연관 정보 추가 요청 급증&quot;', 'originallink': 'http://game.dailyesports.com/view.php?ud=202005041510052482eb81adcc4e_26', 'link': 'https://news.naver.com/main/read.nhn?mode=LSD&mid=sec&sid1=105&oid=347&aid=0000142796', 'description': '본 기사는 최근 대세로 떠오른 신규, 인기 <b>스마트폰</b> 게임과 관련 방송 콘텐츠 등을 소개하는 코너입니다. 소개 자료는 각 모바일게임 개발사를 비롯해 퍼블리셔와 게임 공략 커뮤니티 헝그리앱 등에 기초하고 있습니다.... ', 'pubDate': 'Mon, 04 May 2020 15:11:00 +0900'}, {'title': \"[리포트 브리핑]삼성SDI, '아직까지 괜찮다' 목표가 330,000원 - 이베스트투자...\", 'originallink': 'http://www.newspim.com/news/view/20200504000660', 'link': 'http://www.newspim.com/news/view/20200504000660', 'description': \"한편 '소형전지 부분은 본격적 <b>스마트폰</b> 출하의 영향을 받아 폴리머 전지가 크게 감소할 것으로 전망되는 가운데, 파워 툴 및 eMobility 증가되며 원형전지가 감소분을 모두 상쇄시킬 것'라고 전망했다.... \", 'pubDate': 'Mon, 04 May 2020 15:10:00 +0900'}]}\n"
     ]
    }
   ],
   "source": [
    "# 별도 json.loads() 라이브러리 메서드를 사용하지 않아도 requests 라이브러리에 있는 json() 메서드로 처리 가능\n",
    "print(response.json())"
   ]
  },
  {
   "cell_type": "code",
   "execution_count": 29,
   "metadata": {
    "colab": {
     "base_uri": "https://localhost:8080/",
     "height": 1000
    },
    "colab_type": "code",
    "id": "Enr_2AjXWHYZ",
    "outputId": "bec72904-2e90-4c09-a4e4-e33b5da0fd7b"
   },
   "outputs": [
    {
     "name": "stdout",
     "output_type": "stream",
     "text": [
      "{\n",
      "\"lastBuildDate\": \"Mon, 04 May 2020 15:21:36 +0900\",\n",
      "\"total\": 2399937,\n",
      "\"start\": 1,\n",
      "\"display\": 10,\n",
      "\"items\": [\n",
      "{\n",
      "\"title\": \"서울디지털대, 9년 연속 ‘Korea Top Awards’ 사이버대학 부문 대상 수상\",\n",
      "\"originallink\": \"http://www.edaily.co.kr/news/newspath.asp?newsid=02984806625765640\",\n",
      "\"link\": \"https://news.naver.com/main/read.nhn?mode=LSD&mid=sec&sid1=102&oid=018&aid=0004632907\",\n",
      "\"description\": \"서울디지털대는 2001년에 개교한 고등교육법에 의한 사이버대학으로, 전 교과목 100% <b>스마트폰</b> 수업 및 온라인 시험 등 쉽고 편한 <b>스마트폰</b> 기반의 학습시스템을 갖추고 있다. 국내 최대 졸업생 규모(3만6000여 명)의... \",\n",
      "\"pubDate\": \"Mon, 04 May 2020 15:20:00 +0900\"\n",
      "\n",
      "},\n",
      "{\n",
      "\"title\": \"어린이날 특집, 뮤지컬 를 안방에서!\",\n",
      "\"originallink\": \"http://thetravelnews.co.kr/05/310042/\",\n",
      "\"link\": \"http://thetravelnews.co.kr/05/310042/\",\n",
      "\"description\": \"TBS TV는 IPTV(KT 214번, SK 167번, LG 245번), 케이블 TV(TBS 홈페이지 혹은 각 지역 케이블방송 문의) 유튜브 채널 ‘TBS 시민의방송’과 TBS 앱(<b>스마트폰</b>)을 통해 시청할 수 있다.\",\n",
      "\"pubDate\": \"Mon, 04 May 2020 15:19:00 +0900\"\n",
      "\n",
      "},\n",
      "{\n",
      "\"title\": \"환경부 장관, 어린이날 맞아 초등생 위한 환경도서 추천\",\n",
      "\"originallink\": \"http://www.tourtimes.net/188737\",\n",
      "\"link\": \"http://www.tourtimes.net/188737\",\n",
      "\"description\": \"5월 4일부터 게시해 많은 어린이들이 읽을 수 있도록 할 계획이라고 전했다. 또한, 책 속의 정보무늬를 <b>스마트폰</b>의 카메라로 비추면, 음성책으로도 들을 수 있어 학교 및 가정에서 도서를 더욱 다양하게 활용할 수 있도록 했다.\",\n",
      "\"pubDate\": \"Mon, 04 May 2020 15:17:00 +0900\"\n",
      "\n",
      "},\n",
      "{\n",
      "\"title\": \"“스쿨존을 피해라”… ‘민식이법’ <b>스마트폰</b> 게임 출시\",\n",
      "\"originallink\": \"http://www.segye.com/content/html/2020/05/04/20200504510963.html?OutUrl=naver\",\n",
      "\"link\": \"https://news.naver.com/main/read.nhn?mode=LSD&mid=sec&sid1=102&oid=022&aid=0003462032\",\n",
      "\"description\": \"“게임으로 악법 풍자 대단한 명작” / “스쿨존에서 항상 조심 취지엔 공감” 지난 2일 출시된 ‘스쿨존을 뚫어라-민식이법은 무서워’ <b>스마트폰</b> 게임 갈무리. 도로교통법 개정안인 ‘민식이법’과 관련된 <b>스마트폰</b>... \",\n",
      "\"pubDate\": \"Mon, 04 May 2020 15:16:00 +0900\"\n",
      "\n",
      "},\n",
      "{\n",
      "\"title\": \"경도근시 어린이 '근시교정 렌즈' 끼고 자면 일석이조\",\n",
      "\"originallink\": \"https://www.sedaily.com/NewsView/1Z2MCW80QT\",\n",
      "\"link\": \"https://news.naver.com/main/read.nhn?mode=LSD&mid=sec&sid1=103&oid=011&aid=0003732635\",\n",
      "\"description\": \"코로나19로 바깥 활동이 줄고 온라인 수업, <b>스마트폰</b>·컴퓨터로 동영상을 보거나 게임을 하는 어린이가 많다. 이처럼 가까운 곳만 주시하는 ‘근거리 작업’을 지속하다 보면 거리에 따라 눈 속 수정체의 두께가... \",\n",
      "\"pubDate\": \"Mon, 04 May 2020 15:13:00 +0900\"\n",
      "\n",
      "},\n",
      "{\n",
      "\"title\": \"4월 반도체 수출액 급감…&quot;위기는 아직 오지 않았다&quot;\",\n",
      "\"originallink\": \"http://www.topdaily.kr/news/articleView.html?idxno=66679\",\n",
      "\"link\": \"http://www.topdaily.kr/news/articleView.html?idxno=66679\",\n",
      "\"description\": \"산업부는 반도체 수출 금액 감소 원인으로 역기저효과와 <b>스마트폰</b>향 수요 감소, 글로벌 경기 둔화에... 산업부에 따르면 <b>스마트폰</b> 수출은 수요 급랭에 따라 전년 동기 대비 43.6%가 감소했다. 3월에서 23%나 줄었다.... \",\n",
      "\"pubDate\": \"Mon, 04 May 2020 15:13:00 +0900\"\n",
      "\n",
      "},\n",
      "{\n",
      "\"title\": \"5G 가입자 588만...SKT 점유율 45% '1위'\",\n",
      "\"originallink\": \"http://www.finomy.com/news/articleView.html?idxno=77741\",\n",
      "\"link\": \"http://www.finomy.com/news/articleView.html?idxno=77741\",\n",
      "\"description\": \"5G <b>스마트폰</b>을 잇달아 출시해 가입자 증가폭이 확대될 것으로 기대된다. 또 5G 가입자가 크게... 주춤했다&quot;며 &quot;5월부터는 중저가 5G <b>스마트폰</b>이 잇달해 출시해 가입자 증가 수치가 개선될 것&quot;이라고 말했다.\",\n",
      "\"pubDate\": \"Mon, 04 May 2020 15:12:00 +0900\"\n",
      "\n",
      "},\n",
      "{\n",
      "\"title\": \"코로나 충격…1분기 <b>스마트폰</b> 출하량 13% 감소\",\n",
      "\"originallink\": \"http://news.mt.co.kr/mtview.php?no=2020050414582835156\",\n",
      "\"link\": \"https://news.naver.com/main/read.nhn?mode=LSD&mid=sec&sid1=105&oid=008&aid=0004403637\",\n",
      "\"description\": \"글로벌 <b>스마트폰</b> 시장이 코로나19 여파로 큰 폭의 역성장을 기록했다. 1분기에만 <b>스마트폰</b> 출하량이 13% 감소했다. 점유율 1, 2위인 삼성전자와 화웨이도 두 자릿수 감소를 보였다. 2분기에도 이같은 추세가 이어질... \",\n",
      "\"pubDate\": \"Mon, 04 May 2020 15:12:00 +0900\"\n",
      "\n",
      "},\n",
      "{\n",
      "\"title\": \"[이슈] 하트독, &quot;코로나19 확산 완화세에 반려견 연관 정보 추가 요청 급증&quot;\",\n",
      "\"originallink\": \"http://game.dailyesports.com/view.php?ud=202005041510052482eb81adcc4e_26\",\n",
      "\"link\": \"https://news.naver.com/main/read.nhn?mode=LSD&mid=sec&sid1=105&oid=347&aid=0000142796\",\n",
      "\"description\": \"본 기사는 최근 대세로 떠오른 신규, 인기 <b>스마트폰</b> 게임과 관련 방송 콘텐츠 등을 소개하는 코너입니다. 소개 자료는 각 모바일게임 개발사를 비롯해 퍼블리셔와 게임 공략 커뮤니티 헝그리앱 등에 기초하고 있습니다.... \",\n",
      "\"pubDate\": \"Mon, 04 May 2020 15:11:00 +0900\"\n",
      "\n",
      "},\n",
      "{\n",
      "\"title\": \"[리포트 브리핑]삼성SDI, '아직까지 괜찮다' 목표가 330,000원 - 이베스트투자...\",\n",
      "\"originallink\": \"http://www.newspim.com/news/view/20200504000660\",\n",
      "\"link\": \"http://www.newspim.com/news/view/20200504000660\",\n",
      "\"description\": \"한편 '소형전지 부분은 본격적 <b>스마트폰</b> 출하의 영향을 받아 폴리머 전지가 크게 감소할 것으로 전망되는 가운데, 파워 툴 및 eMobility 증가되며 원형전지가 감소분을 모두 상쇄시킬 것'라고 전망했다.... \",\n",
      "\"pubDate\": \"Mon, 04 May 2020 15:10:00 +0900\"\n",
      "\n",
      "}\n",
      "]\n",
      "}\n",
      "\n"
     ]
    }
   ],
   "source": [
    "print(response.text)"
   ]
  },
  {
   "cell_type": "code",
   "execution_count": 30,
   "metadata": {
    "colab": {
     "base_uri": "https://localhost:8080/",
     "height": 73
    },
    "colab_type": "code",
    "id": "X5M1l9w1WKW5",
    "outputId": "cd5a6f1c-221f-4bf7-85b6-501d6269a251"
   },
   "outputs": [
    {
     "name": "stdout",
     "output_type": "stream",
     "text": [
      "서울디지털대, 9년 연속 ‘Korea Top Awards’ 사이버대학 부문 대상 수상\n",
      "서울디지털대는 2001년에 개교한 고등교육법에 의한 사이버대학으로, 전 교과목 100% <b>스마트폰</b> 수업 및 온라인 시험 등 쉽고 편한 <b>스마트폰</b> 기반의 학습시스템을 갖추고 있다. 국내 최대 졸업생 규모(3만6000여 명)의... \n"
     ]
    }
   ],
   "source": [
    "# HTTP 응답 코드는 status_code에 저장됨\n",
    "if (response.status_code == 200):\n",
    "    data = response.json()\n",
    "    print(data['items'][0]['title'])\n",
    "    print(data['items'][0]['description'])\n",
    "else:\n",
    "    print(\"Error Code: \" + response.status_code)"
   ]
  },
  {
   "cell_type": "markdown",
   "metadata": {
    "colab_type": "text",
    "id": "jwLB4J41WkTJ"
   },
   "source": [
    "<br>\n",
    "\n",
    "## 3.6 연습 문제\n",
    "\n",
    "네이버 검색 Open API를 사용해서 부동산 키워드로 검색 결과 중 상위 10개의 타이틀을 출력"
   ]
  },
  {
   "cell_type": "code",
   "execution_count": null,
   "metadata": {
    "colab": {},
    "colab_type": "code",
    "id": "PadNMB-eWsRH"
   },
   "outputs": [],
   "source": [
    "import requests\n",
    "\n",
    "client_key = 'qzceB4vKYciM5gSicPeY'\n",
    "client_secret = 'K68V2HYjnt'\n",
    "\n",
    "naver_url = 'https://openapi.naver.com/v1/search/news.json?query=부동산'"
   ]
  },
  {
   "cell_type": "code",
   "execution_count": 36,
   "metadata": {
    "colab": {
     "base_uri": "https://localhost:8080/",
     "height": 35
    },
    "colab_type": "code",
    "id": "TzUx6HyGW4pQ",
    "outputId": "cfb74489-4fbd-492a-aec9-124dea183d5f"
   },
   "outputs": [
    {
     "name": "stdout",
     "output_type": "stream",
     "text": [
      "200\n"
     ]
    }
   ],
   "source": [
    "header_params = {\n",
    "    \"X-Naver-Client-Id\": client_key,\n",
    "    \"X-Naver-Client-Secret\": client_secret\n",
    "}\n",
    "\n",
    "response = requests.get(naver_url, headers=header_params)\n",
    "print(response.status_code)"
   ]
  },
  {
   "cell_type": "code",
   "execution_count": 42,
   "metadata": {
    "colab": {
     "base_uri": "https://localhost:8080/",
     "height": 197
    },
    "colab_type": "code",
    "id": "-cArgaa2XDVP",
    "outputId": "df28753d-ac26-46b4-b005-e5b218c7ba4e"
   },
   "outputs": [
    {
     "name": "stdout",
     "output_type": "stream",
     "text": [
      "[우리동네 지역전문가] 교통망 확대 예정된 ‘영통구 원천동’… 쾌적한 주거...\n",
      "호가 오른 대치 은마…바닥 치고 상승 전환 하나\n",
      "경기도, 기획<b>부동산</b> 투기행위 관련 대대적인 단속 나서\n",
      "서울디지털대, 9년 연속 ‘Korea Top Awards’ 사이버대학 부문 대상 수상\n",
      "파이 커졌나? 5개 늘어난 공시대상 기업집단, IMM인베스트먼트는 첫 PEF 기업...\n",
      "더불어시민당에서 제명된 양정숙이 재심을 신청한다\n",
      "[CEO칼럼]공유경제가 디지털로 확대되고 있다\n",
      "與, <b>부동산</b> 의혹 양정숙 당선자 고발 6일로 연기\n",
      "보령시, 개별주택가격 결정·공시… 평균 2.01% 상승\n",
      "경기도시공사, 광교원천 등 '경기행복주택 3대 단지' 입주자 추가 모집\n"
     ]
    }
   ],
   "source": [
    "for i in range(0, 10):\n",
    "    print(response.json()['items'][i]['title'])"
   ]
  }
 ],
 "metadata": {
  "colab": {
   "collapsed_sections": [],
   "name": "3_Crawling-with-Open-API.ipynb",
   "provenance": []
  },
  "kernelspec": {
   "display_name": "Python 3",
   "language": "python",
   "name": "python3"
  },
  "language_info": {
   "codemirror_mode": {
    "name": "ipython",
    "version": 3
   },
   "file_extension": ".py",
   "mimetype": "text/x-python",
   "name": "python",
   "nbconvert_exporter": "python",
   "pygments_lexer": "ipython3",
   "version": "3.6.9"
  }
 },
 "nbformat": 4,
 "nbformat_minor": 4
}
