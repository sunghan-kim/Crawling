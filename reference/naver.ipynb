{
 "cells": [
  {
   "cell_type": "markdown",
   "metadata": {},
   "source": [
    "# 1. Selenium 이용 사이트 브라우징"
   ]
  },
  {
   "cell_type": "code",
   "execution_count": 6,
   "metadata": {},
   "outputs": [],
   "source": [
    "from selenium import webdriver\n",
    "\n",
    "driver = webdriver.Chrome(\"C:/shkim/util/chromedriver/chromedriver.exe\")\n",
    "\n",
    "# 암묵적으로 웹 자원 로드를 위해 3초까지 기다려준다.\n",
    "driver.implicitly_wait(3)\n",
    "\n",
    "# url 접근\n",
    "driver.get('https://www.naver.com')"
   ]
  },
  {
   "cell_type": "markdown",
   "metadata": {},
   "source": [
    "# 2. `selenium`의 `driver` 객체 제공 메서드"
   ]
  },
  {
   "cell_type": "markdown",
   "metadata": {},
   "source": [
    "## 2.1 URL 접근 API\n",
    "\n",
    "`driver.get('url')`"
   ]
  },
  {
   "cell_type": "markdown",
   "metadata": {},
   "source": [
    "## 2.2 페이지 단일 element 접근 API\n",
    "\n",
    "`find_element_by_name('HTML_name')`  \n",
    "`find_element_by_id('HTML_id')`  \n",
    "`find_element_by_xpath('/html/body/some/xpath')`"
   ]
  },
  {
   "cell_type": "markdown",
   "metadata": {},
   "source": [
    "## 2.3 페이지 여러 elements 접근 API\n",
    "\n",
    "`find_element_by_css_selector('#css>div.selector')`  \n",
    "`find_element_by_class_name('some_class_name')`  \n",
    "`find_element_by_tag_name('h1')`"
   ]
  },
  {
   "cell_type": "markdown",
   "metadata": {},
   "source": [
    "위 메서도 활용 시 HTML을 브라우저에서 파싱해주기 때문에 Python와 BeautifulSoup을 사용하지 않아도 된다.  \n",
    "하지만 Selenium에 내장된 함수만 사용 가능하기 때문에 좀 더 사용이 폎ㄴ리한 soup객체를 이용하려면 `driver.page_source` API를 이용해 현재 렌더링된 페이지의 Elements를 모두 가져올 수 있다."
   ]
  },
  {
   "cell_type": "markdown",
   "metadata": {},
   "source": [
    "# 3. 네이버 로그인"
   ]
  },
  {
   "cell_type": "code",
   "execution_count": 10,
   "metadata": {},
   "outputs": [],
   "source": [
    "from selenium import webdriver\n",
    "\n",
    "driver = webdriver.Chrome(\"C:/shkim/util/chromedriver/chromedriver.exe\")\n",
    "\n",
    "# 암묵적으로 웹 자원 로드를 위해 3초까지 기다려준다.\n",
    "driver.implicitly_wait(3)\n",
    "\n",
    "# url 접근\n",
    "driver.get(\"https://nid.naver.com/nidlogin.login\")\n",
    "\n",
    "# 아이디/비밀번호 입력\n",
    "driver.find_element_by_name('id').send_keys('tjdgksdl2005') # naver_id\n",
    "driver.find_element_by_name('pw').send_keys('ksh1q2w3e4r$!') # mypassword1234\n",
    "\n",
    "# 로그인 버틀 클릭\n",
    "driver.find_element_by_xpath('//*[@id=\"frmNIDLogin\"]/fieldset/input').click()"
   ]
  },
  {
   "cell_type": "markdown",
   "metadata": {},
   "source": [
    "# 4. 네이버 페이 주문내역 가져오기"
   ]
  },
  {
   "cell_type": "code",
   "execution_count": 13,
   "metadata": {},
   "outputs": [],
   "source": [
    "from selenium import webdriver\n",
    "from bs4 import BeautifulSoup\n",
    "\n",
    "driver = webdriver.Chrome(\"C:/shkim/util/chromedriver/chromedriver.exe\")\n",
    "\n",
    "# 암묵적으로 웹 자원 로드를 위해 3초까지 기다려준다.\n",
    "driver.implicitly_wait(3)\n",
    "\n",
    "# url 접근\n",
    "driver.get(\"https://nid.naver.com/nidlogin.login\")\n",
    "\n",
    "# 아이디/비밀번호 입력\n",
    "driver.find_element_by_name('id').send_keys('tjdgksdl2005') # naver_id\n",
    "driver.find_element_by_name('pw').send_keys('ksh1q2w3e4r$!') # mypassword1234\n",
    "\n",
    "# 로그인 버틀 클릭\n",
    "driver.find_element_by_xpath('//*[@id=\"frmNIDLogin\"]/fieldset/input').click()\n",
    "\n",
    "# Naver 페이 들어가기\n",
    "driver.get(\"https://order.pay.naver.com/home\")\n",
    "html = driver.page_source\n",
    "soup = BeautifulSoup(html, 'html.parser')\n",
    "notices = soup.select('div.p_inr > div.p_info > a > span')\n",
    "\n",
    "for n in notices :\n",
    "    print(n.text.strip())"
   ]
  },
  {
   "cell_type": "code",
   "execution_count": null,
   "metadata": {},
   "outputs": [],
   "source": []
  }
 ],
 "metadata": {
  "kernelspec": {
   "display_name": "Python 3",
   "language": "python",
   "name": "python3"
  },
  "language_info": {
   "codemirror_mode": {
    "name": "ipython",
    "version": 3
   },
   "file_extension": ".py",
   "mimetype": "text/x-python",
   "name": "python",
   "nbconvert_exporter": "python",
   "pygments_lexer": "ipython3",
   "version": "3.6.8"
  }
 },
 "nbformat": 4,
 "nbformat_minor": 2
}
