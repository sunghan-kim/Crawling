{
 "cells": [
  {
   "cell_type": "code",
   "execution_count": 2,
   "metadata": {},
   "outputs": [
    {
     "name": "stdout",
     "output_type": "stream",
     "text": [
      "Collecting cx_Oracle\n",
      "  Downloading https://files.pythonhosted.org/packages/50/c0/9769ec958e49687757ab58b08a9d14731ea0011daa83e4428f3c258205a2/cx_Oracle-7.2.2-cp36-cp36m-win_amd64.whl (187kB)\n",
      "Installing collected packages: cx-Oracle\n",
      "Successfully installed cx-Oracle-7.2.2\n"
     ]
    }
   ],
   "source": [
    "!pip install cx_Oracle"
   ]
  },
  {
   "cell_type": "code",
   "execution_count": 3,
   "metadata": {},
   "outputs": [],
   "source": [
    "import cx_Oracle"
   ]
  },
  {
   "cell_type": "code",
   "execution_count": 8,
   "metadata": {},
   "outputs": [],
   "source": [
    "con1 = cx_Oracle.connect(\"SHKIM/1234@localhost:1521/orcl\")"
   ]
  },
  {
   "cell_type": "code",
   "execution_count": 9,
   "metadata": {},
   "outputs": [],
   "source": [
    "cursor = con1.cursor()"
   ]
  },
  {
   "cell_type": "code",
   "execution_count": 15,
   "metadata": {},
   "outputs": [
    {
     "name": "stdout",
     "output_type": "stream",
     "text": [
      "[('SHKIM', 'EMP', 'TABLE', None), ('SHKIM', 'DEPT', 'TABLE', None), ('SHKIM', 'BOARD', 'TABLE', '게시판')]\n"
     ]
    }
   ],
   "source": [
    "cursor.execute(\"SELECT * FROM ALL_TAB_COMMENTS WHERE OWNER = 'SHKIM'\")\n",
    "#print(cursor.fetchone())\n",
    "#print(cursor.fetchone())\n",
    "#print(cursor.fetchmany(2))\n",
    "print(cursor.fetchall()) # 튜플을 원소로 갖는 리스트 반환"
   ]
  },
  {
   "cell_type": "code",
   "execution_count": 21,
   "metadata": {},
   "outputs": [
    {
     "name": "stdout",
     "output_type": "stream",
     "text": [
      "('1001', '총무팀')\n",
      "<class 'tuple'>\n"
     ]
    }
   ],
   "source": [
    "cursor.execute(\"SELECT * FROM DEPT\")\n",
    "\n",
    "for record in cursor :\n",
    "    print(record) # 튜플 반환"
   ]
  },
  {
   "cell_type": "code",
   "execution_count": null,
   "metadata": {},
   "outputs": [],
   "source": []
  }
 ],
 "metadata": {
  "kernelspec": {
   "display_name": "Python 3",
   "language": "python",
   "name": "python3"
  },
  "language_info": {
   "codemirror_mode": {
    "name": "ipython",
    "version": 3
   },
   "file_extension": ".py",
   "mimetype": "text/x-python",
   "name": "python",
   "nbconvert_exporter": "python",
   "pygments_lexer": "ipython3",
   "version": "3.6.8"
  }
 },
 "nbformat": 4,
 "nbformat_minor": 2
}
