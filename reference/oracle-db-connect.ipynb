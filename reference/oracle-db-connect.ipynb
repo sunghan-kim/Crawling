{
 "cells": [
  {
   "cell_type": "code",
   "execution_count": 2,
   "metadata": {},
   "outputs": [
    {
     "name": "stdout",
     "output_type": "stream",
     "text": [
      "Collecting cx_Oracle\n",
      "  Downloading https://files.pythonhosted.org/packages/50/c0/9769ec958e49687757ab58b08a9d14731ea0011daa83e4428f3c258205a2/cx_Oracle-7.2.2-cp36-cp36m-win_amd64.whl (187kB)\n",
      "Installing collected packages: cx-Oracle\n",
      "Successfully installed cx-Oracle-7.2.2\n"
     ]
    }
   ],
   "source": [
    "!pip install cx_Oracle"
   ]
  },
  {
   "cell_type": "code",
   "execution_count": 3,
   "metadata": {},
   "outputs": [],
   "source": [
    "import cx_Oracle"
   ]
  },
  {
   "cell_type": "code",
   "execution_count": 8,
   "metadata": {},
   "outputs": [],
   "source": [
    "con1 = cx_Oracle.connect(\"SHKIM/1234@localhost:1521/orcl\")"
   ]
  },
  {
   "cell_type": "code",
   "execution_count": 9,
   "metadata": {},
   "outputs": [],
   "source": [
    "cursor = con1.cursor()"
   ]
  },
  {
   "cell_type": "code",
   "execution_count": 15,
   "metadata": {},
   "outputs": [
    {
     "name": "stdout",
     "output_type": "stream",
     "text": [
      "[('SHKIM', 'EMP', 'TABLE', None), ('SHKIM', 'DEPT', 'TABLE', None), ('SHKIM', 'BOARD', 'TABLE', '게시판')]\n"
     ]
    }
   ],
   "source": [
    "cursor.execute(\"SELECT * FROM ALL_TAB_COMMENTS WHERE OWNER = 'SHKIM'\")\n",
    "#print(cursor.fetchone())\n",
    "#print(cursor.fetchone())\n",
    "#print(cursor.fetchmany(2))\n",
    "print(cursor.fetchall()) # 튜플을 원소로 갖는 리스트 반환"
   ]
  },
  {
   "cell_type": "code",
   "execution_count": 21,
   "metadata": {},
   "outputs": [
    {
     "name": "stdout",
     "output_type": "stream",
     "text": [
      "('1001', '총무팀')\n",
      "<class 'tuple'>\n"
     ]
    }
   ],
   "source": [
    "cursor.execute(\"SELECT * FROM DEPT\")\n",
    "\n",
    "for record in cursor :\n",
    "    print(record) # 튜플 반환"
   ]
  },
  {
   "cell_type": "markdown",
   "metadata": {},
   "source": [
    "# 입력 파라미터 지정"
   ]
  },
  {
   "cell_type": "code",
   "execution_count": 22,
   "metadata": {},
   "outputs": [
    {
     "name": "stdout",
     "output_type": "stream",
     "text": [
      "[('1001', '총무팀')]\n"
     ]
    }
   ],
   "source": [
    "cursor.execute(\"SELECT * FROM DEPT WHERE DEPTNO = :deptNo\", ['1001'])\n",
    "print(cursor.fetchall())"
   ]
  },
  {
   "cell_type": "code",
   "execution_count": 24,
   "metadata": {},
   "outputs": [
    {
     "name": "stdout",
     "output_type": "stream",
     "text": [
      "[('1001', '총무팀')]\n"
     ]
    }
   ],
   "source": [
    "cursor.execute(\"SELECT * FROM DEPT WHERE DEPTNO = :deptNo\", {'deptNo': '1001'})\n",
    "print(cursor.fetchall())"
   ]
  },
  {
   "cell_type": "markdown",
   "metadata": {},
   "source": [
    "# 테이블 생성"
   ]
  },
  {
   "cell_type": "code",
   "execution_count": 25,
   "metadata": {},
   "outputs": [],
   "source": [
    "CREATE_SCRIPT = \"\"\"\n",
    "CREATE TABLE TESTPY (\n",
    "    ID INT,\n",
    "    NAME VARCHAR(32)\n",
    ")\n",
    "\"\"\"\n",
    "\n",
    "cursor.execute(CREATE_SCRIPT)"
   ]
  },
  {
   "cell_type": "markdown",
   "metadata": {},
   "source": [
    "# 데이터 입력"
   ]
  },
  {
   "cell_type": "code",
   "execution_count": 26,
   "metadata": {},
   "outputs": [],
   "source": [
    "ARRAY = []\n",
    "\n",
    "for i in range(0,10) :\n",
    "    ARRAY.append((i, 'TEST'+str(i)))"
   ]
  },
  {
   "cell_type": "markdown",
   "metadata": {},
   "source": [
    "## 방법 1"
   ]
  },
  {
   "cell_type": "code",
   "execution_count": 28,
   "metadata": {},
   "outputs": [],
   "source": [
    "cursor.prepare(\"INSERT INTO TESTPY VALUES (:1, :2)\")\n",
    "cursor.executemany(None, ARRAY)"
   ]
  },
  {
   "cell_type": "code",
   "execution_count": 29,
   "metadata": {},
   "outputs": [
    {
     "name": "stdout",
     "output_type": "stream",
     "text": [
      "[(0, 'TEST0'), (1, 'TEST1'), (2, 'TEST2'), (3, 'TEST3'), (4, 'TEST4'), (5, 'TEST5'), (6, 'TEST6'), (7, 'TEST7'), (8, 'TEST8'), (9, 'TEST9')]\n"
     ]
    }
   ],
   "source": [
    "cursor.execute(\"SELECT * FROM TESTPY\")\n",
    "print(cursor.fetchall())"
   ]
  },
  {
   "cell_type": "markdown",
   "metadata": {},
   "source": [
    "## 방법 2"
   ]
  },
  {
   "cell_type": "code",
   "execution_count": 30,
   "metadata": {},
   "outputs": [],
   "source": [
    "cursor.executemany(\"INSERT INTO TESTPY VALUES (:1, :2)\", ARRAY)"
   ]
  },
  {
   "cell_type": "code",
   "execution_count": 31,
   "metadata": {},
   "outputs": [
    {
     "name": "stdout",
     "output_type": "stream",
     "text": [
      "[(0, 'TEST0'), (1, 'TEST1'), (2, 'TEST2'), (3, 'TEST3'), (4, 'TEST4'), (5, 'TEST5'), (6, 'TEST6'), (7, 'TEST7'), (8, 'TEST8'), (9, 'TEST9'), (0, 'TEST0'), (1, 'TEST1'), (2, 'TEST2'), (3, 'TEST3'), (4, 'TEST4'), (5, 'TEST5'), (6, 'TEST6'), (7, 'TEST7'), (8, 'TEST8'), (9, 'TEST9')]\n"
     ]
    }
   ],
   "source": [
    "print(cursor.execute(\"SELECT * FROM TESTPY\").fetchall())"
   ]
  },
  {
   "cell_type": "markdown",
   "metadata": {},
   "source": [
    "# 테이블 삭제"
   ]
  },
  {
   "cell_type": "code",
   "execution_count": null,
   "metadata": {},
   "outputs": [],
   "source": [
    "cursor.execute(\"DROP TABLE TESTPY\")"
   ]
  },
  {
   "cell_type": "markdown",
   "metadata": {},
   "source": []
  },
  {
   "cell_type": "code",
   "execution_count": 32,
   "metadata": {},
   "outputs": [],
   "source": [
    "con1.rollback()"
   ]
  },
  {
   "cell_type": "code",
   "execution_count": 33,
   "metadata": {},
   "outputs": [],
   "source": [
    "cursor.close()\n",
    "con1.close()"
   ]
  },
  {
   "cell_type": "code",
   "execution_count": null,
   "metadata": {},
   "outputs": [],
   "source": []
  }
 ],
 "metadata": {
  "kernelspec": {
   "display_name": "Python 3",
   "language": "python",
   "name": "python3"
  },
  "language_info": {
   "codemirror_mode": {
    "name": "ipython",
    "version": 3
   },
   "file_extension": ".py",
   "mimetype": "text/x-python",
   "name": "python",
   "nbconvert_exporter": "python",
   "pygments_lexer": "ipython3",
   "version": "3.6.8"
  }
 },
 "nbformat": 4,
 "nbformat_minor": 2
}
