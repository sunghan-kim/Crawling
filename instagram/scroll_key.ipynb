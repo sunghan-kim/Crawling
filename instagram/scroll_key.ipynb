{
 "cells": [
  {
   "cell_type": "code",
   "execution_count": 1,
   "metadata": {},
   "outputs": [],
   "source": [
    "from selenium import webdriver\n",
    "from selenium.webdriver.common.keys import Keys\n",
    "from tqdm import tqdm\n",
    "import time\n",
    "import warnings\n",
    "warnings.filterwarnings(\"ignore\")"
   ]
  },
  {
   "cell_type": "code",
   "execution_count": 14,
   "metadata": {},
   "outputs": [
    {
     "name": "stdout",
     "output_type": "stream",
     "text": [
      "54\n"
     ]
    }
   ],
   "source": [
    "driver = webdriver.Chrome(\"C:/shkim/util/chromedriver/chromedriver.exe\")\n",
    "\n",
    "# url주소에 포함된 한글 처리\n",
    "from urllib import parse\n",
    "word = \"ㄱㅂ\"\n",
    "url_tmp = \"www.instagram.com/explore/tags/\" + word\n",
    "url = \"https://\" + parse.quote(url_tmp)\n",
    "\n",
    "# 인스타그램 태그 사이트 접속\n",
    "driver.get(url)\n",
    "\n",
    "driver.implicitly_wait(3)\n",
    "\n",
    "body = driver.find_element_by_tag_name(\"body\")\n",
    "\n",
    "pageCnt = 45\n",
    "\n",
    "while pageCnt :\n",
    "    body.send_keys(Keys.PAGE_DOWN)\n",
    "    time.sleep(0.3)\n",
    "    pageCnt -= 1\n",
    "    \n",
    "urlLists = []\n",
    "    \n",
    "# 개별 이미지 div 리스트\n",
    "results = driver.find_elements_by_css_selector('div.v1Nh3')\n",
    "\n",
    "driver.implicitly_wait(2)\n",
    "\n",
    "print(len(results))"
   ]
  },
  {
   "cell_type": "code",
   "execution_count": 10,
   "metadata": {},
   "outputs": [],
   "source": [
    "# 21 : 최초 갯수\n",
    "# 9 : 인기게시물 갯수\n",
    "# 12\n",
    "# 20 -> 42\n",
    "# 25 -> 54 (+12)\n",
    "# 30 -> 57 (+)"
   ]
  },
  {
   "cell_type": "code",
   "execution_count": null,
   "metadata": {},
   "outputs": [],
   "source": []
  }
 ],
 "metadata": {
  "kernelspec": {
   "display_name": "Python 3",
   "language": "python",
   "name": "python3"
  },
  "language_info": {
   "codemirror_mode": {
    "name": "ipython",
    "version": 3
   },
   "file_extension": ".py",
   "mimetype": "text/x-python",
   "name": "python",
   "nbconvert_exporter": "python",
   "pygments_lexer": "ipython3",
   "version": "3.6.8"
  }
 },
 "nbformat": 4,
 "nbformat_minor": 2
}
