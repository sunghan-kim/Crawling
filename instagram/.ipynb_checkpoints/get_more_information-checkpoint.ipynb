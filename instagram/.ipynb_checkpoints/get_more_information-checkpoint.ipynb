{
 "cells": [
  {
   "cell_type": "code",
   "execution_count": 13,
   "metadata": {},
   "outputs": [],
   "source": [
    "from selenium import webdriver\n",
    "from tqdm import tqdm\n",
    "import time\n",
    "\n",
    "import pandas as pd\n",
    "import warnings\n",
    "warnings.filterwarnings(\"ignore\")"
   ]
  },
  {
   "cell_type": "markdown",
   "metadata": {},
   "source": [
    "# 좋아요 갯수 가져오기"
   ]
  },
  {
   "cell_type": "code",
   "execution_count": 2,
   "metadata": {},
   "outputs": [
    {
     "name": "stdout",
     "output_type": "stream",
     "text": [
      "103\n"
     ]
    }
   ],
   "source": [
    "# ChromeDriver\n",
    "driver = webdriver.Chrome(\"C:/shkim/util/chromedriver/chromedriver.exe\")\n",
    "\n",
    "#url = \"https://www.instagram.com/p/-_hCpMkoCz/\"\n",
    "#url = \"https://www.instagram.com/p/_Gy0ORkoPZ/\"\n",
    "url = \"https://www.instagram.com/p/_UZtwXPc5T/\"\n",
    "driver.get(url)\n",
    "\n",
    "time.sleep(3)\n",
    "\n",
    "likeDiv = driver.find_element_by_css_selector('div.Nm9Fw')\n",
    "likeSpan = likeDiv.find_element_by_tag_name('span')\n",
    "likeCnt = likeSpan.text\n",
    "\n",
    "print(likeCnt)"
   ]
  },
  {
   "cell_type": "markdown",
   "metadata": {},
   "source": [
    "# 해시태그 가져오기"
   ]
  },
  {
   "cell_type": "code",
   "execution_count": 6,
   "metadata": {},
   "outputs": [
    {
     "name": "stdout",
     "output_type": "stream",
     "text": [
      "[]\n"
     ]
    }
   ],
   "source": [
    "# ChromeDriver\n",
    "driver = webdriver.Chrome(\"C:/shkim/util/chromedriver/chromedriver.exe\")\n",
    "\n",
    "#url = \"https://www.instagram.com/p/-_hCpMkoCz/\"\n",
    "#url = \"https://www.instagram.com/p/_Gy0ORkoPZ/\"\n",
    "url = \"https://www.instagram.com/p/_UZtwXPc5T/\"\n",
    "driver.get(url)\n",
    "\n",
    "time.sleep(3)\n",
    "\n",
    "hashTagsDiv = driver.find_element_by_css_selector(\"div.C4VMK\")\n",
    "hashTagsSpan = hashTagsDiv.find_element_by_tag_name(\"span\")\n",
    "hashTags = hashTagsSpan.find_elements_by_tag_name(\"a\")\n",
    "\n",
    "hashTagList = []\n",
    "\n",
    "for i in range(len(hashTags)) :\n",
    "    hashTagList.append(hashTags[i].text)\n",
    "    \n",
    "hashTagStr = \",\".join(hashTagList)\n",
    "\n",
    "print(hashTagStr)"
   ]
  },
  {
   "cell_type": "markdown",
   "metadata": {},
   "source": [
    "# 글 내용 가져오기"
   ]
  },
  {
   "cell_type": "code",
   "execution_count": 5,
   "metadata": {},
   "outputs": [
    {
     "data": {
      "text/plain": [
       "['지나친 걱정\\n지나친 고민\\n그러다\\n지나쳐버린 행복']"
      ]
     },
     "execution_count": 5,
     "metadata": {},
     "output_type": "execute_result"
    }
   ],
   "source": [
    "driver = webdriver.Chrome(\"C:/shkim/util/chromedriver/chromedriver.exe\")\n",
    "\n",
    "#url = \"https://www.instagram.com/p/-_hCpMkoCz/\"\n",
    "#url = \"https://www.instagram.com/p/_Gy0ORkoPZ/\"\n",
    "url = \"https://www.instagram.com/p/_UZtwXPc5T/\"\n",
    "driver.get(url)\n",
    "\n",
    "time.sleep(3)\n",
    "\n",
    "contentsDiv = driver.find_element_by_css_selector(\"div.C4VMK\")\n",
    "contentsSpan = contentsDiv.find_element_by_tag_name(\"span\")\n",
    "\n",
    "l = [contentsSpan.text]\n",
    "l"
   ]
  },
  {
   "cell_type": "markdown",
   "metadata": {},
   "source": [
    "# 댓글 개수 가져오기"
   ]
  },
  {
   "cell_type": "code",
   "execution_count": 4,
   "metadata": {},
   "outputs": [
    {
     "name": "stdout",
     "output_type": "stream",
     "text": [
      "3\n"
     ]
    }
   ],
   "source": [
    "driver = webdriver.Chrome(\"C:/shkim/util/chromedriver/chromedriver.exe\")\n",
    "\n",
    "#url = \"https://www.instagram.com/p/-_hCpMkoCz/\"\n",
    "#url = \"https://www.instagram.com/p/_Gy0ORkoPZ/\"\n",
    "url = \"https://www.instagram.com/p/_UZtwXPc5T/\"\n",
    "driver.get(url)\n",
    "\n",
    "time.sleep(3)\n",
    "\n",
    "comments = driver.find_elements_by_css_selector(\"ul.Mr508\")\n",
    "\n",
    "print(len(comments))"
   ]
  },
  {
   "cell_type": "markdown",
   "metadata": {},
   "source": [
    "# 좋아요가 없는 경우"
   ]
  },
  {
   "cell_type": "code",
   "execution_count": 6,
   "metadata": {},
   "outputs": [
    {
     "name": "stdout",
     "output_type": "stream",
     "text": [
      "0\n",
      "0\n",
      "1\n",
      "1\n"
     ]
    }
   ],
   "source": [
    "driver = webdriver.Chrome(\"C:/shkim/util/chromedriver/chromedriver.exe\")\n",
    "\n",
    "#url = \"https://www.instagram.com/p/Bt550-4l9lM/\" # 좋아요 없는 이미지\n",
    "url = \"https://www.instagram.com/p/BYI20Alh5h_/\" # 비디오\n",
    "\n",
    "driver.get(url)\n",
    "\n",
    "time.sleep(3)\n",
    "\n",
    "imgCheck = driver.find_elements_by_css_selector('div.Nm9Fw')\n",
    "print(len(imgCheck))\n",
    "\n",
    "imgYn = driver.find_elements_by_css_selector('div._9AhH0')\n",
    "print(len(imgYn))\n",
    "\n",
    "vdoCheck = driver.find_elements_by_css_selector('span.vcOH2')\n",
    "print(len(vdoCheck))\n",
    "\n",
    "vdoYn = driver.find_elements_by_css_selector('a.QvAa1')\n",
    "print(len(vdoYn))"
   ]
  },
  {
   "cell_type": "markdown",
   "metadata": {},
   "source": [
    "# 이미지 및 비디오 분기"
   ]
  },
  {
   "cell_type": "code",
   "execution_count": 27,
   "metadata": {},
   "outputs": [
    {
     "name": "stdout",
     "output_type": "stream",
     "text": [
      "likeCheck :  1\n",
      "imgYn :  1\n",
      "viewCheck :  0\n",
      "vdoYn :  0\n",
      "B!!!\n",
      "post type :  ['image']\n",
      "like cnt :  ['12']\n",
      "view cnt :  ['']\n"
     ]
    }
   ],
   "source": [
    "driver = webdriver.Chrome(\"C:/shkim/util/chromedriver/chromedriver.exe\")\n",
    "\n",
    "#url = \"https://www.instagram.com/p/Bt550-4l9lM/\" # 좋아요 없는 이미지\n",
    "#url = \"https://www.instagram.com/p/BYI20Alh5h_/\" # 비디오\n",
    "url = \"https://www.instagram.com/p/BN3kgnXByZ8/\" # 좋아요 있는 이미지\n",
    "driver.get(url)\n",
    "\n",
    "time.sleep(3)\n",
    "\n",
    "post_tpList = [] # 포스트 유형 (image, video)\n",
    "like_cntList = [] # 좋아요 갯수\n",
    "view_cntList = [] # 비디오 조회수\n",
    "\n",
    "post_tp = \"\"\n",
    "\n",
    "likeCheck = driver.find_elements_by_css_selector('div.Nm9Fw') # 좋아요 여부, 0이면 좋아요 개수가 0이거나 비디오\n",
    "imgYn = driver.find_elements_by_css_selector('div._9AhH0') # likeCheck가 0 인데 imgYn이 0이 아니면 좋아요 갯수가 0개이다.\n",
    "viewCheck = driver.find_elements_by_css_selector('span.vcOH2') # 조회 여부, 0이면 조회수가 0이거나 이미지\n",
    "vdoYn = driver.find_elements_by_css_selector('a.QvAa1') # viewCheck가 0인데 vdoYn이 0이 아니면 조회수가 0회이다.\n",
    "\n",
    "if (len(likeCheck) == 0) & (len(viewCheck) == 0) : # 좋아요, 조회수가 없는 경우\n",
    "    if len(imgYn) != 0 : # 사진의 좋아요가 0\n",
    "        post_tp = \"image\"\n",
    "        like_cntList.append(\"0\")\n",
    "        view_cntList.append(\"\")\n",
    "        \n",
    "    elif len(vdoYn) != 0 : # 비디오의 조회수가 0\n",
    "        post_tp = \"video\"\n",
    "        like_cntList.append(\"\")\n",
    "        view_cntList.append(\"0\")\n",
    "        \n",
    "elif len(likeCheck) != 0 : # 좋아요 있음\n",
    "    # 좋아요 갯수 (like_cnt)\n",
    "    post_tp = \"image\"\n",
    "    like_cntArea1 = driver.find_element_by_css_selector('div.Nm9Fw')\n",
    "    like_cntArea2 = like_cntArea1.find_element_by_tag_name('span')\n",
    "    like_cnt = like_cntArea2.text\n",
    "    like_cntList.append(like_cnt)\n",
    "    view_cntList.append(\"\")   \n",
    "    \n",
    "elif len(viewCheck) != 0 : # 조회수 있음\n",
    "    # 조회수 (view_cnt)\n",
    "    post_tp = \"video\"\n",
    "    view_cntArea1 = driver.find_element_by_css_selector(\"span.vcOH2\")\n",
    "    view_cntArea2 = view_cntArea1.find_element_by_tag_name('span')\n",
    "    view_cnt = view_cntArea2.text\n",
    "    like_cntList.append(\"\")\n",
    "    view_cntList.append(view_cnt)         \n",
    "\n",
    "\n",
    "# 포스트 유형 (post_tp)        \n",
    "post_tpList.append(post_tp)\n",
    "        \n",
    "print(\"post type : \", post_tpList)\n",
    "print(\"like cnt : \", like_cntList)\n",
    "print(\"view cnt : \", view_cntList)"
   ]
  },
  {
   "cell_type": "markdown",
   "metadata": {},
   "source": [
    "# 비디오 확인"
   ]
  },
  {
   "cell_type": "code",
   "execution_count": 18,
   "metadata": {},
   "outputs": [
    {
     "name": "stdout",
     "output_type": "stream",
     "text": [
      "image\n",
      "['21']\n",
      "['']\n"
     ]
    }
   ],
   "source": [
    "driver = webdriver.Chrome(\"C:/shkim/util/chromedriver/chromedriver.exe\")\n",
    "\n",
    "url = \"https://www.instagram.com/p/Bg0FVYqAlZJ/\" # 사진\n",
    "#url = \"https://www.instagram.com/p/BYI20Alh5h_/\" # 비디오\n",
    "driver.get(url)\n",
    "\n",
    "time.sleep(3)\n",
    "\n",
    "like_cntList = [] # 사진 좋아요 갯수\n",
    "view_cntList = [] # 비디오 조회수\n",
    "post_tp = \"\"\n",
    "\n",
    "check = driver.find_elements_by_css_selector('div.Nm9Fw')\n",
    "\n",
    "if len(check) != 0 :\n",
    "    # 좋아요 갯수 (like_cnt)\n",
    "    post_tp = \"image\"\n",
    "    like_cntArea1 = driver.find_element_by_css_selector('div.Nm9Fw')\n",
    "    like_cntArea2 = like_cntArea1.find_element_by_tag_name('span')\n",
    "    like_cnt = like_cntArea2.text\n",
    "    like_cntList.append(like_cnt)    \n",
    "    view_cntList.append(\"\")\n",
    "else :\n",
    "    # 조회수 (view_cnt)\n",
    "    post_tp = \"video\"\n",
    "    view_cntArea1 = driver.find_element_by_css_selector(\"span.vcOH2\")\n",
    "    view_cntArea2 = view_cntArea1.find_element_by_tag_name('span')\n",
    "    view_cnt = view_cntArea2.text\n",
    "    like_cntList.append(\"\")\n",
    "    view_cntList.append(view_cnt)\n",
    "\n",
    "\n",
    "    \n",
    "print(post_tp)\n",
    "print(like_cntList)\n",
    "print(view_cntList)"
   ]
  },
  {
   "cell_type": "code",
   "execution_count": null,
   "metadata": {},
   "outputs": [],
   "source": [
    "driver = webdriver.PhantomJS(\"C:/shkim/util/phantomjs-2.1.1-windows/bin/phantomjs.exe\")\n",
    "\n",
    "url = \"https://www.instagram.com/p/-_hCpMkoCz/\""
   ]
  }
 ],
 "metadata": {
  "kernelspec": {
   "display_name": "Python 3",
   "language": "python",
   "name": "python3"
  },
  "language_info": {
   "codemirror_mode": {
    "name": "ipython",
    "version": 3
   },
   "file_extension": ".py",
   "mimetype": "text/x-python",
   "name": "python",
   "nbconvert_exporter": "python",
   "pygments_lexer": "ipython3",
   "version": "3.6.8"
  }
 },
 "nbformat": 4,
 "nbformat_minor": 2
}
