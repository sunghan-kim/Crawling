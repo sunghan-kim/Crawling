{
 "cells": [
  {
   "cell_type": "code",
   "execution_count": 21,
   "metadata": {},
   "outputs": [],
   "source": [
    "# https://cnpnote.tistory.com/entry/PYTHON-%ED%8C%8C%EC%9D%B4%EC%8D%AC%EC%97%90%EC%84%9C-selenium-webdriver%EB%A5%BC-%EC%82%AC%EC%9A%A9%ED%95%98%EC%97%AC-%EC%9B%B9-%ED%8E%98%EC%9D%B4%EC%A7%80%EB%A5%BC-%EC%8A%A4%ED%81%AC%EB%A1%A4%ED%95%98%EB%8A%94-%EB%B0%A9%EB%B2%95%EC%9D%80-%EB%AC%B4%EC%97%87%EC%9E%85%EB%8B%88%EA%B9%8C\n",
    "# https://code-ing.tistory.com/6\n",
    "# https://cnpnote.tistory.com/entry/PYTHON-파이썬에서-selenium-webdriver를-사용하여-웹-페이지를-스크롤하는-방법은-무엇입니까"
   ]
  },
  {
   "cell_type": "code",
   "execution_count": 73,
   "metadata": {},
   "outputs": [],
   "source": [
    "from selenium import webdriver\n",
    "from selenium.webdriver.common.keys import Keys\n",
    "from tqdm import tqdm\n",
    "import time\n",
    "\n",
    "import pandas as pd\n",
    "import warnings\n",
    "warnings.filterwarnings(\"ignore\")"
   ]
  },
  {
   "cell_type": "code",
   "execution_count": 74,
   "metadata": {},
   "outputs": [
    {
     "ename": "IndexError",
     "evalue": "list index out of range",
     "output_type": "error",
     "traceback": [
      "\u001b[1;31m---------------------------------------------------------------------------\u001b[0m",
      "\u001b[1;31mIndexError\u001b[0m                                Traceback (most recent call last)",
      "\u001b[1;32m<ipython-input-74-1bf98c7e3b74>\u001b[0m in \u001b[0;36m<module>\u001b[1;34m\u001b[0m\n\u001b[0;32m     12\u001b[0m \u001b[0mdriver\u001b[0m\u001b[1;33m.\u001b[0m\u001b[0mimplicitly_wait\u001b[0m\u001b[1;33m(\u001b[0m\u001b[1;36m3\u001b[0m\u001b[1;33m)\u001b[0m\u001b[1;33m\u001b[0m\u001b[1;33m\u001b[0m\u001b[0m\n\u001b[0;32m     13\u001b[0m \u001b[1;33m\u001b[0m\u001b[0m\n\u001b[1;32m---> 14\u001b[1;33m \u001b[0mtotalCnt\u001b[0m \u001b[1;33m=\u001b[0m \u001b[0mdriver\u001b[0m\u001b[1;33m.\u001b[0m\u001b[0mfind_elements_by_css_selector\u001b[0m\u001b[1;33m(\u001b[0m\u001b[1;34m'span.g47SY '\u001b[0m\u001b[1;33m)\u001b[0m\u001b[1;33m[\u001b[0m\u001b[1;36m0\u001b[0m\u001b[1;33m]\u001b[0m\u001b[1;33m.\u001b[0m\u001b[0mtext\u001b[0m\u001b[1;33m\u001b[0m\u001b[1;33m\u001b[0m\u001b[0m\n\u001b[0m\u001b[0;32m     15\u001b[0m \u001b[1;33m\u001b[0m\u001b[0m\n\u001b[0;32m     16\u001b[0m \u001b[0mprint\u001b[0m\u001b[1;33m(\u001b[0m\u001b[1;34m'totalCnt : '\u001b[0m\u001b[1;33m,\u001b[0m \u001b[0mtotalCnt\u001b[0m\u001b[1;33m)\u001b[0m\u001b[1;33m\u001b[0m\u001b[1;33m\u001b[0m\u001b[0m\n",
      "\u001b[1;31mIndexError\u001b[0m: list index out of range"
     ]
    }
   ],
   "source": [
    "driver = webdriver.Chrome(\"C:/shkim/util/chromedriver/chromedriver.exe\")\n",
    "\n",
    "# url주소에 포함된 한글 처리\n",
    "from urllib import parse\n",
    "word = \"ㄱㅂㅇ\"\n",
    "url_tmp = \"www.instagram.com/explore/tags/\" + word\n",
    "url = \"https://\" + parse.quote(url_tmp)\n",
    "\n",
    "# 인스타그램 태그 사이트 접속\n",
    "driver.get(url)\n",
    "\n",
    "driver.implicitly_wait(3)\n",
    "\n",
    "#totalCnt = driver.find_elements_by_css_selector('span.g47SY ')[0].text\n",
    "\n",
    "#print('totalCnt : ', totalCnt)\n",
    "\n",
    "\n",
    "SCROLL_PAUSE_TIME = 1.5\n",
    "CURRENT_CNT = 0\n",
    "\n",
    "urlLists = []\n",
    "\n",
    "last_height = \"\"\n",
    "new_height = \"\"\n",
    "print(\"Last Height : \", last_height)\n",
    "\n",
    "while True :\n",
    "    \n",
    "    last_height = driver.execute_script(\"return document.body.scrollHeight\")\n",
    "    \n",
    "    # Scroll down to bottom\n",
    "    driver.execute_script(\"window.scrollTo(0, document.body.scrollHeight)\")\n",
    "    \n",
    "    # Wait to load page\n",
    "    time.sleep(SCROLL_PAUSE_TIME)\n",
    "    \n",
    "    # Calculate new scroll height and compare with last scroll height\n",
    "    new_height = driver.execute_script(\"return document.body.scrollHeight\")\n",
    "    \n",
    "    print('last height : ', last_height)\n",
    "    print('new height : ', new_height)\n",
    "    \n",
    "    if new_height != last_height :\n",
    "        \n",
    "        # 개별 이미지 div 리스트\n",
    "        results = driver.find_elements_by_css_selector('div.v1Nh3')\n",
    "        \n",
    "        for i in tqdm(range(len(results))) :\n",
    "            # 개별 이미지의 링크 획득\n",
    "            link = results[i].find_element_by_tag_name('a')\n",
    "            href = link.get_attribute('href')\n",
    "            urlLists.append(href)        \n",
    "        \n",
    "        last_height = new_height\n",
    "        continue\n",
    "    else :\n",
    "        \n",
    "        # 개별 이미지 div 리스트\n",
    "        results = driver.find_elements_by_css_selector('div.v1Nh3')\n",
    "        \n",
    "        for i in tqdm(range(len(results))) :\n",
    "            # 개별 이미지의 링크 획득\n",
    "            link = results[i].find_element_by_tag_name('a')\n",
    "            href = link.get_attribute('href')\n",
    "            urlLists.append(href)\n",
    "        \n",
    "        break"
   ]
  },
  {
   "cell_type": "code",
   "execution_count": 17,
   "metadata": {},
   "outputs": [
    {
     "data": {
      "text/plain": [
       "234"
      ]
     },
     "execution_count": 17,
     "metadata": {},
     "output_type": "execute_result"
    }
   ],
   "source": [
    "# 중복 제거\n",
    "urlLists = list(set(urlLists))\n",
    "print(len(urlLists))"
   ]
  },
  {
   "cell_type": "markdown",
   "metadata": {},
   "source": [
    "# 일자 가져오기"
   ]
  },
  {
   "cell_type": "code",
   "execution_count": 18,
   "metadata": {},
   "outputs": [
    {
     "name": "stderr",
     "output_type": "stream",
     "text": [
      "100%|████████████████████████████████████████████████████████████████████████████████| 234/234 [13:13<00:00,  4.25s/it]\n"
     ]
    },
    {
     "data": {
      "text/plain": [
       "234"
      ]
     },
     "execution_count": 18,
     "metadata": {},
     "output_type": "execute_result"
    }
   ],
   "source": [
    "driver = webdriver.PhantomJS(\"C:/shkim/util/phantomjs-2.1.1-windows/bin/phantomjs.exe\")\n",
    "\n",
    "dateLists = []\n",
    "\n",
    "for i in tqdm(range(len(urlLists2))) :\n",
    "    \n",
    "    # print(urlLists[i], \" Start\")\n",
    "    \n",
    "    driver.get(urlLists2[i])\n",
    "    \n",
    "    driver.implicitly_wait(2)\n",
    "    \n",
    "    time = driver.find_element_by_css_selector('time._1o9PC')\n",
    "    timeval = time.get_attribute('datetime')\n",
    "    val = timeval[:10].replace(\"-\",\"\")\n",
    "    dateLists.append(val)\n",
    "    \n",
    "    # print(urlLists[i], \" Done\")\n",
    "    #driver.quit()\n",
    "    \n",
    "len(dateLists)"
   ]
  },
  {
   "cell_type": "code",
   "execution_count": 40,
   "metadata": {},
   "outputs": [],
   "source": [
    "import pandas as pd\n",
    "\n",
    "df = pd.DataFrame({\"URL\": urlLists2, \"Date\": dateLists})\n",
    "df = df.sort_values(by=\"Date\")\n",
    "df = df.reset_index()\n",
    "df.drop([\"index\"], axis=1, inplace=True)"
   ]
  },
  {
   "cell_type": "code",
   "execution_count": 58,
   "metadata": {},
   "outputs": [
    {
     "name": "stderr",
     "output_type": "stream",
     "text": [
      "100%|█████████████████████████████████████████████████████████████████████████████| 234/234 [00:00<00:00, 58250.76it/s]\n"
     ]
    }
   ],
   "source": [
    "data = []\n",
    "\n",
    "for i in tqdm(range(df.shape[0])) :\n",
    "    \n",
    "    data.append((word, df.loc[i, 'URL'], df.loc[i, 'Date']))"
   ]
  },
  {
   "cell_type": "markdown",
   "metadata": {},
   "source": [
    "# DB 입력"
   ]
  },
  {
   "cell_type": "code",
   "execution_count": 61,
   "metadata": {},
   "outputs": [],
   "source": [
    "import cx_Oracle\n",
    "\n",
    "conn = cx_Oracle.connect(\"SHKIM/1234@localhost:1521/orcl\")\n",
    "cursor = conn.cursor()"
   ]
  },
  {
   "cell_type": "code",
   "execution_count": 62,
   "metadata": {},
   "outputs": [
    {
     "name": "stdout",
     "output_type": "stream",
     "text": [
      "[]\n"
     ]
    }
   ],
   "source": [
    "query = \"\"\"\n",
    "SELECT *\n",
    "  FROM INSTAGRAM\n",
    "\"\"\"\n",
    "\n",
    "cursor.execute(query)\n",
    "print(cursor.fetchall())"
   ]
  },
  {
   "cell_type": "code",
   "execution_count": 71,
   "metadata": {},
   "outputs": [],
   "source": [
    "query = \"\"\"\n",
    "INSERT INTO INSTAGRAM\n",
    "VALUES\n",
    "(:1, :2, :3)\n",
    "\"\"\"\n",
    "\n",
    "cursor.executemany(query, data)"
   ]
  },
  {
   "cell_type": "code",
   "execution_count": 72,
   "metadata": {},
   "outputs": [],
   "source": [
    "conn.commit()"
   ]
  },
  {
   "cell_type": "code",
   "execution_count": null,
   "metadata": {},
   "outputs": [],
   "source": [
    "conn.close()"
   ]
  }
 ],
 "metadata": {
  "kernelspec": {
   "display_name": "Python 3",
   "language": "python",
   "name": "python3"
  },
  "language_info": {
   "codemirror_mode": {
    "name": "ipython",
    "version": 3
   },
   "file_extension": ".py",
   "mimetype": "text/x-python",
   "name": "python",
   "nbconvert_exporter": "python",
   "pygments_lexer": "ipython3",
   "version": "3.6.8"
  }
 },
 "nbformat": 4,
 "nbformat_minor": 2
}
