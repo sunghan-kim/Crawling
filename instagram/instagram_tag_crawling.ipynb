{
 "cells": [
  {
   "cell_type": "code",
   "execution_count": 21,
   "metadata": {},
   "outputs": [],
   "source": [
    "# https://cnpnote.tistory.com/entry/PYTHON-%ED%8C%8C%EC%9D%B4%EC%8D%AC%EC%97%90%EC%84%9C-selenium-webdriver%EB%A5%BC-%EC%82%AC%EC%9A%A9%ED%95%98%EC%97%AC-%EC%9B%B9-%ED%8E%98%EC%9D%B4%EC%A7%80%EB%A5%BC-%EC%8A%A4%ED%81%AC%EB%A1%A4%ED%95%98%EB%8A%94-%EB%B0%A9%EB%B2%95%EC%9D%80-%EB%AC%B4%EC%97%87%EC%9E%85%EB%8B%88%EA%B9%8C\n",
    "# https://code-ing.tistory.com/6\n",
    "# https://cnpnote.tistory.com/entry/PYTHON-파이썬에서-selenium-webdriver를-사용하여-웹-페이지를-스크롤하는-방법은-무엇입니까"
   ]
  },
  {
   "cell_type": "markdown",
   "metadata": {},
   "source": [
    "# 라이브러리 임포트"
   ]
  },
  {
   "cell_type": "code",
   "execution_count": 1,
   "metadata": {},
   "outputs": [],
   "source": [
    "from selenium import webdriver\n",
    "from selenium.webdriver.common.keys import Keys\n",
    "from tqdm import tqdm\n",
    "import time\n",
    "\n",
    "import pandas as pd\n",
    "import warnings\n",
    "warnings.filterwarnings(\"ignore\")"
   ]
  },
  {
   "cell_type": "markdown",
   "metadata": {},
   "source": [
    "# 태그명별 포스트 URL 크롤링"
   ]
  },
  {
   "cell_type": "code",
   "execution_count": 17,
   "metadata": {},
   "outputs": [
    {
     "name": "stdout",
     "output_type": "stream",
     "text": [
      "last height :  4166 , new height :  5450\n",
      "last height :  5450 , new height :  6734\n",
      "last height :  6734 , new height :  8018\n",
      "last height :  8018 , new height :  9302\n",
      "last height :  9302 , new height :  10586\n",
      "last height :  10586 , new height :  11870\n",
      "last height :  11870 , new height :  13154\n",
      "last height :  13154 , new height :  14438\n",
      "last height :  14438 , new height :  15722\n",
      "last height :  15722 , new height :  16685\n",
      "last height :  16685 , new height :  18290\n",
      "last height :  18290 , new height :  19253\n",
      "last height :  19253 , new height :  20858\n",
      "last height :  20858 , new height :  21821\n",
      "last height :  21821 , new height :  23426\n",
      "last height :  23426 , new height :  24068\n",
      "last height :  24068 , new height :  25352\n",
      "last height :  25352 , new height :  25264\n",
      "last height :  25264 , new height :  25264\n"
     ]
    }
   ],
   "source": [
    "# Chrome Driver\n",
    "driver = webdriver.Chrome(\"C:/shkim/util/chromedriver/chromedriver.exe\")\n",
    "\n",
    "from urllib import parse\n",
    "TAG_NAME = \"ㄱㅂㅇ\"\n",
    "url_tmp = \"www.instagram.com/explore/tags/\" + TAG_NAME\n",
    "url = \"https://\" + parse.quote(url_tmp) # url주소에 포함된 한글 처리\n",
    "\n",
    "# 인스타그램 태그 사이트 접속\n",
    "driver.get(url)\n",
    "\n",
    "time.sleep(2)\n",
    "\n",
    "\n",
    "SCROLL_PAUSE_TIME = 1.6\n",
    "\n",
    "urlList = [] \n",
    "\n",
    "last_height = \"\"\n",
    "new_height = \"\"\n",
    "\n",
    "while True :\n",
    "    \n",
    "    last_height = driver.execute_script(\"return document.body.scrollHeight\")\n",
    "    \n",
    "    # Scroll down to bottom\n",
    "    driver.execute_script(\"window.scrollTo(0, document.body.scrollHeight)\")\n",
    "    \n",
    "    #body = driver.find_element_by_tag_name(\"body\")\n",
    "    #body.send_keys(Keys.PAGE_DOWN)\n",
    "    \n",
    "    # Wait to load page\n",
    "    time.sleep(SCROLL_PAUSE_TIME) # 인터넷 속도도 중요하다..\n",
    "    \n",
    "    # Calculate new scroll height and compare with last scroll height\n",
    "    new_height = driver.execute_script(\"return document.body.scrollHeight\")\n",
    "    \n",
    "    print('last height : ', last_height, \", new height : \", new_height)\n",
    "    \n",
    "    if new_height != last_height :\n",
    "        \n",
    "        # 개별 이미지 div 리스트\n",
    "        results = driver.find_elements_by_css_selector('div.v1Nh3')\n",
    "        \n",
    "        for i in range(len(results)) :\n",
    "            # 개별 이미지의 링크 획득\n",
    "            link = results[i].find_element_by_tag_name('a')\n",
    "            href = link.get_attribute('href')\n",
    "            urlList.append(href)        \n",
    "        \n",
    "        last_height = new_height\n",
    "        continue\n",
    "    else :\n",
    "        \n",
    "        # 개별 이미지 div 리스트\n",
    "        results = driver.find_elements_by_css_selector('div.v1Nh3')\n",
    "        \n",
    "        for i in range(len(results)) :\n",
    "            # 개별 이미지의 링크 획득\n",
    "            link = results[i].find_element_by_tag_name('a')\n",
    "            href = link.get_attribute('href')\n",
    "            urlList.append(href)\n",
    "        \n",
    "        break"
   ]
  },
  {
   "cell_type": "code",
   "execution_count": 18,
   "metadata": {},
   "outputs": [
    {
     "name": "stdout",
     "output_type": "stream",
     "text": [
      "Before deduplication :  933\n",
      "After deduplication :  231\n"
     ]
    }
   ],
   "source": [
    "# 중복 제거\n",
    "print(\"Before deduplication : \", len(urlList))\n",
    "urlList = list(set(urlList))\n",
    "print(\"After deduplication : \", len(urlList))"
   ]
  },
  {
   "cell_type": "markdown",
   "metadata": {},
   "source": [
    "# 각 포스트별 내용 가져오기"
   ]
  },
  {
   "cell_type": "code",
   "execution_count": 40,
   "metadata": {},
   "outputs": [
    {
     "name": "stdout",
     "output_type": "stream",
     "text": [
      "1  :  https://www.instagram.com/p/BN3kgnXByZ8/  start...\n",
      "Finish!!\n"
     ]
    }
   ],
   "source": [
    "driver = webdriver.PhantomJS(\"C:/shkim/util/phantomjs-2.1.1-windows/bin/phantomjs.exe\")\n",
    "\n",
    "post_dateList = [] # 일자\n",
    "post_tpList = [] # 포스트 유형 (image, video)\n",
    "like_cntList = [] # 좋아요 갯수\n",
    "view_cntList = [] # 비디오 조회수\n",
    "cmt_cntList = [] # 댓글 갯수\n",
    "contentList = [] # 글 내용\n",
    "hashtagsList = [] # 해시태그 (\",\"으로 연결)\n",
    "\n",
    "for i in range(len(urlList)) :\n",
    "    \n",
    "    print((i+1), \" : \", urlList[i], \" start...\")\n",
    "    \n",
    "    driver.get(urlList[i])\n",
    "    \n",
    "    driver.implicitly_wait(2)\n",
    "    \n",
    "    try :\n",
    "        # 포스팅 날짜(post_date)\n",
    "        post_dateArea1 = driver.find_element_by_css_selector('time._1o9PC')\n",
    "        post_dateArea2 = post_dateArea1.get_attribute('datetime')\n",
    "        post_date = post_dateArea2[:10].replace(\"-\",\"\")\n",
    "        post_dateList.append(post_date)\n",
    "\n",
    "        ##########################################################################\n",
    "        \n",
    "        post_tp = \"\"\n",
    "\n",
    "        likeCheck = driver.find_elements_by_css_selector('div.Nm9Fw') # 좋아요 여부, 0이면 좋아요 개수가 0이거나 비디오\n",
    "        imgYn = driver.find_elements_by_css_selector('div._9AhH0') # likeCheck가 0 인데 imgYn이 0이 아니면 좋아요 갯수가 0개이다.\n",
    "        viewCheck = driver.find_elements_by_css_selector('span.vcOH2') # 조회 여부, 0이면 조회수가 0이거나 이미지\n",
    "        vdoYn = driver.find_elements_by_css_selector('a.QvAa1') # viewCheck가 0인데 vdoYn이 0이 아니면 조회수가 0회이다.\n",
    "\n",
    "        if (len(likeCheck) == 0) & (len(viewCheck) == 0) : # 좋아요, 조회수가 없는 경우\n",
    "            if len(imgYn) != 0 : # 사진의 좋아요가 0\n",
    "                post_tp = \"image\"\n",
    "                like_cntList.append(\"0\")\n",
    "                view_cntList.append(\"0\")\n",
    "\n",
    "            elif len(vdoYn) != 0 : # 비디오의 조회수가 0\n",
    "                post_tp = \"video\"\n",
    "                like_cntList.append(\"0\")\n",
    "                view_cntList.append(\"0\")\n",
    "\n",
    "        elif len(likeCheck) != 0 : # 좋아요 있음\n",
    "            # 좋아요 갯수 (like_cnt)\n",
    "            post_tp = \"image\"\n",
    "            like_cntArea1 = driver.find_element_by_css_selector('div.Nm9Fw')\n",
    "            like_cntArea2 = like_cntArea1.find_element_by_tag_name('span')\n",
    "            like_cnt = like_cntArea2.text\n",
    "            like_cntList.append(like_cnt)\n",
    "            view_cntList.append(\"0\")   \n",
    "\n",
    "        elif len(viewCheck) != 0 : # 조회수 있음\n",
    "            # 조회수 (view_cnt)\n",
    "            post_tp = \"video\"\n",
    "            view_cntArea1 = driver.find_element_by_css_selector(\"span.vcOH2\")\n",
    "            view_cntArea2 = view_cntArea1.find_element_by_tag_name('span')\n",
    "            view_cnt = view_cntArea2.text\n",
    "            like_cntList.append(\"0\")\n",
    "            view_cntList.append(view_cnt)         \n",
    "\n",
    "\n",
    "        # 포스트 유형 (post_tp)        \n",
    "        post_tpList.append(post_tp)\n",
    "            \n",
    "        ##########################################################################\n",
    "        \n",
    "        # 댓글 갯수 (cmt_cnt)\n",
    "        cmt_cntArea1 = driver.find_elements_by_css_selector(\"ul.Mr508\")\n",
    "        cmt_cnt = len(cmt_cntArea1)\n",
    "        cmt_cntList.append(cmt_cnt)\n",
    "\n",
    "        # 글 내용 (content)\n",
    "        contentArea1 = driver.find_element_by_css_selector(\"div.C4VMK\")\n",
    "        contentArea2 = contentArea1.find_element_by_tag_name(\"span\")\n",
    "        content = contentArea2.text\n",
    "        contentList.append(content)\n",
    "\n",
    "        # 해시태그 (hashtags)\n",
    "        hashtags = contentArea2.find_elements_by_tag_name(\"a\")\n",
    "        tmp = []\n",
    "        for i in range(len(hashtags)) :\n",
    "            tmp.append(hashtags[i].text)\n",
    "        hashtagsList.append(\",\".join(tmp))\n",
    "        \n",
    "    except :\n",
    "        print(print((i+1), \" : \", urlList[i], \" fail!!!\"))\n",
    "        continue\n",
    "    \n",
    "print(\"Finish!!\")"
   ]
  },
  {
   "cell_type": "code",
   "execution_count": 22,
   "metadata": {},
   "outputs": [
    {
     "name": "stdout",
     "output_type": "stream",
     "text": [
      "230\n",
      "230\n",
      "230\n",
      "230\n",
      "230\n",
      "230\n",
      "230\n"
     ]
    }
   ],
   "source": [
    "print(len(post_dateList))\n",
    "print(len(post_tpList))\n",
    "print(len(like_cntList))\n",
    "print(len(view_cntList))\n",
    "print(len(cmt_cntList))\n",
    "print(len(contentList))\n",
    "print(len(hashtagsList))"
   ]
  },
  {
   "cell_type": "code",
   "execution_count": 28,
   "metadata": {},
   "outputs": [],
   "source": [
    "import pandas as pd\n",
    "\n",
    "instagram = pd.DataFrame({\"URL\": urlList, \n",
    "                           \"PostDate\": post_dateList,\n",
    "                           \"PostTp\": post_tpList,\n",
    "                           \"LikeCnt\": like_cntList,\n",
    "                           \"ViewCnt\": view_cntList,\n",
    "                           \"CmtCnt\": cmt_cntList,\n",
    "                           \"Content\": contentList,\n",
    "                           \"Hashtags\": hashtagsList})\n",
    "instagram = instagram.sort_values(by=\"PostDate\")\n",
    "instagram = instagram.reset_index()\n",
    "instagram.drop([\"index\"], axis=1, inplace=True)"
   ]
  },
  {
   "cell_type": "code",
   "execution_count": 70,
   "metadata": {},
   "outputs": [
    {
     "name": "stderr",
     "output_type": "stream",
     "text": [
      "100%|████████████████████████████████████████████████████████████████████████████████████████████| 1/1 [00:00<?, ?it/s]\n"
     ]
    }
   ],
   "source": [
    "instagram_data = []\n",
    "\n",
    "for i in tqdm(range(instagram.shape[0])) :\n",
    "    \n",
    "    instagram_data.append((TAG_NAME, \n",
    "                            instagram.loc[i, 'URL'], \n",
    "                            instagram.loc[i, 'PostDate'],\n",
    "                            instagram.loc[i, 'PostTp'],\n",
    "                            int(instagram.loc[i, 'LikeCnt']),\n",
    "                            int(instagram.loc[i, 'ViewCnt']),\n",
    "                            int(instagram.loc[i, 'CmtCnt']),\n",
    "                            instagram.loc[i, 'Content'],\n",
    "                            instagram.loc[i, 'Hashtags']))"
   ]
  },
  {
   "cell_type": "markdown",
   "metadata": {},
   "source": [
    "# DB 입력"
   ]
  },
  {
   "cell_type": "code",
   "execution_count": 71,
   "metadata": {},
   "outputs": [],
   "source": [
    "import cx_Oracle\n",
    "\n",
    "conn = cx_Oracle.connect(\"SHKIM/1234@localhost:1521/orcl\")\n",
    "cursor = conn.cursor()"
   ]
  },
  {
   "cell_type": "code",
   "execution_count": 72,
   "metadata": {},
   "outputs": [
    {
     "name": "stdout",
     "output_type": "stream",
     "text": [
      "[]\n"
     ]
    }
   ],
   "source": [
    "query = \"\"\"\n",
    "SELECT *\n",
    "  FROM INSTAGRAM\n",
    "\"\"\"\n",
    "\n",
    "cursor.execute(query)\n",
    "print(cursor.fetchall())"
   ]
  },
  {
   "cell_type": "code",
   "execution_count": 75,
   "metadata": {},
   "outputs": [],
   "source": [
    "query = \"\"\"\n",
    "INSERT INTO INSTAGRAM\n",
    "VALUES\n",
    "(:1, :2, :3, :4, :5, :6, :7, :8, :9)\n",
    "\"\"\"\n",
    "\n",
    "cursor.executemany(query, instagram_data)"
   ]
  },
  {
   "cell_type": "code",
   "execution_count": 76,
   "metadata": {},
   "outputs": [],
   "source": [
    "conn.commit()"
   ]
  },
  {
   "cell_type": "code",
   "execution_count": 77,
   "metadata": {},
   "outputs": [],
   "source": [
    "conn.close()"
   ]
  }
 ],
 "metadata": {
  "kernelspec": {
   "display_name": "Python 3",
   "language": "python",
   "name": "python3"
  },
  "language_info": {
   "codemirror_mode": {
    "name": "ipython",
    "version": 3
   },
   "file_extension": ".py",
   "mimetype": "text/x-python",
   "name": "python",
   "nbconvert_exporter": "python",
   "pygments_lexer": "ipython3",
   "version": "3.6.8"
  }
 },
 "nbformat": 4,
 "nbformat_minor": 2
}
