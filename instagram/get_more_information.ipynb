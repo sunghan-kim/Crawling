{
 "cells": [
  {
   "cell_type": "code",
   "execution_count": 1,
   "metadata": {},
   "outputs": [],
   "source": [
    "from selenium import webdriver\n",
    "from tqdm import tqdm\n",
    "import time\n",
    "\n",
    "import pandas as pd\n",
    "import warnings\n",
    "warnings.filterwarnings(\"ignore\")"
   ]
  },
  {
   "cell_type": "markdown",
   "metadata": {},
   "source": [
    "# 좋아요 갯수 가져오기"
   ]
  },
  {
   "cell_type": "code",
   "execution_count": 10,
   "metadata": {},
   "outputs": [
    {
     "name": "stdout",
     "output_type": "stream",
     "text": [
      "103\n"
     ]
    }
   ],
   "source": [
    "# ChromeDriver\n",
    "driver = webdriver.Chrome(\"C:/shkim/util/chromedriver/chromedriver.exe\")\n",
    "\n",
    "#url = \"https://www.instagram.com/p/-_hCpMkoCz/\"\n",
    "#url = \"https://www.instagram.com/p/_Gy0ORkoPZ/\"\n",
    "url = \"https://www.instagram.com/p/_UZtwXPc5T/\"\n",
    "driver.get(url)\n",
    "\n",
    "time.sleep(3)\n",
    "\n",
    "likeDiv = driver.find_element_by_css_selector('div.Nm9Fw')\n",
    "likeSpan = likeDiv.find_element_by_tag_name('span')\n",
    "likeCnt = likeSpan.text\n",
    "\n",
    "print(likeCnt)"
   ]
  },
  {
   "cell_type": "markdown",
   "metadata": {},
   "source": [
    "# 해시태그 가져오기"
   ]
  },
  {
   "cell_type": "code",
   "execution_count": 9,
   "metadata": {},
   "outputs": [
    {
     "name": "stdout",
     "output_type": "stream",
     "text": [
      "#글배우,#ㄱㅂㅇ,#Korean,#calli,#calligraphy,#캘리그라피,#캘리그래피,#캘리,#캘스타그램,#글스타그램,#손글씨,#글씨,#글,#글귀,#토닥토닥,#힐링,#위로,#쑥떡캘리,#쑥떡,#겨울\n"
     ]
    }
   ],
   "source": [
    "# ChromeDriver\n",
    "driver = webdriver.Chrome(\"C:/shkim/util/chromedriver/chromedriver.exe\")\n",
    "\n",
    "#url = \"https://www.instagram.com/p/-_hCpMkoCz/\"\n",
    "#url = \"https://www.instagram.com/p/_Gy0ORkoPZ/\"\n",
    "url = \"https://www.instagram.com/p/_UZtwXPc5T/\"\n",
    "driver.get(url)\n",
    "\n",
    "time.sleep(3)\n",
    "\n",
    "hashTagsDiv = driver.find_element_by_css_selector(\"div.C4VMK\")\n",
    "hashTagsSpan = contentDiv.find_element_by_tag_name(\"span\")\n",
    "hashTags = contentSpan.find_elements_by_tag_name(\"a\")\n",
    "\n",
    "hashTagList = []\n",
    "\n",
    "for i in range(len(hashTags)) :\n",
    "    hashTagList.append(hashTags[i].text)\n",
    "    \n",
    "hashTagStr = \",\".join(hashTagList)\n",
    "\n",
    "print(hashTagStr)"
   ]
  },
  {
   "cell_type": "code",
   "execution_count": null,
   "metadata": {},
   "outputs": [],
   "source": [
    "driver = webdriver.PhantomJS(\"C:/shkim/util/phantomjs-2.1.1-windows/bin/phantomjs.exe\")\n",
    "\n",
    "url = \"https://www.instagram.com/p/-_hCpMkoCz/\""
   ]
  }
 ],
 "metadata": {
  "kernelspec": {
   "display_name": "Python 3",
   "language": "python",
   "name": "python3"
  },
  "language_info": {
   "codemirror_mode": {
    "name": "ipython",
    "version": 3
   },
   "file_extension": ".py",
   "mimetype": "text/x-python",
   "name": "python",
   "nbconvert_exporter": "python",
   "pygments_lexer": "ipython3",
   "version": "3.6.8"
  }
 },
 "nbformat": 4,
 "nbformat_minor": 2
}
